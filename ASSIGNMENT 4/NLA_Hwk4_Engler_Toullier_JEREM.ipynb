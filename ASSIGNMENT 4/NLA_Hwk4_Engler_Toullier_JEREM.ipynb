{
 "cells": [
  {
   "cell_type": "markdown",
   "metadata": {},
   "source": [
    "# Non linear analysis - Assignment 3"
   ]
  },
  {
   "cell_type": "markdown",
   "metadata": {},
   "source": [
    "18.10.2023 - Jérémie Engler and Laure Toullier"
   ]
  },
  {
   "cell_type": "code",
   "execution_count": 2,
   "metadata": {},
   "outputs": [],
   "source": [
    "#imports\n",
    "\n",
    "import numpy as np\n",
    "import matplotlib.pyplot as plt\n",
    "plt.style.use('bmh')\n",
    "import math\n",
    "import pandas as pd\n",
    "\n",
    "np.set_printoptions(precision=5, suppress=True, linewidth=150)\n",
    "\n",
    "Params = plt.rcParams\n",
    "Params['figure.figsize'] = (14, 7) "
   ]
  },
  {
   "cell_type": "markdown",
   "metadata": {},
   "source": [
    "General data"
   ]
  },
  {
   "cell_type": "code",
   "execution_count": 110,
   "metadata": {},
   "outputs": [
    {
     "name": "stdout",
     "output_type": "stream",
     "text": [
      "(2, 2)\n"
     ]
    }
   ],
   "source": [
    "E = 200e3 #Mpa\n",
    "poisson = 0\n",
    "sigma_y = 400 #Mpa\n",
    "\n",
    "eps_0 = np.zeros((2,))\n",
    "sigma_0 = np.zeros((2,))\n",
    "\n",
    "strain_incr = np.array([0.003,0.004])\n",
    "\n",
    "d = E/(1 - poisson**2) #Factor of the constitutive matrix\n",
    "\n",
    "D = np.full((2,2), poisson)\n",
    "np.fill_diagonal(D, 1)\n",
    "D = D * d\n"
   ]
  },
  {
   "cell_type": "code",
   "execution_count": 141,
   "metadata": {},
   "outputs": [],
   "source": [
    "def stress_incr_computation(strain_incr, plastic_strain_incr, n, D):\n",
    "    if plastic_strain_incr.all() == 0:\n",
    "        stress_incr = D @ strain_incr\n",
    "    else:\n",
    "        stress_incr = (D - (D @ n.T @ n @ D) / (n @ D @ n.T)) @ plastic_strain_incr\n",
    "        correction_factor = (D @ n.T @ n @ D) / (n @ D @ n.T)\n",
    "        trial_factor = D\n",
    "\n",
    "    return stress_incr\n",
    "\n",
    "def check_failure(stress):\n",
    "    fail = False\n",
    "    criterion = stress[0]**2 + stress[1]**2 - stress[0] * stress[1] - sigma_y ** 2\n",
    "\n",
    "    if criterion > 0:\n",
    "        fail = True\n",
    "\n",
    "    return fail\n",
    "\n",
    "def failure_value(stress):\n",
    "    criterion = stress[0]**2 + stress[1]**2 - stress[0] * stress[1] - sigma_y ** 2\n",
    "\n",
    "    return criterion\n",
    "\n",
    "def strain_decomposition(strain_incr, alpha):\n",
    "    elastic_strain_incr = alpha * strain_incr\n",
    "    plastic_strain_incr = (1 - alpha) * strain_incr\n",
    "\n",
    "    return elastic_strain_incr, plastic_strain_incr\n",
    "\n",
    "def norm_criterion_surface(stress_y):\n",
    "    n1 = 2 * stress_y[0] - stress_y[1]\n",
    "    n2 = 2 * stress_y[1] - stress_y[0]\n",
    "    n = np.array([[n1,n2]])\n",
    "    return n"
   ]
  },
  {
   "cell_type": "code",
   "execution_count": 146,
   "metadata": {},
   "outputs": [
    {
     "name": "stdout",
     "output_type": "stream",
     "text": [
      "Stress at first step: [600. 800.] Mpa \n",
      "Criterion value at first step = 2.9103830456733704e-11\n",
      "Yielding stress at first step: [332.82012 443.76016] Mpa \n",
      "\n",
      "Plastic strain increment = [0.00134 0.00178]\n",
      "Plastic strain sub_increment = [0.00067 0.00089] \n",
      "\n",
      "n1 = [[221.88008 554.7002 ]]\n",
      "Δσ1 = [ 53.74308 -21.49723]\n",
      "Stress, sub-increment 1: [386.5632  422.26293] Mpa \n",
      "\n",
      "n2 = [[350.86347 457.96265]]\n",
      "Δσ2 = [-1.81153  1.38788]\n",
      "Stress, sub-increment 2: [384.75167 423.65081] Mpa \n",
      "\n",
      "Stress with 2 sub-increments: [384.75167 423.65081] Mpa\n",
      "Criterion value = 4513.499097270338\n"
     ]
    }
   ],
   "source": [
    "# Stress increment from strain increment\n",
    "\n",
    "plastic_strain_incr = np.zeros((2,))\n",
    "n = np.zeros((2,))\n",
    "\n",
    "# First forward step\n",
    "\n",
    "stress_incr = stress_incr_computation(strain_incr, plastic_strain_incr, n, D)\n",
    "\n",
    "stress_0 = sigma_0 + stress_incr\n",
    "\n",
    "print(f\"Stress at first step: {stress_0} Mpa \")\n",
    "\n",
    "if check_failure(stress_0) == True:\n",
    "    alpha = np.sqrt((sigma_y**2) / (stress_0[0]**2 + stress_0[1]**2 - stress_0[0] * stress_0[1]))\n",
    "    stress_y = alpha * stress_0\n",
    "\n",
    "print(f\"Criterion value at first step = {failure_value(stress_y)}\")\n",
    "print(f\"Yielding stress at first step: {stress_y} Mpa \\n\")\n",
    "\n",
    "elastic_strain_incr, plastic_strain_incr = strain_decomposition(strain_incr, alpha)\n",
    "\n",
    "\n",
    "# Second forward step\n",
    "\n",
    "sub_increments = 2\n",
    "\n",
    "plastic_strain_incr_2 = plastic_strain_incr / sub_increments\n",
    "\n",
    "print(f\"Plastic strain increment = {plastic_strain_incr}\")\n",
    "print(f\"Plastic strain sub_increment = {plastic_strain_incr_2} \\n\")\n",
    "\n",
    "stress = stress_y\n",
    "\n",
    "for sub_increment in range(sub_increments):\n",
    "    n = norm_criterion_surface(stress)\n",
    "    print(f'n{sub_increment + 1} = {n}')\n",
    "\n",
    "    stress_incr = stress_incr_computation(strain_incr, plastic_strain_incr_2, n, D)\n",
    "    print(f\"Δσ{sub_increment + 1} = {stress_incr}\")\n",
    "\n",
    "    stress = stress + stress_incr\n",
    "    \n",
    "    print(f\"Stress, sub-increment {sub_increment + 1}: {stress} Mpa \\n\")\n",
    "\n",
    "print(f\"Stress with {sub_increments} sub-increments: {stress} Mpa\")\n",
    "print(f\"Criterion value = {failure_value(stress)}\")\n"
   ]
  },
  {
   "cell_type": "code",
   "execution_count": null,
   "metadata": {},
   "outputs": [],
   "source": [
    "def forward_euler():\n",
    "\n",
    "    plastic_strain_incr = np.zeros((2,))\n",
    "    n = np.zeros((2,))\n",
    "\n",
    "    # First forward step\n",
    "\n",
    "    stress_incr = stress_incr_computation(strain_incr, plastic_strain_incr, n, D)\n",
    "\n",
    "    stress_0 = sigma_0 + stress_incr\n",
    "\n",
    "    print(f\"Stress at first step: {stress_0} Mpa \")\n",
    "\n",
    "    if check_failure(stress_0) == True:\n",
    "        alpha = np.sqrt((sigma_y**2) / (stress_0[0]**2 + stress_0[1]**2 - stress_0[0] * stress_0[1]))\n",
    "        stress_y = alpha * stress_0\n",
    "\n",
    "    print(f\"Criterion value at first step = {failure_value(stress_y)}\")\n",
    "    print(f\"Yielding stress at first step: {stress_y} Mpa \\n\")\n",
    "\n",
    "    elastic_strain_incr, plastic_strain_incr = strain_decomposition(strain_incr, alpha)\n",
    "\n",
    "\n",
    "    # Second forward step\n",
    "\n",
    "    sub_increments = 2\n",
    "\n",
    "    plastic_strain_incr_2 = plastic_strain_incr / sub_increments\n",
    "\n",
    "    print(f\"Plastic strain increment = {plastic_strain_incr}\")\n",
    "    print(f\"Plastic strain sub_increment = {plastic_strain_incr_2} \\n\")\n",
    "\n",
    "    stress = stress_y\n",
    "\n",
    "    for sub_increment in range(sub_increments):\n",
    "        n = norm_criterion_surface(stress)\n",
    "        print(f'n{sub_increment + 1} = {n}')\n",
    "\n",
    "        stress_incr = stress_incr_computation(strain_incr, plastic_strain_incr_2, n, D)\n",
    "        print(f\"Δσ{sub_increment + 1} = {stress_incr}\")\n",
    "\n",
    "        stress = stress + stress_incr\n",
    "        \n",
    "        print(f\"Stress, sub-increment {sub_increment + 1}: {stress} Mpa \\n\")\n",
    "\n",
    "    print(f\"Stress with {sub_increments} sub-increments: {stress} Mpa\")\n",
    "    print(f\"Criterion value = {failure_value(stress)}\")\n",
    "\n",
    "    return None\n"
   ]
  },
  {
   "cell_type": "code",
   "execution_count": null,
   "metadata": {},
   "outputs": [],
   "source": []
  }
 ],
 "metadata": {
  "kernelspec": {
   "display_name": "Python 3",
   "language": "python",
   "name": "python3"
  },
  "language_info": {
   "codemirror_mode": {
    "name": "ipython",
    "version": 3
   },
   "file_extension": ".py",
   "mimetype": "text/x-python",
   "name": "python",
   "nbconvert_exporter": "python",
   "pygments_lexer": "ipython3",
   "version": "3.11.5"
  },
  "orig_nbformat": 4
 },
 "nbformat": 4,
 "nbformat_minor": 2
}
