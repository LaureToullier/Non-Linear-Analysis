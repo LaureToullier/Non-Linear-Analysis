{
 "cells": [
  {
   "cell_type": "markdown",
   "metadata": {},
   "source": [
    "# Non linear analysis - Assignment 3"
   ]
  },
  {
   "cell_type": "markdown",
   "metadata": {},
   "source": [
    "18.10.2023 - Jérémie Engler and Laure Toullier"
   ]
  },
  {
   "cell_type": "code",
   "execution_count": 2,
   "metadata": {},
   "outputs": [],
   "source": [
    "#imports\n",
    "\n",
    "import numpy as np\n",
    "import matplotlib.pyplot as plt\n",
    "plt.style.use('bmh')\n",
    "import math\n",
    "import pandas as pd\n",
    "\n",
    "np.set_printoptions(precision=5, suppress=True, linewidth=150)\n",
    "\n",
    "Params = plt.rcParams\n",
    "Params['figure.figsize'] = (14, 7) "
   ]
  },
  {
   "cell_type": "markdown",
   "metadata": {},
   "source": [
    "General data"
   ]
  },
  {
   "cell_type": "code",
   "execution_count": 58,
   "metadata": {},
   "outputs": [],
   "source": [
    "E = 200e3 #Mpa\n",
    "poisson = 0\n",
    "sigma_y = 400 #Mpa\n",
    "\n",
    "eps_0 = np.zeros((2,))\n",
    "sigma_0 = np.zeros((2,))\n",
    "\n",
    "strain_incr = np.array([0.003,0.004])\n",
    "\n",
    "d = E/(1 - poisson**2) #Factor of the constitutive matrix\n",
    "\n",
    "D = np.full((2,2), poisson)\n",
    "np.fill_diagonal(D, 1)\n",
    "D = D * d\n"
   ]
  },
  {
   "cell_type": "code",
   "execution_count": 84,
   "metadata": {},
   "outputs": [],
   "source": [
    "def stress_incr_computation(strain_incr, plastic_strain_incr, n, D):\n",
    "    if plastic_strain_incr.all() == 0:\n",
    "        stress_incr = D @ strain_incr\n",
    "    else:\n",
    "        stress_incr = (D - (D @ n.T @ n @ D) / (n @ D @ n.T)) @ strain_incr\n",
    "\n",
    "    return stress_incr\n",
    "\n",
    "def check_failure(stress):\n",
    "    fail = False\n",
    "    criterion = stress[0]**2 + stress[1]**2 - stress[0] * stress[1] - sigma_y ** 2\n",
    "\n",
    "    if criterion > 0:\n",
    "        fail = True\n",
    "\n",
    "    return fail\n",
    "\n",
    "def strain_decomposition(strain_incr, alpha):\n",
    "    elastic_strain_incr = alpha * strain_incr\n",
    "    plastic_strain_incr = (1 - alpha) * strain_incr\n",
    "\n",
    "    return elastic_strain_incr, plastic_strain_incr\n",
    "\n",
    "def norm_criterion_surface(stress_y): #Unfinished\n",
    "    n = np.array([[1,1]])\n",
    "    return n"
   ]
  },
  {
   "cell_type": "code",
   "execution_count": 85,
   "metadata": {},
   "outputs": [
    {
     "name": "stdout",
     "output_type": "stream",
     "text": [
      "[-100.  100.]\n"
     ]
    }
   ],
   "source": [
    "# Stress increment from strain increment\n",
    "\n",
    "plastic_strain_incr = np.zeros((2,))\n",
    "n = np.zeros((2,))\n",
    "\n",
    "# First forward step\n",
    "\n",
    "stress_incr = stress_incr_computation(strain_incr, plastic_strain_incr, n, D)\n",
    "\n",
    "stress = sigma_0 + stress_incr\n",
    "\n",
    "if check_failure(stress) == True:\n",
    "    alpha = np.sqrt((sigma_y**2) / (stress[0]**2 + stress[1]**2 - stress[0] * stress[1]))\n",
    "    stress_y = alpha * stress\n",
    "\n",
    "elastic_strain_incr, plastic_strain_incr = strain_decomposition(strain_incr, alpha)\n",
    "\n",
    "# Second forward step\n",
    "\n",
    "sub_increments = 2\n",
    "\n",
    "plastic_strain_incr_2 = plastic_strain_incr / sub_increments\n",
    "\n",
    "n = norm_criterion_surface(stress_y)\n",
    "\n",
    "stress_incr = stress_incr_computation(strain_incr, plastic_strain_incr_2, n, D)\n",
    "\n",
    "print(stress_incr)\n"
   ]
  },
  {
   "cell_type": "code",
   "execution_count": 22,
   "metadata": {},
   "outputs": [
    {
     "name": "stdout",
     "output_type": "stream",
     "text": [
      "[300. 400.]\n"
     ]
    }
   ],
   "source": []
  },
  {
   "cell_type": "code",
   "execution_count": null,
   "metadata": {},
   "outputs": [],
   "source": []
  }
 ],
 "metadata": {
  "kernelspec": {
   "display_name": "Python 3",
   "language": "python",
   "name": "python3"
  },
  "language_info": {
   "codemirror_mode": {
    "name": "ipython",
    "version": 3
   },
   "file_extension": ".py",
   "mimetype": "text/x-python",
   "name": "python",
   "nbconvert_exporter": "python",
   "pygments_lexer": "ipython3",
   "version": "3.11.5"
  },
  "orig_nbformat": 4
 },
 "nbformat": 4,
 "nbformat_minor": 2
}
