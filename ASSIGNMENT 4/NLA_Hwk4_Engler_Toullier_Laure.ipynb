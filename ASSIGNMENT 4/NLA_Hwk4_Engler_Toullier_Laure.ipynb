{
 "cells": [
  {
   "cell_type": "markdown",
   "metadata": {},
   "source": [
    "# Non linear analysis - Assignment 4"
   ]
  },
  {
   "cell_type": "markdown",
   "metadata": {},
   "source": [
    "01.11.2023 - Jérémie Engler and Laure Toullier"
   ]
  },
  {
   "cell_type": "markdown",
   "metadata": {},
   "source": [
    "Part 4 - Euler Backward method"
   ]
  },
  {
   "cell_type": "code",
   "execution_count": 740,
   "metadata": {},
   "outputs": [],
   "source": [
    "#imports\n",
    "\n",
    "import numpy as np\n",
    "import matplotlib.pyplot as plt\n",
    "plt.style.use('bmh')\n",
    "import math\n",
    "import pandas as pd\n",
    "\n",
    "np.set_printoptions(precision=5, suppress=True, linewidth=150)\n",
    "\n",
    "Params = plt.rcParams\n",
    "Params['figure.figsize'] = (14, 7) "
   ]
  },
  {
   "cell_type": "markdown",
   "metadata": {},
   "source": [
    "General data"
   ]
  },
  {
   "cell_type": "code",
   "execution_count": 741,
   "metadata": {},
   "outputs": [
    {
     "name": "stdout",
     "output_type": "stream",
     "text": [
      "[[200000.      0.]\n",
      " [     0. 200000.]]\n"
     ]
    }
   ],
   "source": [
    "E = 200e3 #Mpa\n",
    "poisson = 0\n",
    "\n",
    "eps_0 = np.zeros((2,))\n",
    "sigma_0 = np.zeros((2,))\n",
    "sigma_y=400.0 #yield stress in MPa\n",
    "\n",
    "strain_incr = np.array([0.003,0.004])\n",
    "\n",
    "#Constitutive matrix for plane stress:\n",
    "d = E/(1 - poisson**2) #Factor of the constitutive matrix\n",
    "\n",
    "D = np.full((2,2), poisson)\n",
    "np.fill_diagonal(D, 1)\n",
    "D = D * d\n",
    "print(D)"
   ]
  },
  {
   "cell_type": "markdown",
   "metadata": {},
   "source": [
    "Plane condition"
   ]
  },
  {
   "cell_type": "code",
   "execution_count": 742,
   "metadata": {},
   "outputs": [],
   "source": [
    "def stress_incr_computation(strain_incr, plastic_strain_incr, n, D):\n",
    "    if plastic_strain_incr.all() == 0:\n",
    "        stress_incr = D @ strain_incr\n",
    "    else:\n",
    "        stress_incr = (D - (D @ n.T @ n @ D) / (n @ D @ n.T)) @ plastic_strain_incr\n",
    "        correction_factor = (D @ n.T @ n @ D) / (n @ D @ n.T)\n",
    "        trial_factor = D\n",
    "\n",
    "    return stress_incr\n",
    "\n",
    "\n",
    "def stress_for_initial_strain(strain_incr, D): # Stress increment from strain increment\n",
    "    plastic_strain_incr = np.zeros((2,))\n",
    "    n = np.zeros((2,))\n",
    "\n",
    "    # First forward step\n",
    "\n",
    "    stress_incr = stress_incr_computation(strain_incr, plastic_strain_incr, n, D)\n",
    "\n",
    "    stress_0 = sigma_0 + stress_incr\n",
    "\n",
    "    return stress_0\n",
    "\n",
    "def strain_decomposition(strain_incr, alpha):\n",
    "    elastic_strain_incr = alpha * strain_incr\n",
    "    plastic_strain_incr = (1 - alpha) * strain_incr\n",
    "    total_strain_incr=elastic_strain_incr+plastic_strain_incr\n",
    "\n",
    "    return elastic_strain_incr, plastic_strain_incr,total_strain_incr"
   ]
  },
  {
   "cell_type": "markdown",
   "metadata": {},
   "source": [
    "Von Mises yield criterion"
   ]
  },
  {
   "cell_type": "code",
   "execution_count": 743,
   "metadata": {},
   "outputs": [],
   "source": [
    "def f (vector, sigma_y):\n",
    "    fa=vector[0]**2+vector[1]**2-vector[0]*vector[1]-sigma_y**2\n",
    "    return fa"
   ]
  },
  {
   "cell_type": "markdown",
   "metadata": {},
   "source": [
    "Trial stress increment"
   ]
  },
  {
   "cell_type": "code",
   "execution_count": 744,
   "metadata": {},
   "outputs": [],
   "source": [
    "#stress trial\n",
    "\n",
    "def stress_trial (stress,D, strain_incr):\n",
    "    stress_trial_=stress+D@strain_incr\n",
    "    return stress_trial_"
   ]
  },
  {
   "cell_type": "code",
   "execution_count": 745,
   "metadata": {},
   "outputs": [
    {
     "name": "stdout",
     "output_type": "stream",
     "text": [
      "strial=[600. 800.]\n",
      "ftrial=360000.0\n"
     ]
    }
   ],
   "source": [
    "#test trial\n",
    "strial=stress_trial (sigma_0,D, strain_incr)\n",
    "f_trial=f(strial, sigma_y)\n",
    "stress_0=strial\n",
    "f0=f_trial\n",
    "print(f'strial={strial}')\n",
    "print(f'ftrial={f_trial}')"
   ]
  },
  {
   "cell_type": "code",
   "execution_count": 746,
   "metadata": {},
   "outputs": [
    {
     "name": "stdout",
     "output_type": "stream",
     "text": [
      "Not acceptable, plastic deformations occur \n",
      "elastic strain=[0.00166 0.00222]\n",
      "plastic strain=[0.00134 0.00178]\n",
      "total strain=[0.003 0.004]\n"
     ]
    }
   ],
   "source": [
    "#check of failure condition\n",
    "if f_trial<0:\n",
    "    print(\"Elastic state for the trial stress increment\")\n",
    "if f_trial==0:\n",
    "    print(\"Failure at trial stress increment\")\n",
    "else:\n",
    "    print(\"Not acceptable, plastic deformations occur \")\n",
    "    alpha=np.sqrt((sigma_y**2)/(strial[0]**2+strial[1]**2-strial[0]*strial[1]))\n",
    "    elastic_strain_incr, plastic_strain_incr,total_strain_incr=strain_decomposition(strain_incr, alpha)\n",
    "   \n",
    "print(f'elastic strain={elastic_strain_incr}')\n",
    "print(f'plastic strain={plastic_strain_incr}')\n",
    "print(f'total strain={total_strain_incr}')\n"
   ]
  },
  {
   "cell_type": "markdown",
   "metadata": {},
   "source": [
    "Euler backward method"
   ]
  },
  {
   "cell_type": "code",
   "execution_count": 747,
   "metadata": {},
   "outputs": [],
   "source": [
    "#f derivated by stress (gradient of the yield surface)\n",
    "\n",
    "def norm_criterion_surface(stress):\n",
    "    n=np.zeros((2))\n",
    "    n[0] = 2 * stress[0] - stress[1]\n",
    "    n[1] = 2 * stress[1] - stress[0]\n",
    "    return n"
   ]
  },
  {
   "cell_type": "code",
   "execution_count": 748,
   "metadata": {},
   "outputs": [],
   "source": [
    "#stress derived by incr_lambda\n",
    "\n",
    "def fd_stress_d_lambda (E, stress, incr_lambda):\n",
    "    ds_dl=np.zeros((2))\n",
    "    ds_dl[0]= (E*(stress[1]-3*(E**2)*stress[1]*(incr_lambda**2)-2*stress[0]*(1+3*E*incr_lambda*(1+E*incr_lambda)))/(((1+E*incr_lambda)**2)*(1+3*E*incr_lambda)**2))\n",
    "    ds_dl[1]= (E*(stress[0]-3*(E**2)*stress[0]*(incr_lambda**2)-2*stress[1]*(1+3*E*incr_lambda*(1+E*incr_lambda)))/(((1+E*incr_lambda)**2)*(1+3*E*incr_lambda)**2))\n",
    "    return ds_dl"
   ]
  },
  {
   "cell_type": "code",
   "execution_count": 749,
   "metadata": {},
   "outputs": [],
   "source": [
    "#f derivated by incr_lamba using a scalar product (we get an integer)\n",
    "\n",
    "def f_derivated_lambda (d_stress_d_lambda, d_f_d_stress):\n",
    "    #f_d=d_stress_d_lambda[0]*d_f_d_stress[0,0]+d_stress_d_lambda[1]*d_f_d_stress[0,1]\n",
    "    f_d=np.dot(d_f_d_stress,d_stress_d_lambda)\n",
    "    return f_d"
   ]
  },
  {
   "cell_type": "code",
   "execution_count": 750,
   "metadata": {},
   "outputs": [],
   "source": [
    "#increment of lambda i\n",
    "\n",
    "def fincr_lambda_i (incr_lambda, f_d_lambda, f_of_incr_lambda):\n",
    "    incr_lambda_i=incr_lambda-f_of_incr_lambda/f_d_lambda\n",
    "    return incr_lambda_i"
   ]
  },
  {
   "cell_type": "code",
   "execution_count": 751,
   "metadata": {},
   "outputs": [],
   "source": [
    "#stress vector at the end of the iteration i\n",
    "\n",
    "def fstress_vector_i (stress, E, incr_lambda_i):\n",
    "    stress_i=np.zeros((2))\n",
    "    stress_i[0]=(stress[0]+E*incr_lambda_i*(stress[1]+2*stress[0]))/((1+E*incr_lambda_i)*(1+3*E*incr_lambda_i))\n",
    "    stress_i[1]=(stress[1]+2*E*incr_lambda_i*stress[1]+E*incr_lambda_i*stress[0])/(1+4*E*incr_lambda_i+3*(E**2)*(incr_lambda_i**2))\n",
    "    return stress_i"
   ]
  },
  {
   "cell_type": "code",
   "execution_count": 752,
   "metadata": {},
   "outputs": [],
   "source": [
    "n=norm_criterion_surface(stress_0).reshape((2,1))\n",
    "incr_lambda=(D @ n @ n.T @ D) / (n.T @ D @ n) @ plastic_strain_incr"
   ]
  },
  {
   "cell_type": "code",
   "execution_count": 753,
   "metadata": {},
   "outputs": [],
   "source": [
    "#to print later\n",
    "sigma1=[]\n",
    "sigma2=[]"
   ]
  },
  {
   "cell_type": "code",
   "execution_count": 754,
   "metadata": {},
   "outputs": [
    {
     "name": "stdout",
     "output_type": "stream",
     "text": [
      "----\n",
      "incr_lambda=1.5517241379310346e-06\n",
      "stress=[482.42481 585.99624]\n",
      "fy=133426.16703883774\n",
      "----\n",
      "----\n",
      "incr_lambda=2.6294216810289537e-06\n",
      "stress=[419.95539 497.54535]\n",
      "fy=54967.05138132212\n",
      "----\n",
      "----\n",
      "incr_lambda=3.2429004812131066e-06\n",
      "stress=[390.6605  458.55514]\n",
      "fy=23749.062833355274\n",
      "----\n",
      "----\n",
      "incr_lambda=3.554300564510527e-06\n",
      "stress=[377.22836 441.07349]\n",
      "fy=10461.631009876524\n",
      "----\n",
      "----\n",
      "incr_lambda=3.7024185850521453e-06\n",
      "stress=[371.14513 433.22895]\n",
      "fy=4645.218492568354\n",
      "----\n",
      "----\n",
      "incr_lambda=3.770559539838456e-06\n",
      "stress=[368.40945 429.71522]\n",
      "fy=2069.547992574662\n",
      "----\n",
      "----\n",
      "incr_lambda=3.801410163489443e-06\n",
      "stress=[367.18361 428.14349]\n",
      "fy=923.3786999341683\n",
      "----\n",
      "----\n",
      "incr_lambda=3.815274913380242e-06\n",
      "stress=[366.63525 427.44095]\n",
      "fy=412.2531185806438\n",
      "----\n",
      "----\n",
      "incr_lambda=3.8214851064310565e-06\n",
      "stress=[366.39014 427.12704]\n",
      "fy=184.10780786079704\n",
      "----\n",
      "----\n",
      "incr_lambda=3.824262539956316e-06\n",
      "stress=[366.28062 426.9868 ]\n",
      "fy=82.23103633735445\n",
      "----\n",
      "----\n",
      "incr_lambda=3.825503874884392e-06\n",
      "stress=[366.23169 426.92415]\n",
      "fy=36.73025889406563\n",
      "----\n",
      "----\n",
      "incr_lambda=3.826058504546853e-06\n",
      "stress=[366.20984 426.89617]\n",
      "fy=16.406775232491782\n",
      "----\n",
      "Convergence is reached at step  11\n",
      "stress=[366.20984 426.89617]\n",
      "fy=16.406775232491782\n"
     ]
    }
   ],
   "source": [
    "#Initialisation\n",
    "stress=stress_0\n",
    "incr_lambda_i=float(0)\n",
    "\n",
    "sigma1.append(stress_0[0])\n",
    "sigma2.append(stress_0[1])\n",
    "\n",
    "iteration=20 #nb of iteration\n",
    "\n",
    "#for each step i:\n",
    "\n",
    "for i in range(iteration):\n",
    "\n",
    "    stress_previous=stress\n",
    "    incr_lambda_previous=incr_lambda_i\n",
    "    \n",
    "    #at step i-1\n",
    "    d_f_d_stress_=norm_criterion_surface (stress_0)\n",
    "    d_stress_d_lambda=fd_stress_d_lambda(E, stress_0, incr_lambda_previous)\n",
    "    d_f_d_lambda=f_derivated_lambda(d_stress_d_lambda, d_f_d_stress_)\n",
    "    f_lambda=f(stress_previous, sigma_y)\n",
    "    \n",
    "    #at step i\n",
    "    incr_lambda_i=fincr_lambda_i (incr_lambda_previous, d_f_d_lambda, f_lambda)\n",
    "    stress=fstress_vector_i (stress_0, E, incr_lambda_i)\n",
    "    fy=f(stress,sigma_y)\n",
    "    print(\"----\")\n",
    "    print(f'incr_lambda={incr_lambda_i}')\n",
    "    print(f'stress={stress}')\n",
    "    print(f'fy={fy}')\n",
    "    print(\"----\")\n",
    "\n",
    "    sigma1.append(stress[0])\n",
    "    sigma2.append(stress[1])\n",
    "\n",
    "    #n=norm_criterion_surface (stress).reshape((2,1))\n",
    "    #incr_lambda=(D @ n @ n.T @ D) / (n.T @ D @ n) @ plastic_strain\n",
    "\n",
    "    if fy/f_trial < 0.0001:\n",
    "        print (\"Convergence is reached at step \", i)\n",
    "        print(f'stress={stress}')\n",
    "        print(f'fy={fy}')\n",
    "        break\n",
    "\n",
    "    if i==iteration and fy/f_trial>0.0001:\n",
    "        raise ValueError(\"No convergence !\")\n",
    " \n"
   ]
  },
  {
   "cell_type": "code",
   "execution_count": 755,
   "metadata": {},
   "outputs": [],
   "source": [
    "def printgraph(x,y,xname,yname,unit1, unit2):\n",
    "    plt.figure(figsize=(7, 5))\n",
    "    plt.plot(x,y,'o')\n",
    "    plt.plot(x,y,'b')\n",
    " \n",
    "\n",
    "    plt.title(f'{yname} as a function of {xname}')\n",
    "    plt.xlabel(f\"{xname} ({unit1})\")\n",
    "    plt.ylabel(f\"{yname} ({unit2})\")\n",
    "\n",
    "    plt.show()\n",
    "\n",
    "    return None"
   ]
  },
  {
   "cell_type": "code",
   "execution_count": 756,
   "metadata": {},
   "outputs": [
    {
     "data": {
      "image/png": "[encoded data removed]",
      "text/plain": [
       "<Figure size 700x500 with 1 Axes>"
      ]
     },
     "metadata": {},
     "output_type": "display_data"
    }
   ],
   "source": [
    "printgraph(sigma1,sigma2,\"sigma_1\",\"sigma_2\",\"MPa\",\"MPa\")\n"
   ]
  }
 ],
 "metadata": {
  "kernelspec": {
   "display_name": "Python 3",
   "language": "python",
   "name": "python3"
  },
  "language_info": {
   "codemirror_mode": {
    "name": "ipython",
    "version": 3
   },
   "file_extension": ".py",
   "mimetype": "text/x-python",
   "name": "python",
   "nbconvert_exporter": "python",
   "pygments_lexer": "ipython3",
   "version": "3.12.0"
  },
  "orig_nbformat": 4
 },
 "nbformat": 4,
 "nbformat_minor": 2
}
