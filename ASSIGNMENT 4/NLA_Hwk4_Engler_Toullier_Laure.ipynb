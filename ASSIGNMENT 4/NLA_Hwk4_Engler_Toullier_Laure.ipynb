{
 "cells": [
  {
   "cell_type": "markdown",
   "metadata": {},
   "source": [
    "# Non linear analysis - Assignment 4"
   ]
  },
  {
   "cell_type": "markdown",
   "metadata": {},
   "source": [
    "18.10.2023 - Jérémie Engler and Laure Toullier"
   ]
  },
  {
   "cell_type": "code",
   "execution_count": 6,
   "metadata": {},
   "outputs": [],
   "source": [
    "#imports\n",
    "\n",
    "import numpy as np\n",
    "import matplotlib.pyplot as plt\n",
    "plt.style.use('bmh')\n",
    "import math\n",
    "import pandas as pd\n",
    "\n",
    "np.set_printoptions(precision=5, suppress=True, linewidth=150)\n",
    "\n",
    "Params = plt.rcParams\n",
    "Params['figure.figsize'] = (14, 7) "
   ]
  },
  {
   "cell_type": "markdown",
   "metadata": {},
   "source": [
    "General data"
   ]
  },
  {
   "cell_type": "code",
   "execution_count": 7,
   "metadata": {},
   "outputs": [],
   "source": [
    "E = 200e3 #Mpa\n",
    "poisson = 0\n",
    "sigma_y = 400 #Mpa\n",
    "\n",
    "eps_0 = np.zeros((2,))\n",
    "sigma_0 = np.zeros((2,))\n",
    "sigma_y=400 #yield stress in MPa\n",
    "\n",
    "strain_incr = np.array([0.003,0.004])\n",
    "\n",
    "#Constitutive matrix for plane stress:\n",
    "d = E/(1 - poisson**2) #Factor of the constitutive matrix\n",
    "\n",
    "D = np.full((2,2), poisson)\n",
    "np.fill_diagonal(D, 1)\n",
    "D = D * d\n"
   ]
  },
  {
   "cell_type": "markdown",
   "metadata": {},
   "source": [
    "Von Mises yield criterion"
   ]
  },
  {
   "cell_type": "code",
   "execution_count": 21,
   "metadata": {},
   "outputs": [],
   "source": [
    "def f (vector, sigma_y):\n",
    "    f=vector[0]**2+vector[1]**2-vector[0]*vector[1]-sigma_y\n",
    "    return f"
   ]
  },
  {
   "cell_type": "markdown",
   "metadata": {},
   "source": [
    "Plane stress condition"
   ]
  },
  {
   "cell_type": "code",
   "execution_count": 8,
   "metadata": {},
   "outputs": [],
   "source": [
    "def stress_incr_computation(strain_incr, plastic_strain_incr, n, D):\n",
    "    if plastic_strain_incr.all() == 0:\n",
    "        stress_incr = D @ strain_incr\n",
    "    else:\n",
    "        stress_incr = (D - (D @ n.T @ n @ D) / (n @ D @ n.T)) @ strain_incr\n",
    "        correction_factor = (D @ n.T @ n @ D) / (n @ D @ n.T)\n",
    "        trial_factor = D\n",
    "\n",
    "    return stress_incr\n",
    "\n",
    "#Von Mises yield criterion\n",
    "def check_failure(stress):\n",
    "    fail = False\n",
    "    criterion = stress[0]**2 + stress[1]**2 - stress[0] * stress[1] - sigma_y ** 2\n",
    "\n",
    "    if criterion > 0:\n",
    "        fail = True\n",
    "\n",
    "    return fail\n",
    "\n",
    "def strain_decomposition(strain_incr, alpha):\n",
    "    elastic_strain_incr = alpha * strain_incr\n",
    "    plastic_strain_incr = (1 - alpha) * strain_incr\n",
    "\n",
    "    return elastic_strain_incr, plastic_strain_incr\n",
    "\n",
    "def norm_criterion_surface(stress_y): #Unfinished\n",
    "    n = np.array([[1,1]])\n",
    "    return n"
   ]
  },
  {
   "cell_type": "markdown",
   "metadata": {},
   "source": [
    "Euler backward method"
   ]
  },
  {
   "cell_type": "code",
   "execution_count": null,
   "metadata": {},
   "outputs": [],
   "source": [
    "\n"
   ]
  },
  {
   "cell_type": "code",
   "execution_count": 14,
   "metadata": {},
   "outputs": [],
   "source": [
    "#f derived by sigma\n",
    "\n",
    "def d_f_d_sigma (f, sigma):\n",
    "    d_f_d_sigma=np.zeros((2))\n",
    "    d_f_d_sigma[0]=2*sigma[0]-sigma[1]\n",
    "    d_f_d_sigma[1]=2*sigma[1]-sigma[0]\n",
    "    return d_f_d_sigma"
   ]
  },
  {
   "cell_type": "code",
   "execution_count": 17,
   "metadata": {},
   "outputs": [],
   "source": [
    "def f_of_incr_lambda(incr_lambda):\n",
    "    f_of_incr_lambda=incr_lambda[0]**2+incr_lambda[1]**2-incr_lambda[0]*incr_lambda[1]-sigma_y\n",
    "    return f_of_incr_lambda"
   ]
  },
  {
   "cell_type": "code",
   "execution_count": 15,
   "metadata": {},
   "outputs": [],
   "source": [
    "#sigma derived by incr_lambda\n",
    "\n",
    "def d_sigma_d_lambda (E, sigma, incr_lambda):\n",
    "    d_sigma_d_lambda=np.zeros((2))\n",
    "    d_sigma_d_lambda[0]= (E*(sigma[1]-3*E**2*sigma[1]*(incr_lambda**2)-2*sigma[0]*(1+3*E*incr_lamdba*(1+E*incr_lambda)))/((1+E*incr_lambda)**2*(1+3*E*incr_lambda)))\n",
    "    d_sigma_d_lambda[1]= (E*(sigma[0]-3*E**2*sigma[0]*(incr_lambda**2)-2*sigma[1]*(1+3*E*incr_lamdba*(1+E*incr_lambda)))/((1+E*incr_lambda)**2*(1+3*E*incr_lambda)))\n",
    "    return d_sigma_d_lambda    "
   ]
  },
  {
   "cell_type": "code",
   "execution_count": 16,
   "metadata": {},
   "outputs": [],
   "source": [
    "#f derivated by incr_lamba\n",
    "\n",
    "def f_derivated (d_sigma_d_lambda, d_f_d_sigma):\n",
    "    f_derivated=d_f_d_sigma*d_sigma_d_lambda\n",
    "    return f_derivated"
   ]
  },
  {
   "cell_type": "code",
   "execution_count": 18,
   "metadata": {},
   "outputs": [],
   "source": [
    "#increment of lambda i\n",
    "\n",
    "def incr_lambda_i (incr_lambda, f_derivated, f_of_incr_lambda):\n",
    "    incr_lambda_i=np.zeros(2)\n",
    "    incr_lambda_i[0]=incr_lambda[0]-f_of_incr_lambda/f_derivated[0]\n",
    "    incr_lambda_i[1]=incr_lambda[1]-f_of_incr_lambda/f_derivated[1]\n",
    "    return incr_lambda_i"
   ]
  },
  {
   "cell_type": "code",
   "execution_count": 20,
   "metadata": {},
   "outputs": [],
   "source": [
    "#stress vector at the end of the iteration i\n",
    "\n",
    "def stress_vector_i (sigma, E, incr_lambda_i):\n",
    "    stress_vector_i=np.zeros((2))\n",
    "    stress_vector_i[0]=(sigma[0]+E*incr_lambda_i[0]*(sigma[1]+2*sigma[0]))/((1+E*incr_lambda_i[0])**2*(1+3*E*incr_lambda_i[0]))\n",
    "    stress_vector_i[1]=(sigma[1]+2*E*incr_lambda_i[1]*sigma[1]+E*incr_lambda_i[1]*sigma[0])/(1+4*E*incr_lambda_i[1]+3*E**2*incr_lambda[1]**2)\n",
    "    return stress_vector_i"
   ]
  },
  {
   "cell_type": "code",
   "execution_count": 22,
   "metadata": {},
   "outputs": [],
   "source": [
    "#stress trial\n",
    "\n",
    "def sigma_trial (sigma,D, strain_incr):\n",
    "    sigma_trial=sigma+D@strain_incr\n",
    "    return sigma_trial"
   ]
  },
  {
   "cell_type": "code",
   "execution_count": null,
   "metadata": {},
   "outputs": [],
   "source": [
    "sigma=sigma_0\n",
    "f=f(sigma, sigma_y)\n",
    "n=(1, 1) #ATTENTION !!!!!!! à modifier !!!!\n",
    "incr_lambda=((D @ n.T @ n @ D) / (n @ D @ n.T)) @ strain_incr\n",
    "iteration=20 #nb of iteration\n",
    "\n",
    "#for each step i:\n",
    "\n",
    "for i in range(iteration):\n",
    "\n",
    "    #at step i\n",
    "    sigma_trial=sigma_trial(sigma,D, strain_incr)\n",
    "    f_trial=f(sigma_trial, sigma_y)\n",
    "\n",
    "    #at step i+1\n",
    "    d_f_d_sigma=d_f_d_sigma (f, sigma)\n",
    "    d_sigma_d_lambda=d_sigma_d_lambda(E, sigma, incr_lambda)\n",
    "    d_f_d_lambda=f_derivated(d_sigma_d_lambda, d_f_d_sigma)\n",
    "    incr_lambda=incr_lambda_i (incr_lambda, f_derivated, f_of_incr_lambda)\n",
    "    sigma=stress_vector_i (sigma, E, incr_lambda_i)\n",
    "    f=f (sigma, sigma_y)\n",
    "\n",
    "    if f/f_trial < 0.0001:\n",
    "        print (\"Convergence is reached at step \", i)\n",
    "        print(f'sigma={sigma}')\n",
    "        print(f'f={f}')\n",
    "        break\n",
    "\n",
    "    if i==iteration and f/f_trial>0.0001:\n",
    "        return error\n"
   ]
  },
  {
   "cell_type": "code",
   "execution_count": 9,
   "metadata": {},
   "outputs": [
    {
     "name": "stdout",
     "output_type": "stream",
     "text": [
      "Stress at first step: [600. 800.] Mpa\n",
      "Stress, sub-increment 0: [500. 900.]\n",
      "Stress, sub-increment 1: [ 400. 1000.]\n",
      "Stress at second step: [ 400. 1000.] Mpa\n"
     ]
    }
   ],
   "source": [
    "# Stress increment from strain increment\n",
    "\n",
    "plastic_strain_incr = np.zeros((2,))\n",
    "n = np.zeros((2,))\n",
    "\n",
    "# First forward step\n",
    "\n",
    "stress_incr = stress_incr_computation(strain_incr, plastic_strain_incr, n, D)\n",
    "\n",
    "stress = sigma_0 + stress_incr\n",
    "\n",
    "print(f\"Stress at first step: {stress} Mpa\")\n",
    "\n",
    "if check_failure(stress) == True:\n",
    "    alpha = np.sqrt((sigma_y**2) / (stress[0]**2 + stress[1]**2 - stress[0] * stress[1]))\n",
    "    stress_y = alpha * stress\n",
    "\n",
    "elastic_strain_incr, plastic_strain_incr = strain_decomposition(strain_incr, alpha)\n",
    "\n",
    "# Second forward step STILL NEED TO COMPUTE N\n",
    "\n",
    "sub_increments = 2\n",
    "\n",
    "plastic_strain_incr_2 = plastic_strain_incr / sub_increments\n",
    "\n",
    "for sub_increment in range(sub_increments):\n",
    "    n = norm_criterion_surface(stress_y)\n",
    "    stress_incr = stress_incr_computation(strain_incr, plastic_strain_incr_2, n, D)\n",
    "    stress = stress + stress_incr\n",
    "    print(f\"Stress, sub-increment {sub_increment}: {stress}\")\n",
    "\n",
    "print(f\"Stress at second step: {stress} Mpa\")\n",
    "\n",
    "\n",
    "\n"
   ]
  },
  {
   "cell_type": "code",
   "execution_count": null,
   "metadata": {},
   "outputs": [],
   "source": []
  },
  {
   "cell_type": "code",
   "execution_count": null,
   "metadata": {},
   "outputs": [],
   "source": []
  }
 ],
 "metadata": {
  "kernelspec": {
   "display_name": "Python 3",
   "language": "python",
   "name": "python3"
  },
  "language_info": {
   "codemirror_mode": {
    "name": "ipython",
    "version": 3
   },
   "file_extension": ".py",
   "mimetype": "text/x-python",
   "name": "python",
   "nbconvert_exporter": "python",
   "pygments_lexer": "ipython3",
   "version": "3.12.0"
  },
  "orig_nbformat": 4
 },
 "nbformat": 4,
 "nbformat_minor": 2
}
