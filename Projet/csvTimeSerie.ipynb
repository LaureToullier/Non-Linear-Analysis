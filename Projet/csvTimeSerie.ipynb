{
 "cells": [
  {
   "cell_type": "code",
   "execution_count": 1,
   "metadata": {},
   "outputs": [],
   "source": [
    "import pandas as pd \n",
    "import numpy as np"
   ]
  },
  {
   "cell_type": "code",
   "execution_count": 11,
   "metadata": {},
   "outputs": [
    {
     "name": "stdout",
     "output_type": "stream",
     "text": [
      "       Top_Inplane_Disp[mm]\n",
      "0                  0.002307\n",
      "1                  0.000331\n",
      "2                 -0.000345\n",
      "3                  0.000046\n",
      "4                  0.001620\n",
      "...                     ...\n",
      "45957            -27.545607\n",
      "45958            -27.347915\n",
      "45959            -27.148556\n",
      "45960            -26.942717\n",
      "45961            -26.780579\n",
      "\n",
      "[45962 rows x 1 columns]\n"
     ]
    }
   ],
   "source": [
    "file_path = '/Users/jeremieengler/Documents/Cloud/Travail_cloud/EPFL/MA1/Non linear analysis of structures/Nouveau github/Non-Linear-Analysis/Projet/Source/Lignos - Loading protocol/C1 copie.csv'\n",
    "txt_path = '/Users/jeremieengler/Documents/Cloud/Travail_cloud/EPFL/MA1/Non linear analysis of structures/Nouveau github/Non-Linear-Analysis/Projet/Source/Lignos - Loading protocol/C1disp.txt'\n",
    "\n",
    "load_protocol = pd.read_csv(file_path).drop(pd.read_csv(file_path).columns[0], axis = 1)\n",
    "load_protocol = load_protocol.drop('Time[sec]', axis = 1)\n",
    "\n",
    "np.savetxt(txt_path, load_protocol.values, fmt='%d')"
   ]
  },
  {
   "cell_type": "code",
   "execution_count": null,
   "metadata": {},
   "outputs": [],
   "source": []
  }
 ],
 "metadata": {
  "kernelspec": {
   "display_name": "Python 3",
   "language": "python",
   "name": "python3"
  },
  "language_info": {
   "codemirror_mode": {
    "name": "ipython",
    "version": 3
   },
   "file_extension": ".py",
   "mimetype": "text/x-python",
   "name": "python",
   "nbconvert_exporter": "python",
   "pygments_lexer": "ipython3",
   "version": "3.11.5"
  }
 },
 "nbformat": 4,
 "nbformat_minor": 2
}
