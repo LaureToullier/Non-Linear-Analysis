{
 "cells": [
  {
   "cell_type": "markdown",
   "metadata": {},
   "source": [
    "# Transformer les sources .txt en .csv"
   ]
  },
  {
   "cell_type": "markdown",
   "metadata": {},
   "source": [
    "Marche que sur mon ordi. Sinon, changer les folder_path"
   ]
  },
  {
   "cell_type": "code",
   "execution_count": 23,
   "metadata": {},
   "outputs": [],
   "source": [
    "import pandas as pd\n",
    "import numpy as np\n",
    "import os"
   ]
  },
  {
   "cell_type": "code",
   "execution_count": 32,
   "metadata": {},
   "outputs": [],
   "source": [
    "folder_path = '/Users/jeremieengler/Documents/Cloud/Travail cloud/EPFL/MA1/Non linear analysis of structures/Github/Non-Linear-Analysis/Projet/Source'\n",
    "\n",
    "folder_list = os.listdir(folder_path)\n",
    "\n",
    "for subfolder in folder_list:\n",
    "    subfolder_path = f'/Users/jeremieengler/Documents/Cloud/Travail cloud/EPFL/MA1/Non linear analysis of structures/Github/Non-Linear-Analysis/Projet/Source/{subfolder}'\n",
    "    subfolder_list = os.listdir(subfolder_path)\n",
    "    for file_name in subfolder_list:\n",
    "        file_path = os.path.join(subfolder_path, file_name)\n",
    "        data = pd.read_csv('Steel-Columns-Test-Data-main/Elkady and Lignos (2018)/Base end moment-chord rotation response/C1.txt', delim_whitespace=True)\n",
    "        data = data.drop(columns =[\"[kN.m]\",\"Axial_Disp.\", \"[mm]\"])\n",
    "        data = data.rename(columns = {\"Base\":\"Base moment [kN.m]\", \"moment\":\"Axial_Disp. [mm]\"})\n",
    "        file_name_csv = file_name.replace('.txt','.csv')\n",
    "        data.to_csv(os.path.join(subfolder_path,file_name_csv))\n",
    "\n"
   ]
  }
 ],
 "metadata": {
  "kernelspec": {
   "display_name": "Python 3",
   "language": "python",
   "name": "python3"
  },
  "language_info": {
   "codemirror_mode": {
    "name": "ipython",
    "version": 3
   },
   "file_extension": ".py",
   "mimetype": "text/x-python",
   "name": "python",
   "nbconvert_exporter": "python",
   "pygments_lexer": "ipython3",
   "version": "3.11.5"
  }
 },
 "nbformat": 4,
 "nbformat_minor": 2
}
