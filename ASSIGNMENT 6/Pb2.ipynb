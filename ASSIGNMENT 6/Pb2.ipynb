{
 "cells": [
  {
   "cell_type": "code",
   "execution_count": null,
   "metadata": {},
   "outputs": [],
   "source": []
  },
  {
   "cell_type": "markdown",
   "metadata": {},
   "source": [
    "# Assignment 6\n",
    "#### Problem 2\n",
    "\n",
    "Jérémie Engler and Laure Toullier\n",
    "\n",
    "07.12.2023"
   ]
  },
  {
   "cell_type": "markdown",
   "metadata": {},
   "source": [
    "Aim : analysis of a cantilever beam-column element subjected to a tip force"
   ]
  },
  {
   "cell_type": "code",
   "execution_count": 45,
   "metadata": {},
   "outputs": [],
   "source": [
    "#imports\n",
    "\n",
    "import numpy as np\n",
    "import matplotlib.pyplot as plt\n",
    "plt.style.use('bmh')\n",
    "import math\n",
    "\n",
    "np.set_printoptions(precision=5, suppress=True, linewidth=150)\n",
    "\n",
    "Params = plt.rcParams\n",
    "Params['figure.figsize'] = (14, 7) "
   ]
  },
  {
   "cell_type": "code",
   "execution_count": 46,
   "metadata": {},
   "outputs": [],
   "source": [
    "#Data\n",
    "\n",
    "a = 200 #mm\n",
    "b = 200 #mm\n",
    "L = 2000 #mm (uniform XS)\n",
    "E = 200000 #MPa (elastic material)\n",
    "n = 5 #number of intergration point\n",
    "nf = 10 #number of fibers in the XS\n",
    "stress_fibers = np.ones(nf) #initial stress in each fiber"
   ]
  },
  {
   "cell_type": "markdown",
   "metadata": {},
   "source": [
    "Step 1 : Implement and validate a displacement based fiber beam-column element"
   ]
  },
  {
   "cell_type": "code",
   "execution_count": 47,
   "metadata": {},
   "outputs": [],
   "source": [
    "#computation of tangent section stiffness matrix and section resisting force\n",
    "\n",
    "def ks_fs(nf, stress_fibers):\n",
    "\n",
    "    yk=np.zeros((nf))    #array for each the coordinate of each centroïd of each fiber\n",
    "    lk=np.zeros((nf,2))\n",
    "    ks=np.zeros((2,2))   #tangent section stiffness matrix\n",
    "    fs=np.zeros((2,1))   #section resisting force\n",
    "\n",
    "    for i in range(nf):\n",
    "        yk[i]=-b/2+b/(2*nf)+b/nf*((i+1)-1) #centroïd of each fiber\n",
    "        lki=np.array([[1,yk[i]]])\n",
    "        lk[i]=lki\n",
    "        ks+=np.transpose(lki)@lki*E*(a*b/nf)\n",
    "        fs+=np.transpose(lki)*stress_fibers[i]*(a*b/nf)\n",
    "\n",
    "    return ks, fs\n",
    "\n",
    "#note: as the XS is constant, ks and fs are constant along the cantilever"
   ]
  },
  {
   "cell_type": "markdown",
   "metadata": {},
   "source": [
    "The numerical integration used to obtain a numerical estimate of the integral is Gauss-Lobato, with 5 integration points. The conditions that satisfy all error partial derivatives for 5 integration points are:\n",
    "\n",
    "    w1=w5=1/10 and r1=1, r5=-1\n",
    "\n",
    "    w2=w4=49/90 and r2=-sqrt(21)/7, r4=sqrt(21)/7 \n",
    "    \n",
    "    w3=32/45 and r3=0"
   ]
  },
  {
   "cell_type": "code",
   "execution_count": 48,
   "metadata": {},
   "outputs": [],
   "source": [
    "#computation of the stiffness matrix\n",
    "\n",
    "r=np.array([-1,-np.sqrt(21)/7, 0, np.sqrt(21)/7,1])\n",
    "w=np.array([0.1,49/90,32/45,49/90,0.1])\n",
    "\n",
    "def Ke(L,w,r,k_s,f_s):\n",
    "    \n",
    "    Ke=np.zeros((6,6))\n",
    "    Qfv=np.zeros((6,1))\n",
    "\n",
    "    for i in range(n) :\n",
    "        xi=L/2*r[i]+L/2      #we integrate using a variable transformation from r to x to normalize the system: x=L/2*r+L/2 and dx=L/2*dr \n",
    "        \n",
    "        B=np.array([[-1/L, 0, 0, 1/L, 0,0],\n",
    "                [0, (12*xi/(L**3))-6/(L**2), 6*xi/(L**2)-4/L, 0, -12*xi/(L**3)+6/(L**2) , 6*xi/(L**2)-2/L]])\n",
    "        \n",
    "        kb=(B.T@k_s)@B\n",
    "        Ke+=L/2*w[i]*kb\n",
    "\n",
    "        qb=B.T@f_s\n",
    "        Qfv+=L/2*qb*w[i]\n",
    "\n",
    "    return B, Ke, Qfv\n",
    "\n",
    "\n"
   ]
  },
  {
   "cell_type": "code",
   "execution_count": 49,
   "metadata": {},
   "outputs": [],
   "source": [
    "k_s,f_s=ks_fs(nf, stress_fibers)\n",
    "\n",
    "B, K_e,Q_e=Ke(L,w,r,k_s,f_s)\n"
   ]
  },
  {
   "cell_type": "code",
   "execution_count": 50,
   "metadata": {},
   "outputs": [
    {
     "name": "stdout",
     "output_type": "stream",
     "text": [
      "k_s=[[8.00e+09 0.00e+00]\n",
      " [0.00e+00 2.64e+13]]\n",
      "f_s=[[40000.]\n",
      " [    0.]]\n",
      "The element resisting force vector is \n",
      "[[-40000.]\n",
      " [     0.]\n",
      " [     0.]\n",
      " [ 40000.]\n",
      " [     0.]\n",
      " [     0.]]\n",
      "The tangent element stiffness matrix of a displacement based fiber BC elemnt is:\n",
      "[[ 4.00e+06  0.00e+00  0.00e+00 -4.00e+06  0.00e+00  0.00e+00]\n",
      " [ 0.00e+00  3.96e+04  3.96e+07  0.00e+00 -3.96e+04  3.96e+07]\n",
      " [ 0.00e+00  3.96e+07  5.28e+10  0.00e+00 -3.96e+07  2.64e+10]\n",
      " [-4.00e+06  0.00e+00  0.00e+00  4.00e+06  0.00e+00  0.00e+00]\n",
      " [ 0.00e+00 -3.96e+04 -3.96e+07  0.00e+00  3.96e+04 -3.96e+07]\n",
      " [ 0.00e+00  3.96e+07  2.64e+10  0.00e+00 -3.96e+07  5.28e+10]]\n"
     ]
    }
   ],
   "source": [
    "print(f\"k_s={k_s}\")\n",
    "print(f\"f_s={f_s}\")\n",
    "print(f\"The element resisting force vector is \")\n",
    "print(Q_e)\n",
    "print(\"The tangent element stiffness matrix of a displacement based fiber BC elemnt is:\")\n",
    "print(K_e)"
   ]
  },
  {
   "cell_type": "code",
   "execution_count": 51,
   "metadata": {},
   "outputs": [
    {
     "name": "stdout",
     "output_type": "stream",
     "text": [
      "K_classic=[[ 4.00000e+06  0.00000e+00  0.00000e+00 -4.00000e+06  0.00000e+00  0.00000e+00]\n",
      " [ 0.00000e+00  4.00000e+04  4.00000e+07  0.00000e+00 -4.00000e+04  4.00000e+07]\n",
      " [ 0.00000e+00  4.00000e+07  5.33333e+10  0.00000e+00 -4.00000e+07  2.66667e+10]\n",
      " [-4.00000e+06  0.00000e+00  0.00000e+00  4.00000e+06  0.00000e+00  0.00000e+00]\n",
      " [ 0.00000e+00 -4.00000e+04 -4.00000e+07  0.00000e+00  4.00000e+04 -4.00000e+07]\n",
      " [ 0.00000e+00  4.00000e+07  2.66667e+10  0.00000e+00 -4.00000e+07  5.33333e+10]]\n"
     ]
    }
   ],
   "source": [
    "#classical stiffness matrix (from week 7, slide 19)\n",
    "\n",
    "def stiffness_elastic_beam (E,a,b,L):\n",
    "\n",
    "    K=np.zeros((6,6))\n",
    "\n",
    "    I=a*b**3/12\n",
    "    A=a*b\n",
    "    \n",
    "    K[0,0]=E*A/L\n",
    "    K[0,3]=-E*A/L\n",
    "    K[3,0]=-E*A/L\n",
    "    K[3,3]=E*A/L\n",
    "\n",
    "    K[1,1]=K[4,4]=E*I*12/L**3\n",
    "    K[1,2]=K[2,1]=E*I*6/L**2\n",
    "    K[2,2]=K[5,5]=E*I*4/L\n",
    "    K[5,4]=K[4,5]=-6*E*I/L**2\n",
    "\n",
    "    K[1,4]=K[4,1]=-E*I*12/L**3\n",
    "    K[1,5]=K[5,1]=E*I*6/L**2\n",
    "    K[2,4]=K[4,2]=-E*I*6/L**2\n",
    "    K[2,5]=K[5,2]=E*I*2/L\n",
    "\n",
    "    return K\n",
    "\n",
    "K_classic=stiffness_elastic_beam (E,a,b,L)\n",
    "print(f\"K_classic={K_classic}\")\n"
   ]
  },
  {
   "cell_type": "code",
   "execution_count": 52,
   "metadata": {},
   "outputs": [],
   "source": [
    "#computation of the error\n",
    "\n",
    "def error(nf):\n",
    "    k_s,f_s=ks_fs(nf, stress_fibers)\n",
    "    B,K_e,Q=Ke(L,w,r,k_s,f_s)\n",
    "    \n",
    "    err=np.linalg.norm(K_e-K_classic)/np.linalg.norm(K_classic)*100\n",
    "    return err\n",
    "\n",
    "def error_min(err_accept):\n",
    "    n_iter=20\n",
    "    n=1\n",
    "    while error(n)>err_accept and n<n_iter:\n",
    "        n+=1\n",
    "    return n\n"
   ]
  },
  {
   "cell_type": "code",
   "execution_count": 53,
   "metadata": {},
   "outputs": [
    {
     "name": "stdout",
     "output_type": "stream",
     "text": [
      "error=0.9999999955000101\n",
      "Minimum number of fibers for error less than 2%=8\n",
      "For a minimum number of fiber less than 2%, the error is: 1.5624999929687748\n"
     ]
    }
   ],
   "source": [
    "err=error(nf)\n",
    "print(f\"error={err}\")\n",
    "min_num_fibers=error_min(2)\n",
    "err_min=error(min_num_fibers)\n",
    "print(f\"Minimum number of fibers for error less than 2%={min_num_fibers}\")\n",
    "print(f\"For a minimum number of fiber less than 2%, the error is: {err_min}\")"
   ]
  },
  {
   "cell_type": "markdown",
   "metadata": {},
   "source": [
    "Step 2: Conduct a load control analysis with your beam-column element"
   ]
  },
  {
   "cell_type": "markdown",
   "metadata": {},
   "source": [
    "Aim: create a cantilever model using displacement-based fiber beam-column element."
   ]
  },
  {
   "cell_type": "code",
   "execution_count": 54,
   "metadata": {},
   "outputs": [],
   "source": [
    "nf=min_num_fibers\n",
    "V_end=450000\n",
    "q=np.transpose(np.array([[0,0,0,0,0,0]]))\n",
    "Q_ext=np.transpose(np.array([[0,0,0,0,V_end,0]]))\n",
    "num_incr=30 #number of increments\n",
    "tol=10**(-8)\n",
    "max_iter=16\n",
    "iteration_counter=0\n",
    "stress_fibers=np.zeros((nf)) #new stress in each fiber for new number of fibers"
   ]
  },
  {
   "cell_type": "code",
   "execution_count": 55,
   "metadata": {},
   "outputs": [
    {
     "name": "stdout",
     "output_type": "stream",
     "text": [
      "ks0=[[8.000e+09 0.000e+00]\n",
      " [0.000e+00 2.625e+13]]\n",
      "B0=[[-0.0005  0.      0.      0.0005  0.      0.    ]\n",
      " [ 0.      0.      0.001   0.     -0.      0.002 ]]\n",
      "%%%%%%%%%%%%%%%%%%%%%%%%%%0th increment%%%%%%%%%%%%%%%%%%%%%%%%%%\n",
      "%%%%%%%%%%%%%%%%%%%%%%%%%0th iteration%%%%%%%%%%%%%%%%%%%%%%%%%%\n",
      "delta_q_f=[[0.     ]\n",
      " [1.52381]\n",
      " [0.00114]]\n",
      "q=[[0.     ]\n",
      " [0.     ]\n",
      " [0.     ]\n",
      " [0.     ]\n",
      " [1.52381]\n",
      " [0.00114]]\n",
      "ds=[[ 0.]\n",
      " [-0.]]\n"
     ]
    },
    {
     "name": "stderr",
     "output_type": "stream",
     "text": [
      "C:\\Users\\ltoul\\AppData\\Local\\Temp\\ipykernel_23872\\3512492340.py:38: DeprecationWarning: Conversion of an array with ndim > 0 to a scalar is deprecated, and will error in future. Ensure you extract a single element from your array before performing this operation. (Deprecated NumPy 1.25.)\n",
      "  deltaqf[3]=delta_q_f[0]\n",
      "C:\\Users\\ltoul\\AppData\\Local\\Temp\\ipykernel_23872\\3512492340.py:39: DeprecationWarning: Conversion of an array with ndim > 0 to a scalar is deprecated, and will error in future. Ensure you extract a single element from your array before performing this operation. (Deprecated NumPy 1.25.)\n",
      "  deltaqf[4]=delta_q_f[1]\n",
      "C:\\Users\\ltoul\\AppData\\Local\\Temp\\ipykernel_23872\\3512492340.py:40: DeprecationWarning: Conversion of an array with ndim > 0 to a scalar is deprecated, and will error in future. Ensure you extract a single element from your array before performing this operation. (Deprecated NumPy 1.25.)\n",
      "  deltaqf[5]=delta_q_f[2]\n",
      "C:\\Users\\ltoul\\AppData\\Local\\Temp\\ipykernel_23872\\3512492340.py:55: DeprecationWarning: Conversion of an array with ndim > 0 to a scalar is deprecated, and will error in future. Ensure you extract a single element from your array before performing this operation. (Deprecated NumPy 1.25.)\n",
      "  eps_fibers[i]=ds[0]+ds[1]*yk[i]\n"
     ]
    },
    {
     "ename": "IndexError",
     "evalue": "list assignment index out of range",
     "output_type": "error",
     "traceback": [
      "\u001b[1;31m---------------------------------------------------------------------------\u001b[0m",
      "\u001b[1;31mIndexError\u001b[0m                                Traceback (most recent call last)",
      "\u001b[1;32mc:\\Users\\ltoul\\Python\\ANALYSE NON LINEAIRE\\Non-Linear-Analysis\\ASSIGNMENT 6\\Pb2.ipynb Cell 18\u001b[0m line \u001b[0;36m5\n\u001b[0;32m     <a href='vscode-notebook-cell:/c%3A/Users/ltoul/Python/ANALYSE%20NON%20LINEAIRE/Non-Linear-Analysis/ASSIGNMENT%206/Pb2.ipynb#X23sZmlsZQ%3D%3D?line=53'>54</a>\u001b[0m     yk[i]\u001b[39m=\u001b[39m\u001b[39m-\u001b[39mb\u001b[39m/\u001b[39m\u001b[39m2\u001b[39m\u001b[39m+\u001b[39mb\u001b[39m/\u001b[39m(\u001b[39m2\u001b[39m\u001b[39m*\u001b[39mnf)\u001b[39m+\u001b[39mb\u001b[39m/\u001b[39mnf\u001b[39m*\u001b[39m((i\u001b[39m+\u001b[39m\u001b[39m1\u001b[39m)\u001b[39m-\u001b[39m\u001b[39m1\u001b[39m) \u001b[39m#centroïd of each fiber\u001b[39;00m\n\u001b[0;32m     <a href='vscode-notebook-cell:/c%3A/Users/ltoul/Python/ANALYSE%20NON%20LINEAIRE/Non-Linear-Analysis/ASSIGNMENT%206/Pb2.ipynb#X23sZmlsZQ%3D%3D?line=54'>55</a>\u001b[0m     eps_fibers[i]\u001b[39m=\u001b[39mds[\u001b[39m0\u001b[39m]\u001b[39m+\u001b[39mds[\u001b[39m1\u001b[39m]\u001b[39m*\u001b[39myk[i]\n\u001b[1;32m---> <a href='vscode-notebook-cell:/c%3A/Users/ltoul/Python/ANALYSE%20NON%20LINEAIRE/Non-Linear-Analysis/ASSIGNMENT%206/Pb2.ipynb#X23sZmlsZQ%3D%3D?line=55'>56</a>\u001b[0m     stress_fibers[i]\u001b[39m=\u001b[39meps_fibers[i]\u001b[39m*\u001b[39mE   \u001b[39m#the material is considered elastic \u001b[39;00m\n\u001b[0;32m     <a href='vscode-notebook-cell:/c%3A/Users/ltoul/Python/ANALYSE%20NON%20LINEAIRE/Non-Linear-Analysis/ASSIGNMENT%206/Pb2.ipynb#X23sZmlsZQ%3D%3D?line=57'>58</a>\u001b[0m \u001b[39mprint\u001b[39m(\u001b[39mf\u001b[39m\u001b[39m\"\u001b[39m\u001b[39myk=\u001b[39m\u001b[39m{\u001b[39;00myk\u001b[39m}\u001b[39;00m\u001b[39m\"\u001b[39m)\n\u001b[0;32m     <a href='vscode-notebook-cell:/c%3A/Users/ltoul/Python/ANALYSE%20NON%20LINEAIRE/Non-Linear-Analysis/ASSIGNMENT%206/Pb2.ipynb#X23sZmlsZQ%3D%3D?line=58'>59</a>\u001b[0m \u001b[39mprint\u001b[39m(\u001b[39mf\u001b[39m\u001b[39m\"\u001b[39m\u001b[39mstrain in fibers=\u001b[39m\u001b[39m{\u001b[39;00meps_fibers\u001b[39m}\u001b[39;00m\u001b[39m\"\u001b[39m)\n",
      "\u001b[1;31mIndexError\u001b[0m: list assignment index out of range"
     ]
    }
   ],
   "source": [
    "#newton raphson method\n",
    "\n",
    "#initialisation\n",
    "k_s, f_s=ks_fs(nf, np.zeros((nf)))\n",
    "B, K_e, Q_e= Ke(L,w,r,k_s,f_s)\n",
    "#ds=B@q\n",
    "\n",
    "print(f\"ks0={k_s}\")\n",
    "print(f\"B0={B}\")\n",
    "\n",
    "#def newton_raphson(Q_ext, num_incr, max_iter, K_e, B, Q_e,q,a,b,L,nf,E, stress_fibers):\n",
    "\n",
    "force=[]\n",
    "disp=[]\n",
    "iteration_counter=0\n",
    "stress_fibers=[]\n",
    "\n",
    "for j in range(num_incr-1):\n",
    "    print(f\"%%%%%%%%%%%%%%%%%%%%%%%%%%{j}th increment%%%%%%%%%%%%%%%%%%%%%%%%%%\")\n",
    "       \n",
    "    iteration_counter+=1\n",
    "\n",
    "    Q_ext_i=(j+1)/num_incr*Q_ext\n",
    "\n",
    "    for i in range(max_iter):\n",
    "        print(f\"%%%%%%%%%%%%%%%%%%%%%%%%%{i}th iteration%%%%%%%%%%%%%%%%%%%%%%%%%%\")\n",
    "          \n",
    "        K_ff=K_e[3:6,3:6] #we only consider the free DOF from Ke\n",
    "\n",
    "        R=Q_ext_i-Q_e\n",
    "        R_f=R[3:6,:] #we only consider the free DOF from R\n",
    "\n",
    "        #displacement\n",
    "        delta_q_f=np.linalg.solve(K_ff,R_f) #displacement increment\n",
    "        print(f\"delta_q_f={delta_q_f}\")\n",
    "\n",
    "        deltaqf=np.zeros((6))\n",
    "        deltaqf[3]=delta_q_f[0]\n",
    "        deltaqf[4]=delta_q_f[1]\n",
    "        deltaqf[5]=delta_q_f[2]\n",
    "\n",
    "        q=q+deltaqf.reshape((6,1))\n",
    "        print(f\"q={q}\")\n",
    "\n",
    "        #section deformation\n",
    "        ds=B@q \n",
    "        print(f\"ds={ds}\")\n",
    "        \n",
    "        #stresses in each fiber\n",
    "        eps_fibers=np.zeros((nf))\n",
    "        yk=np.zeros((nf))\n",
    "\n",
    "        for i in range(nf):\n",
    "            yk[i]=-b/2+b/(2*nf)+b/nf*((i+1)-1) #centroïd of each fiber\n",
    "            eps_fibers[i]=ds[0]+ds[1]*yk[i]\n",
    "            stress_fibers[i]=eps_fibers[i]*E   #the material is considered elastic \n",
    "                \n",
    "        print(f\"yk={yk}\")\n",
    "        print(f\"strain in fibers={eps_fibers}\")\n",
    "        print(f\"stress in fibers={stress_fibers}\")\n",
    "\n",
    "        k_s, f_s=ks_fs(nf, stress_fibers)\n",
    "        B, K_e, Q_e= Ke(L,w,r,k_s,f_s)\n",
    "            \n",
    "        print(f\"Qe={Q_e}\")\n",
    "\n",
    "        norm_R=np.linalg.norm(R)\n",
    "        norm_Qext=np.linalg.norm(Q_ext_i)\n",
    "\n",
    "        if norm_R/norm_Qext<tol or j>max_iter:\n",
    "            break #if the tolerance is reached, we need to go \"out of the loop\" to go to the newt load iteration\n",
    "        if norm_R/norm_Qext>tol and j==max_iter-1:\n",
    "            #print(\"no convergence\")\n",
    "            raise ValueError(\"No convergence !\")\n",
    "        else:\n",
    "            force.append(Q_e)\n",
    "            disp.append(q)\n",
    "            j+=1\n",
    "\n",
    "    #return q, Q_e, force, disp\n",
    "    "
   ]
  },
  {
   "cell_type": "code",
   "execution_count": null,
   "metadata": {},
   "outputs": [
    {
     "name": "stdout",
     "output_type": "stream",
     "text": [
      "%%%%%%%%%%%%%%%%%%%%%%%%%%0th increment%%%%%%%%%%%%%%%%%%%%%%%%%%\n",
      "%%%%%%%%%%%%%%%%%%%%%%%%%0th iteration%%%%%%%%%%%%%%%%%%%%%%%%%%\n",
      "delta_q_f=[[0.     ]\n",
      " [1.52381]\n",
      " [0.00114]]\n",
      "q=[[0.     ]\n",
      " [0.     ]\n",
      " [0.     ]\n",
      " [0.     ]\n",
      " [1.52381]\n",
      " [0.00114]]\n",
      "ds=[[ 0.]\n",
      " [-0.]]\n"
     ]
    },
    {
     "name": "stderr",
     "output_type": "stream",
     "text": [
      "C:\\Users\\ltoul\\AppData\\Local\\Temp\\ipykernel_20496\\3574266281.py:38: DeprecationWarning: Conversion of an array with ndim > 0 to a scalar is deprecated, and will error in future. Ensure you extract a single element from your array before performing this operation. (Deprecated NumPy 1.25.)\n",
      "  deltaqf[3]=delta_q_f[0]\n",
      "C:\\Users\\ltoul\\AppData\\Local\\Temp\\ipykernel_20496\\3574266281.py:39: DeprecationWarning: Conversion of an array with ndim > 0 to a scalar is deprecated, and will error in future. Ensure you extract a single element from your array before performing this operation. (Deprecated NumPy 1.25.)\n",
      "  deltaqf[4]=delta_q_f[1]\n",
      "C:\\Users\\ltoul\\AppData\\Local\\Temp\\ipykernel_20496\\3574266281.py:40: DeprecationWarning: Conversion of an array with ndim > 0 to a scalar is deprecated, and will error in future. Ensure you extract a single element from your array before performing this operation. (Deprecated NumPy 1.25.)\n",
      "  deltaqf[5]=delta_q_f[2]\n",
      "C:\\Users\\ltoul\\AppData\\Local\\Temp\\ipykernel_20496\\3574266281.py:54: DeprecationWarning: Conversion of an array with ndim > 0 to a scalar is deprecated, and will error in future. Ensure you extract a single element from your array before performing this operation. (Deprecated NumPy 1.25.)\n",
      "  eps_fibers[i]=ds[0]+ds[1]*yk[i]\n"
     ]
    },
    {
     "ename": "IndexError",
     "evalue": "list assignment index out of range",
     "output_type": "error",
     "traceback": [
      "\u001b[1;31m---------------------------------------------------------------------------\u001b[0m",
      "\u001b[1;31mIndexError\u001b[0m                                Traceback (most recent call last)",
      "\u001b[1;32mc:\\Users\\ltoul\\Python\\ANALYSE NON LINEAIRE\\Non-Linear-Analysis\\ASSIGNMENT 6\\Pb2.ipynb Cell 19\u001b[0m line \u001b[0;36m1\n\u001b[1;32m----> <a href='vscode-notebook-cell:/c%3A/Users/ltoul/Python/ANALYSE%20NON%20LINEAIRE/Non-Linear-Analysis/ASSIGNMENT%206/Pb2.ipynb#X25sZmlsZQ%3D%3D?line=0'>1</a>\u001b[0m q, Q_e, force, disp\u001b[39m=\u001b[39mnewton_raphson(Q_ext, num_incr, max_iter,  K_e, B,Q_e,q,a,b,L,nf,E, stress_fibers)\n\u001b[0;32m      <a href='vscode-notebook-cell:/c%3A/Users/ltoul/Python/ANALYSE%20NON%20LINEAIRE/Non-Linear-Analysis/ASSIGNMENT%206/Pb2.ipynb#X25sZmlsZQ%3D%3D?line=1'>2</a>\u001b[0m \u001b[39mprint\u001b[39m(\u001b[39mf\u001b[39m\u001b[39m\"\u001b[39m\u001b[39mforce=\u001b[39m\u001b[39m{\u001b[39;00mforce\u001b[39m}\u001b[39;00m\u001b[39m\"\u001b[39m)\n\u001b[0;32m      <a href='vscode-notebook-cell:/c%3A/Users/ltoul/Python/ANALYSE%20NON%20LINEAIRE/Non-Linear-Analysis/ASSIGNMENT%206/Pb2.ipynb#X25sZmlsZQ%3D%3D?line=2'>3</a>\u001b[0m \u001b[39mprint\u001b[39m(\u001b[39mf\u001b[39m\u001b[39m\"\u001b[39m\u001b[39mdisp=\u001b[39m\u001b[39m{\u001b[39;00mdisp\u001b[39m}\u001b[39;00m\u001b[39m\"\u001b[39m)\n",
      "\u001b[1;32mc:\\Users\\ltoul\\Python\\ANALYSE NON LINEAIRE\\Non-Linear-Analysis\\ASSIGNMENT 6\\Pb2.ipynb Cell 19\u001b[0m line \u001b[0;36m5\n\u001b[0;32m     <a href='vscode-notebook-cell:/c%3A/Users/ltoul/Python/ANALYSE%20NON%20LINEAIRE/Non-Linear-Analysis/ASSIGNMENT%206/Pb2.ipynb#X25sZmlsZQ%3D%3D?line=52'>53</a>\u001b[0m     yk[i]\u001b[39m=\u001b[39m\u001b[39m-\u001b[39mb\u001b[39m/\u001b[39m\u001b[39m2\u001b[39m\u001b[39m+\u001b[39mb\u001b[39m/\u001b[39m(\u001b[39m2\u001b[39m\u001b[39m*\u001b[39mnf)\u001b[39m+\u001b[39mb\u001b[39m/\u001b[39mnf\u001b[39m*\u001b[39m((i\u001b[39m+\u001b[39m\u001b[39m1\u001b[39m)\u001b[39m-\u001b[39m\u001b[39m1\u001b[39m) \u001b[39m#centroïd of each fiber\u001b[39;00m\n\u001b[0;32m     <a href='vscode-notebook-cell:/c%3A/Users/ltoul/Python/ANALYSE%20NON%20LINEAIRE/Non-Linear-Analysis/ASSIGNMENT%206/Pb2.ipynb#X25sZmlsZQ%3D%3D?line=53'>54</a>\u001b[0m     eps_fibers[i]\u001b[39m=\u001b[39mds[\u001b[39m0\u001b[39m]\u001b[39m+\u001b[39mds[\u001b[39m1\u001b[39m]\u001b[39m*\u001b[39myk[i]\n\u001b[1;32m---> <a href='vscode-notebook-cell:/c%3A/Users/ltoul/Python/ANALYSE%20NON%20LINEAIRE/Non-Linear-Analysis/ASSIGNMENT%206/Pb2.ipynb#X25sZmlsZQ%3D%3D?line=54'>55</a>\u001b[0m     stress_fibers[i]\u001b[39m=\u001b[39meps_fibers[i]\u001b[39m*\u001b[39mE   \u001b[39m#the material is considered elastic \u001b[39;00m\n\u001b[0;32m     <a href='vscode-notebook-cell:/c%3A/Users/ltoul/Python/ANALYSE%20NON%20LINEAIRE/Non-Linear-Analysis/ASSIGNMENT%206/Pb2.ipynb#X25sZmlsZQ%3D%3D?line=56'>57</a>\u001b[0m \u001b[39mprint\u001b[39m(\u001b[39mf\u001b[39m\u001b[39m\"\u001b[39m\u001b[39myk=\u001b[39m\u001b[39m{\u001b[39;00myk\u001b[39m}\u001b[39;00m\u001b[39m\"\u001b[39m)\n\u001b[0;32m     <a href='vscode-notebook-cell:/c%3A/Users/ltoul/Python/ANALYSE%20NON%20LINEAIRE/Non-Linear-Analysis/ASSIGNMENT%206/Pb2.ipynb#X25sZmlsZQ%3D%3D?line=57'>58</a>\u001b[0m \u001b[39mprint\u001b[39m(\u001b[39mf\u001b[39m\u001b[39m\"\u001b[39m\u001b[39mstrain in fibers=\u001b[39m\u001b[39m{\u001b[39;00meps_fibers\u001b[39m}\u001b[39;00m\u001b[39m\"\u001b[39m)\n",
      "\u001b[1;31mIndexError\u001b[0m: list assignment index out of range"
     ]
    }
   ],
   "source": [
    "print(f\"force={force}\")\n",
    "print(f\"disp={disp}\")"
   ]
  },
  {
   "cell_type": "code",
   "execution_count": null,
   "metadata": {},
   "outputs": [
    {
     "ename": "NameError",
     "evalue": "name 'load_incr' is not defined",
     "output_type": "error",
     "traceback": [
      "\u001b[1;31m---------------------------------------------------------------------------\u001b[0m",
      "\u001b[1;31mNameError\u001b[0m                                 Traceback (most recent call last)",
      "\u001b[1;32mc:\\Users\\ltoul\\Python\\ANALYSE NON LINEAIRE\\Non-Linear-Analysis\\ASSIGNMENT 6\\Pb2.ipynb Cell 21\u001b[0m line \u001b[0;36m4\n\u001b[0;32m      <a href='vscode-notebook-cell:/c%3A/Users/ltoul/Python/ANALYSE%20NON%20LINEAIRE/Non-Linear-Analysis/ASSIGNMENT%206/Pb2.ipynb#X24sZmlsZQ%3D%3D?line=0'>1</a>\u001b[0m \u001b[39m#Generalisation\u001b[39;00m\n\u001b[0;32m      <a href='vscode-notebook-cell:/c%3A/Users/ltoul/Python/ANALYSE%20NON%20LINEAIRE/Non-Linear-Analysis/ASSIGNMENT%206/Pb2.ipynb#X24sZmlsZQ%3D%3D?line=2'>3</a>\u001b[0m steps \u001b[39m=\u001b[39m \u001b[39m1\u001b[39m\n\u001b[1;32m----> <a href='vscode-notebook-cell:/c%3A/Users/ltoul/Python/ANALYSE%20NON%20LINEAIRE/Non-Linear-Analysis/ASSIGNMENT%206/Pb2.ipynb#X24sZmlsZQ%3D%3D?line=3'>4</a>\u001b[0m lams \u001b[39m=\u001b[39m  np\u001b[39m.\u001b[39mlinspace(\u001b[39m1\u001b[39m,load_incr)\u001b[39m/\u001b[39mload_incr\n\u001b[0;32m      <a href='vscode-notebook-cell:/c%3A/Users/ltoul/Python/ANALYSE%20NON%20LINEAIRE/Non-Linear-Analysis/ASSIGNMENT%206/Pb2.ipynb#X24sZmlsZQ%3D%3D?line=4'>5</a>\u001b[0m P_applied \u001b[39m=\u001b[39m np\u001b[39m.\u001b[39mzeros((load_incr, DOF))\n\u001b[0;32m      <a href='vscode-notebook-cell:/c%3A/Users/ltoul/Python/ANALYSE%20NON%20LINEAIRE/Non-Linear-Analysis/ASSIGNMENT%206/Pb2.ipynb#X24sZmlsZQ%3D%3D?line=7'>8</a>\u001b[0m \u001b[39m#lists to generate later the graphs !\u001b[39;00m\n",
      "\u001b[1;31mNameError\u001b[0m: name 'load_incr' is not defined"
     ]
    }
   ],
   "source": [
    "#Generalisation\n",
    "\n",
    "steps = 1\n",
    "lams =  np.linspace(1,load_incr)/load_incr\n",
    "P_applied = np.zeros((load_incr, DOF))\n",
    "\n",
    "\n",
    "#lists to generate later the graphs !\n",
    "u1 = []\n",
    "u2 = []\n",
    "p1 = []\n",
    "p2 = []\n",
    "norm_r_print = []\n",
    "iteration = []\n",
    "\n",
    "iteration_counter = 0\n",
    "\n",
    "#loops:\n",
    "for i in range (load_incr):\n",
    "    print(f\"################# Nouvelle itération sur {i=} ######################\")\n",
    "    P_applied[i,:]=P.reshape((1,DOF))*(i+1)/load_incr\n",
    "    print(\"P_applied\", P_applied[i,:])\n",
    "\n",
    "    print(f'delta_u={du}')\n",
    "    p1.append(P_applied[i,2])\n",
    "    p2.append(P_applied[i,3])\n",
    "\n",
    "    for j in range(iter_lim):\n",
    "        print(f\"%%%%%%%%%%%%%% Nouvelle itération sur {j=} %%%%%%%%%%%%%%%%%\")\n",
    "        iteration_counter += 1\n",
    "\n",
    "        #displacement:\n",
    "        u=u+du\n",
    "        print(f'u={u}')\n",
    "\n",
    "        #internal force\n",
    "        u_red, u_bar, eps=strain (u, L, T, nb_members, Connectivity)\n",
    "        print(f'u_red={u_red}')\n",
    "        print(f'u_bar={u_bar}')\n",
    "        print(f'strain={eps}')\n",
    "        Pr=internal_force(Connectivity, area, alpha, E0, u, L, T, sigma_0, eps_0, nb_members)\n",
    "\n",
    "        #residual force\n",
    "        R[2:4]=P_applied[i,2:4].reshape((1,2))-Pr[2:4]\n",
    "        print(f'PR={Pr}')\n",
    "        print(f'R={R}')\n",
    "        norm_R=np.linalg.norm(R) \n",
    "        norm_r_print.append(norm_R)\n",
    "        iteration.append(iteration_counter)\n",
    "\n",
    "        #tangent stiffness\n",
    "        K_global, K_t_global = stiffness (E, E0, area, nb_members, DOF, Connectivity, T, L) #new tangent stiffness matrix (K_global remains the same)\n",
    " \n",
    "        if norm_R < tol:\n",
    "            print(\">>>>>>>>>>>>> norm_R < tol\")\n",
    "            u1.append(u[2])\n",
    "            u2.append(u[3])\n",
    "            break #if the tolerance is reached, we need to go \"out of the loop\" to go to the newt load iteration\n",
    "\n",
    "        if norm_R>tol and j==iter_lim-1:\n",
    "            raise ValueError(\"No convergence !\")\n",
    "        \n",
    "        else:\n",
    "            #Update the strain-increment delta_u in global coordinates:\n",
    "            r=R.reshape((3,2))\n",
    "            du=displacement(support, act_P, r, K_t_global, DOF)\n",
    "            print(f'du={du}')"
   ]
  }
 ],
 "metadata": {
  "kernelspec": {
   "display_name": "Python 3",
   "language": "python",
   "name": "python3"
  },
  "language_info": {
   "codemirror_mode": {
    "name": "ipython",
    "version": 3
   },
   "file_extension": ".py",
   "mimetype": "text/x-python",
   "name": "python",
   "nbconvert_exporter": "python",
   "pygments_lexer": "ipython3",
   "version": "3.12.0"
  }
 },
 "nbformat": 4,
 "nbformat_minor": 2
}
