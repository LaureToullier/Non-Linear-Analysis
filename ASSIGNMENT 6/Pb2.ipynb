{
 "cells": [
  {
   "cell_type": "code",
   "execution_count": null,
   "metadata": {},
   "outputs": [],
   "source": []
  },
  {
   "cell_type": "markdown",
   "metadata": {},
   "source": [
    "# Assignment 6\n",
    "#### Problem 2\n",
    "\n",
    "Jérémie Engler and Laure Toullier\n",
    "\n",
    "07.12.2023"
   ]
  },
  {
   "cell_type": "markdown",
   "metadata": {},
   "source": [
    "Aim : analysis of a cantilever beam-column element subjected to a tip force"
   ]
  },
  {
   "cell_type": "code",
   "execution_count": 248,
   "metadata": {},
   "outputs": [],
   "source": [
    "#imports\n",
    "\n",
    "import numpy as np\n",
    "import matplotlib.pyplot as plt\n",
    "plt.style.use('bmh')\n",
    "import math\n",
    "\n",
    "np.set_printoptions(precision=5, suppress=True, linewidth=150)\n",
    "\n",
    "Params = plt.rcParams\n",
    "Params['figure.figsize'] = (14, 7) "
   ]
  },
  {
   "cell_type": "code",
   "execution_count": 249,
   "metadata": {},
   "outputs": [],
   "source": [
    "#Data\n",
    "\n",
    "a = 200 #mm\n",
    "b = 200 #mm\n",
    "L = 2000 #mm (uniform XS)\n",
    "E = 200000 #MPa (elastic material)\n",
    "n = 5 #number of intergration point\n",
    "nf = 10 #number of fibers in the XS\n",
    "stress_fibers = 1 #MPa\n"
   ]
  },
  {
   "cell_type": "markdown",
   "metadata": {},
   "source": [
    "Step 1 : Implement and validate a displacement based fiber beam-column element"
   ]
  },
  {
   "cell_type": "code",
   "execution_count": 250,
   "metadata": {},
   "outputs": [],
   "source": [
    "#computation of tangent section stiffness matrix and section resisting force\n",
    "\n",
    "def ks_fs(nf):\n",
    "\n",
    "    yk=np.zeros((nf))    #array for each the coordinate of each centroïd of each fiber\n",
    "    lk=np.zeros((nf,2))\n",
    "    ks=np.zeros((2,2))   #tangent section stiffness matrix\n",
    "    fs=np.zeros((2,1))   #section resisting force\n",
    "\n",
    "    for i in range(nf):\n",
    "        yk[i]=-b/2+b/(2*nf)+b/nf*((i+1)-1) #centroïd of each fiber\n",
    "        lki=np.array([[1,yk[i]]])\n",
    "        lk[i]=lki\n",
    "        ks+=np.transpose(lki)@lki*E*(a*b/nf)\n",
    "        fs+=np.transpose(lki)*stress_fibers*(a*b/nf)\n",
    "\n",
    "    return ks, fs\n",
    "\n",
    "#note: as the XS is constant, ks and fs are constant along the cantilever"
   ]
  },
  {
   "cell_type": "markdown",
   "metadata": {},
   "source": [
    "The numerical integration used to obtain a numerical estimate of the integral is Gauss-Lobato, with 5 integration points. The conditions that satisfy all error partial derivatives for 5 integration points are:\n",
    "\n",
    "    w1=w5=1/10 and r1=1, r5=-1\n",
    "\n",
    "    w2=w4=49/90 and r2=-sqrt(21)/7, r4=sqrt(21)/7 \n",
    "    \n",
    "    w3=32/45 and r3=0"
   ]
  },
  {
   "cell_type": "code",
   "execution_count": 251,
   "metadata": {},
   "outputs": [],
   "source": [
    "#computation of the stiffness matrix\n",
    "\n",
    "r=np.array([-1,-np.sqrt(21)/7, 0, np.sqrt(21)/7,1])\n",
    "w=np.array([0.1,49/90,32/45,49/90,0.1])\n",
    "\n",
    "def Ke(L,w,r,k_s,f_s):\n",
    "    \n",
    "    Ke=np.zeros((6,6))\n",
    "    Qfv=np.zeros((6,1))\n",
    "\n",
    "    for i in range(n) :\n",
    "        xi=L/2*r[i]+L/2      #we integrate using a variable transformation from r to x to normalize the system: x=L/2*r+L/2 and dx=L/2*dr \n",
    "        \n",
    "        B=np.array([[-1/L, 0, 0, 1/L, 0,0],\n",
    "                [0, (12*xi/(L**3))-6/(L**2), 6*xi/(L**2)-4/L, 0, -12*xi/(L**3)+6/(L**2) , 6*xi/(L**2)-2/L]])\n",
    "        \n",
    "        kb=(B.T@k_s)@B\n",
    "        Ke+=L/2*w[i]*kb\n",
    "\n",
    "        qb=B.T@f_s\n",
    "        Qfv+=L/2*qb*w[i]\n",
    "\n",
    "    return Ke, Qfv\n",
    "\n",
    "\n"
   ]
  },
  {
   "cell_type": "code",
   "execution_count": 252,
   "metadata": {},
   "outputs": [],
   "source": [
    "k_s,f_s=ks_fs(nf)\n",
    "\n",
    "K_e,Q_e=Ke(L,w,r,k_s,f_s)\n"
   ]
  },
  {
   "cell_type": "code",
   "execution_count": 253,
   "metadata": {},
   "outputs": [
    {
     "name": "stdout",
     "output_type": "stream",
     "text": [
      "k_s=[[8.00e+09 0.00e+00]\n",
      " [0.00e+00 2.64e+13]]\n",
      "f_s=[[40000.]\n",
      " [    0.]]\n",
      "The element resisting force vector is \n",
      "[[-40000.]\n",
      " [     0.]\n",
      " [     0.]\n",
      " [ 40000.]\n",
      " [     0.]\n",
      " [     0.]]\n",
      "The tangent element stiffness matrix of a displacement based fiber BC elemnt is:\n",
      "[[ 4.00e+06  0.00e+00  0.00e+00 -4.00e+06  0.00e+00  0.00e+00]\n",
      " [ 0.00e+00  3.96e+04  3.96e+07  0.00e+00 -3.96e+04  3.96e+07]\n",
      " [ 0.00e+00  3.96e+07  5.28e+10  0.00e+00 -3.96e+07  2.64e+10]\n",
      " [-4.00e+06  0.00e+00  0.00e+00  4.00e+06  0.00e+00  0.00e+00]\n",
      " [ 0.00e+00 -3.96e+04 -3.96e+07  0.00e+00  3.96e+04 -3.96e+07]\n",
      " [ 0.00e+00  3.96e+07  2.64e+10  0.00e+00 -3.96e+07  5.28e+10]]\n"
     ]
    }
   ],
   "source": [
    "print(f\"k_s={k_s}\")\n",
    "print(f\"f_s={f_s}\")\n",
    "print(f\"The element resisting force vector is \")\n",
    "print(Q_e)\n",
    "print(\"The tangent element stiffness matrix of a displacement based fiber BC elemnt is:\")\n",
    "print(K_e)"
   ]
  },
  {
   "cell_type": "code",
   "execution_count": 254,
   "metadata": {},
   "outputs": [
    {
     "name": "stdout",
     "output_type": "stream",
     "text": [
      "K_classic=[[ 4.00000e+06  0.00000e+00  0.00000e+00 -4.00000e+06  0.00000e+00  0.00000e+00]\n",
      " [ 0.00000e+00  4.00000e+04  4.00000e+07  0.00000e+00 -4.00000e+04  4.00000e+07]\n",
      " [ 0.00000e+00  4.00000e+07  5.33333e+10  0.00000e+00 -4.00000e+07  2.66667e+10]\n",
      " [-4.00000e+06  0.00000e+00  0.00000e+00  4.00000e+06  0.00000e+00  0.00000e+00]\n",
      " [ 0.00000e+00 -4.00000e+04 -4.00000e+07  0.00000e+00  4.00000e+04 -4.00000e+07]\n",
      " [ 0.00000e+00  4.00000e+07  2.66667e+10  0.00000e+00 -4.00000e+07  5.33333e+10]]\n"
     ]
    }
   ],
   "source": [
    "#classical stiffness matrix (from week 7, slide 19)\n",
    "\n",
    "def stiffness_elastic_beam (E,a,b,L):\n",
    "\n",
    "    K=np.zeros((6,6))\n",
    "\n",
    "    I=a*b**3/12\n",
    "    A=a*b\n",
    "    \n",
    "    K[0,0]=E*A/L\n",
    "    K[0,3]=-E*A/L\n",
    "    K[3,0]=-E*A/L\n",
    "    K[3,3]=E*A/L\n",
    "\n",
    "    K[1,1]=K[4,4]=E*I*12/L**3\n",
    "    K[1,2]=K[2,1]=E*I*6/L**2\n",
    "    K[2,2]=K[5,5]=E*I*4/L\n",
    "    K[5,4]=K[4,5]=-6*E*I/L**2\n",
    "\n",
    "    K[1,4]=K[4,1]=-E*I*12/L**3\n",
    "    K[1,5]=K[5,1]=E*I*6/L**2\n",
    "    K[2,4]=K[4,2]=-E*I*6/L**2\n",
    "    K[2,5]=K[5,2]=E*I*2/L\n",
    "\n",
    "    return K\n",
    "\n",
    "K_classic=stiffness_elastic_beam (E,a,b,L)\n",
    "print(f\"K_classic={K_classic}\")\n"
   ]
  },
  {
   "cell_type": "code",
   "execution_count": 255,
   "metadata": {},
   "outputs": [],
   "source": [
    "#computation of the error\n",
    "\n",
    "def error(nf):\n",
    "    k_s,f_s=ks_fs(nf)\n",
    "    K_e,Q=Ke(L,w,r,k_s,f_s)\n",
    "    \n",
    "    err=np.linalg.norm(K_e-K_classic)/np.linalg.norm(K_classic)*100\n",
    "    return err\n",
    "\n",
    "def error_min(err_accept):\n",
    "    n_iter=20\n",
    "    n=1\n",
    "    while error(n)>err_accept and n<n_iter:\n",
    "        n+=1\n",
    "    return n\n"
   ]
  },
  {
   "cell_type": "code",
   "execution_count": 256,
   "metadata": {},
   "outputs": [
    {
     "name": "stdout",
     "output_type": "stream",
     "text": [
      "error=0.9999999955000101\n",
      "Minimum number of fibers for error less than 2%=8\n",
      "For a minimum number of fiber less than 2%, the error is: 1.5624999929687748\n"
     ]
    }
   ],
   "source": [
    "err=error(nf)\n",
    "print(f\"error={err}\")\n",
    "min_num_fibers=error_min(2)\n",
    "err_min=error(min_num_fibers)\n",
    "print(f\"Minimum number of fibers for error less than 2%={min_num_fibers}\")\n",
    "print(f\"For a minimum number of fiber less than 2%, the error is: {err_min}\")"
   ]
  }
 ],
 "metadata": {
  "kernelspec": {
   "display_name": "Python 3",
   "language": "python",
   "name": "python3"
  },
  "language_info": {
   "codemirror_mode": {
    "name": "ipython",
    "version": 3
   },
   "file_extension": ".py",
   "mimetype": "text/x-python",
   "name": "python",
   "nbconvert_exporter": "python",
   "pygments_lexer": "ipython3",
   "version": "3.12.0"
  }
 },
 "nbformat": 4,
 "nbformat_minor": 2
}
