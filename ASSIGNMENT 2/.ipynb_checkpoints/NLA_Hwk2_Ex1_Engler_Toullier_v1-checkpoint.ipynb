{
 "cells": [
  {
   "cell_type": "markdown",
   "metadata": {},
   "source": [
    "# Nonlinear analysis -Assignment 2"
   ]
  },
  {
   "cell_type": "markdown",
   "metadata": {},
   "source": [
    "04.10.2023 - Jérémie Engler and Laure Toullier"
   ]
  },
  {
   "cell_type": "markdown",
   "metadata": {},
   "source": [
    "## Part b"
   ]
  },
  {
   "cell_type": "markdown",
   "metadata": {},
   "source": [
    "### Imports"
   ]
  },
  {
   "cell_type": "code",
   "execution_count": 2,
   "metadata": {},
   "outputs": [],
   "source": [
    "import numpy as np"
   ]
  },
  {
   "cell_type": "markdown",
   "metadata": {},
   "source": [
    "Definitions"
   ]
  },
  {
   "cell_type": "code",
   "execution_count": 7,
   "metadata": {},
   "outputs": [],
   "source": [
    "# Element connectivity\n",
    "nelements = 2 \n",
    "nnodes = 3\n",
    "\n",
    "# Written input:\n",
    "connectivity = np.array([[1, 2], [2, 3]])\n",
    "nodes_P = np.array([2])\n",
    "rest=[1,1,0,0,1,1] #restraints\n",
    "\n",
    "# Unit stiffness matrix of bar in local coordinate system\n",
    "K_unit = np.array([[1, 0, -1, 0], \n",
    "                   [0, 0,  0, 0], \n",
    "                   [-1, 0, 1, 0], \n",
    "                   [0, 0, 0, 0]])\n",
    "\n",
    "# Input data \n",
    "A = [15e3,2e3] #mm^2 Cross-sectional area of the elements\n",
    "a = 3000 #mm Half lenght of the truss\n",
    "b = 4000 #mm Height of the truss\n",
    "P = 8625e3 #N Load\n",
    "phiP = 60 #° Angle of load\n",
    "theta = [53.13, -53.13] #° Angle of elements, at first node of the element\n",
    "Pglob = np.array([P*np.cos(np.radians(phiP)), P*np.sin(np.radians(phiP))]) #N P force in global coordinates (x,y)\n",
    "\n",
    "rest=[1,1,0,0,1,1]\n",
    "\n",
    "#Material stiffness\n",
    "E = 200e3  # N/mm^2 Young modulus of the elements\n",
    "fy=500e6 #Pa\n",
    "ey=fy/E\n",
    "alpha=0.02\n"
   ]
  },
  {
   "cell_type": "markdown",
   "metadata": {},
   "source": [
    "Stiffness"
   ]
  },
  {
   "cell_type": "code",
   "execution_count": 8,
   "metadata": {},
   "outputs": [
    {
     "ename": "TypeError",
     "evalue": "'float' object is not subscriptable",
     "output_type": "error",
     "traceback": [
      "\u001b[1;31m---------------------------------------------------------------------------\u001b[0m",
      "\u001b[1;31mTypeError\u001b[0m                                 Traceback (most recent call last)",
      "Cell \u001b[1;32mIn[8], line 13\u001b[0m\n\u001b[0;32m     11\u001b[0m     Li \u001b[38;5;241m=\u001b[39m b\n\u001b[0;32m     12\u001b[0m Ai \u001b[38;5;241m=\u001b[39m A[i]\n\u001b[1;32m---> 13\u001b[0m Ei \u001b[38;5;241m=\u001b[39m E[i]\n\u001b[0;32m     14\u001b[0m ki \u001b[38;5;241m=\u001b[39m Ei \u001b[38;5;241m*\u001b[39m Ai \u001b[38;5;241m/\u001b[39m Li\n\u001b[0;32m     15\u001b[0m T[i] \u001b[38;5;241m=\u001b[39m np\u001b[38;5;241m.\u001b[39marray([[c, s, \u001b[38;5;241m0\u001b[39m, \u001b[38;5;241m0\u001b[39m], \n\u001b[0;32m     16\u001b[0m           [\u001b[38;5;241m-\u001b[39ms, c, \u001b[38;5;241m0\u001b[39m, \u001b[38;5;241m0\u001b[39m], \n\u001b[0;32m     17\u001b[0m           [\u001b[38;5;241m0\u001b[39m, \u001b[38;5;241m0\u001b[39m, c, s], \n\u001b[0;32m     18\u001b[0m           [\u001b[38;5;241m0\u001b[39m, \u001b[38;5;241m0\u001b[39m, \u001b[38;5;241m-\u001b[39ms, c]])\n",
      "\u001b[1;31mTypeError\u001b[0m: 'float' object is not subscriptable"
     ]
    }
   ],
   "source": [
    "T = np.zeros((nelements,4,4))\n",
    "L = []\n",
    "k = []\n",
    "k_glob = np.zeros((nelements,4,4))\n",
    "\n",
    "for i in range(nelements):\n",
    "    c = np.cos(np.radians(theta[i]))\n",
    "    s = np.sin(np.radians(theta[i]))\n",
    "    Li = abs(a/c)\n",
    "    if theta[i] == -90:\n",
    "        Li = b\n",
    "    Ai = A[i]\n",
    "    Ei = E[i]\n",
    "    ki = Ei * Ai / Li\n",
    "    T[i] = np.array([[c, s, 0, 0], \n",
    "              [-s, c, 0, 0], \n",
    "              [0, 0, c, s], \n",
    "              [0, 0, -s, c]])\n",
    "    L.append(Li)\n",
    "    k.append(ki)\n",
    "\n",
    "for i in range(nelements):\n",
    "    k_glob[i] = k[i] * T[i].T @ K_unit @ T[i]\n",
    "\n",
    "\n",
    "# Assemble global stiffness matrix\n",
    "NDoF = 2*nnodes\n",
    "K_global = np.zeros((NDoF,NDoF))\n",
    "K_globals = np.zeros((nelements,NDoF, NDoF))\n",
    "\n",
    "\n",
    "# Assemble elements\n",
    "for i in range (nelements):\n",
    "    connectelem = connectivity[i] #nodes connected to the element\n",
    "    indexs = 2*connectelem\n",
    "    i11 = indexs[0]-2\n",
    "    i12 = indexs[0]\n",
    "    i21 = indexs[1]-2\n",
    "    i22 = indexs[1]\n",
    "\n",
    "    Ki_global = np.zeros((NDoF, NDoF))\n",
    "    ki_global = k_glob[i]\n",
    "    Ki_global[i11:i12, i11:i12] = ki_global[0:2, 0:2]\n",
    "    Ki_global[i21:i22, i11:i12] = ki_global[2:4, 0:2]\n",
    "    Ki_global[i11:i12, i21:i22] = ki_global[0:2, 2:4]\n",
    "    Ki_global[i21:i22, i21:i22] = ki_global[2:4, 2:4]\n",
    "    K_global = K_global + Ki_global\n",
    "    K_globals[i] = Ki_global"
   ]
  },
  {
   "cell_type": "markdown",
   "metadata": {},
   "source": [
    "System equilibrium"
   ]
  },
  {
   "cell_type": "code",
   "execution_count": null,
   "metadata": {},
   "outputs": [],
   "source": [
    "# Calculate displacements at nodes with forces applied\n",
    "numnodesP = len(nodes_P)\n",
    "F_red = Pglob\n",
    "indexssup = 2*nodes_P - 1\n",
    "indexsinf = indexssup - 1\n",
    "mask = []\n",
    "for i in range(numnodesP):\n",
    "    mask.append(indexsinf[i])\n",
    "    mask.append(indexssup[i])\n",
    "K_red = K_global[mask,:]\n",
    "K_red = K_red[:,mask]\n",
    "\n",
    "u_red = np.linalg.inv(K_red) @ F_red\n",
    "\n",
    "\n",
    "# Calculate reaction forces at other nodes\n",
    "u_vec = np.zeros((2*nnodes))\n",
    "\n",
    "for i in range(numnodesP):\n",
    "    u_vec[indexsinf[i]] = u_red[2*i]\n",
    "    u_vec[indexssup[i]] = u_red[2*i+1]\n",
    "\n",
    "F = K_global @ u_vec\n",
    "\n",
    "\n",
    "# Calculate axial forces\n",
    "axialF = []\n",
    "for i in range(nelements):\n",
    "    F_elei = K_globals[i] @ u_vec\n",
    "    index_red = 2*connectivity[i]\n",
    "    F_elei_red = F_elei[[index_red[0]-2, index_red[0]-1, index_red[1]-2, index_red[1]-1]]\n",
    "    F_elei_local = T[i] @ F_elei_red\n",
    "    Fi = F_elei_local[2]\n",
    "    axialF.append(Fi)\n",
    "\n",
    "for i in range(nelements):\n",
    "    print(f\"Axial load in element {i+1}: {round(axialF[i])} N\")\n",
    "    print()\n",
    "\n",
    "for i in range(nnodes):\n",
    "    if i == 0:\n",
    "        print(\"Left support:\")\n",
    "    if i == 1:\n",
    "        print(\"Right support:\")\n",
    "    print(f\"Node {i+1}, horizontal displacement: {round(u_vec[2*i],2)} mm\")\n",
    "    print(f\"Node {i+1}, vertical displacement: {round(u_vec[2*i+1],2)} mm\")\n",
    "    print()\n",
    "    print(f\"Node {i+1}, horizontal force: {round(F[2*i])} N\")\n",
    "    print(f\"Node {i+1}, vertical force: {round(F[2*i+1])} N\")\n",
    "    print()\n",
    "    print()"
   ]
  },
  {
   "cell_type": "markdown",
   "metadata": {},
   "source": [
    "Newton Raphson Method"
   ]
  },
  {
   "cell_type": "code",
   "execution_count": 1,
   "metadata": {},
   "outputs": [
    {
     "ename": "NameError",
     "evalue": "name 'np' is not defined",
     "output_type": "error",
     "traceback": [
      "\u001b[1;31m---------------------------------------------------------------------------\u001b[0m",
      "\u001b[1;31mNameError\u001b[0m                                 Traceback (most recent call last)",
      "Cell \u001b[1;32mIn[1], line 3\u001b[0m\n\u001b[0;32m      1\u001b[0m \u001b[38;5;66;03m#Initialisation\u001b[39;00m\n\u001b[1;32m----> 3\u001b[0m u_0\u001b[38;5;241m=\u001b[39mnp\u001b[38;5;241m.\u001b[39marray([\u001b[38;5;241m0\u001b[39m,\u001b[38;5;241m0\u001b[39m,\u001b[38;5;241m0\u001b[39m,\u001b[38;5;241m0\u001b[39m,\u001b[38;5;241m0\u001b[39m,\u001b[38;5;241m0\u001b[39m,\u001b[38;5;241m0\u001b[39m,\u001b[38;5;241m0\u001b[39m]) \u001b[38;5;66;03m#initial nodal displacement\u001b[39;00m\n\u001b[0;32m      4\u001b[0m K_0\u001b[38;5;241m=\u001b[39mK_global \u001b[38;5;66;03m#initial stiffness matrix\u001b[39;00m\n\u001b[0;32m      5\u001b[0m n\u001b[38;5;241m=\u001b[39m\u001b[38;5;241m2\u001b[39m \u001b[38;5;66;03m#increment for loadstep\u001b[39;00m\n",
      "\u001b[1;31mNameError\u001b[0m: name 'np' is not defined"
     ]
    }
   ],
   "source": [
    "#Initialisation\n",
    "\n",
    "u_0=np.array([0,0,0,0,0,0,0,0]) #initial nodal displacement\n",
    "K_0=K_global #initial stiffness matrix\n",
    "n=2 #increment for loadstep\n",
    "np.shape(K_0)"
   ]
  },
  {
   "cell_type": "code",
   "execution_count": null,
   "metadata": {},
   "outputs": [],
   "source": []
  }
 ],
 "metadata": {
  "kernelspec": {
   "display_name": "Python 3 (ipykernel)",
   "language": "python",
   "name": "python3"
  },
  "language_info": {
   "codemirror_mode": {
    "name": "ipython",
    "version": 3
   },
   "file_extension": ".py",
   "mimetype": "text/x-python",
   "name": "python",
   "nbconvert_exporter": "python",
   "pygments_lexer": "ipython3",
   "version": "3.11.4"
  }
 },
 "nbformat": 4,
 "nbformat_minor": 2
}
