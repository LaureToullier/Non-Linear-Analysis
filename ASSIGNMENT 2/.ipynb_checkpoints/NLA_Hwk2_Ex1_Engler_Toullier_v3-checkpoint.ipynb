{
 "cells": [
  {
   "cell_type": "markdown",
   "metadata": {},
   "source": [
    "# Nonlinear analysis -Assignment 2"
   ]
  },
  {
   "cell_type": "markdown",
   "metadata": {},
   "source": [
    "03.10.2023 - Laure Toullier and Jérémie Engler"
   ]
  },
  {
   "cell_type": "markdown",
   "metadata": {},
   "source": [
    "## Exercice 1"
   ]
  },
  {
   "cell_type": "markdown",
   "metadata": {},
   "source": [
    "### Imports"
   ]
  },
  {
   "cell_type": "code",
   "execution_count": 1,
   "metadata": {},
   "outputs": [],
   "source": [
    "import numpy as np\n",
    "import matplotlib.pyplot as plt"
   ]
  },
  {
   "cell_type": "markdown",
   "metadata": {},
   "source": [
    "Definitions"
   ]
  },
  {
   "cell_type": "code",
   "execution_count": 2,
   "metadata": {},
   "outputs": [],
   "source": [
    "# Element connectivity\n",
    "nelements = 2 \n",
    "nnodes = 3\n",
    "\n",
    "# Written input:\n",
    "connectivity = np.array([[1, 2], [3, 2]])\n",
    "nodes_P = np.array([2])\n",
    "\n",
    "# Unit stiffness matrix of bar in local coordinate system\n",
    "K_unit = np.array([[1, 0, -1, 0], \n",
    "                   [0, 0,  0, 0], \n",
    "                   [-1, 0, 1, 0], \n",
    "                   [0, 0, 0, 0]])\n",
    "\n",
    "# Input data and element stiffness matrices\n",
    "E = [200e3,200e3]  # N/mm^2 Young modulus of the elements\n",
    "A = [15e3,2e3] #mm^2 Cross-sectional area of the elements\n",
    "a = 3000 #mm Half lenght of the truss\n",
    "b = 4000 #mm Height of the truss\n",
    "P = 10000e3 #7862e3 #N Load\n",
    "phiP = 60 #° Angle of load\n",
    "theta = [53.13, -53.13] #° Angle of elements, at first node of the element\n",
    "Pglob = np.array([P*np.cos(np.radians(phiP)), P*np.sin(np.radians(phiP))]) #N P force in global coordinates (x,y)\n",
    "alpha = 0.02\n",
    "sigmay = 500 #Mpa\n",
    "\n",
    "#Variables and tracking vectors initialization\n",
    "\n",
    "plastifiedelem = [] #Track which elements are plastified\n",
    "Pcp = []\n",
    "lambdatemp = []\n",
    "alphaelem = [1,1]\n",
    "Ucp = np.zeros((nelements,2,1))\n",
    "Pglobit = Pglob\n",
    "\n",
    "#Initialisation of the plotted vectors\n",
    "\n",
    "u = [0]\n",
    "v = [0]\n",
    "px = [0]\n",
    "py = [0]\n",
    "p = [0]"
   ]
  },
  {
   "cell_type": "markdown",
   "metadata": {},
   "source": [
    "Functions definitions"
   ]
  },
  {
   "cell_type": "code",
   "execution_count": 3,
   "metadata": {},
   "outputs": [],
   "source": [
    "def lengths_rotmat_and_Fy():\n",
    "\n",
    "    #Length of elements, rotation matrices and yielding forces\n",
    "\n",
    "    T = np.zeros((nelements,4,4))\n",
    "    L = []\n",
    "    Fy = []\n",
    "\n",
    "    for i in range(nelements):\n",
    "        c = np.cos(np.radians(theta[i]))\n",
    "        s = np.sin(np.radians(theta[i]))\n",
    "        Li = abs(a/c)\n",
    "        if theta[i] == -90:\n",
    "            Li = b\n",
    "        T[i] = np.array([[c, s, 0, 0], \n",
    "                [-s, c, 0, 0], \n",
    "                [0, 0, c, s], \n",
    "                [0, 0, -s, c]])\n",
    "        L.append(Li)\n",
    "        Fyi = sigmay * A[i]\n",
    "        Fy.append(Fyi)\n",
    "\n",
    "    return L,T,Fy\n",
    "\n",
    "def stiffness_matrices(T,L):\n",
    "\n",
    "    k = []\n",
    "    k_glob = np.zeros((nelements,4,4))\n",
    "\n",
    "    #Stiffness matrices\n",
    "\n",
    "    for i in range(nelements):\n",
    "        ki = E[i] * A[i] / L[i]\n",
    "        k.append(ki)\n",
    "        k_glob[i] = ki * T[i].T @ K_unit @ T[i]\n",
    "    \n",
    "    return k,k_glob\n",
    "\n",
    "def assemble(alphaelem):\n",
    "    # Assemble global stiffness matrix\n",
    "    NDoF = 2*nnodes\n",
    "    K_global = np.zeros((NDoF,NDoF))\n",
    "    K_globals = np.zeros((nelements,NDoF, NDoF))\n",
    "# Assemble elements\n",
    "    for i in range (nelements):\n",
    "        connectelem = connectivity[i] #nodes connected to the element\n",
    "        indexs = 2*connectelem\n",
    "        i11 = indexs[0]-2\n",
    "        i12 = indexs[0]\n",
    "        i21 = indexs[1]-2\n",
    "        i22 = indexs[1]\n",
    "\n",
    "        Ki_global = np.zeros((NDoF, NDoF))\n",
    "        ki_global = alphaelem[i]*k_glob[i]\n",
    "        Ki_global[i11:i12, i11:i12] = ki_global[0:2, 0:2]\n",
    "        Ki_global[i21:i22, i11:i12] = ki_global[2:4, 0:2]\n",
    "        Ki_global[i11:i12, i21:i22] = ki_global[0:2, 2:4]\n",
    "        Ki_global[i21:i22, i21:i22] = ki_global[2:4, 2:4]\n",
    "        K_global = K_global + Ki_global\n",
    "        K_globals[i] = Ki_global\n",
    "\n",
    "    return(K_global,K_globals)\n",
    "\n",
    "def u_vec_and_F(P,K_global):\n",
    "    # Calculate displacements at nodes with forces applied\n",
    "    numnodesP = len(nodes_P)\n",
    "    F_red = P\n",
    "    # print(f\"Applied force at iteration {len(plastifiedelem)} = {F_red}\")\n",
    "    indexssup = 2*nodes_P - 1\n",
    "    indexsinf = indexssup - 1\n",
    "    mask = []\n",
    "    for i in range(numnodesP):\n",
    "        mask.append(indexsinf[i])\n",
    "        mask.append(indexssup[i])\n",
    "    K_red = K_global[mask,:]\n",
    "    K_red = K_red[:,mask]\n",
    "\n",
    "    u_red = np.linalg.inv(K_red) @ F_red\n",
    "    # print(f\"Displacement at iteration {len(plastifiedelem)} = {u_red}\")\n",
    "\n",
    "    # Calculate reaction forces at other nodes\n",
    "    u_vec = np.zeros((2*nnodes))\n",
    "\n",
    "    for i in range(numnodesP):\n",
    "        u_vec[indexsinf[i]] = u_red[2*i]\n",
    "        u_vec[indexssup[i]] = u_red[2*i+1]\n",
    "\n",
    "    F = K_global @ u_vec\n",
    "\n",
    "    return(u_vec,F)\n",
    "\n",
    "def axialforces(K_globals,u_vec,T):\n",
    "    axialF = []\n",
    "    for i in range(nelements):\n",
    "        F_elei = K_globals[i] @ u_vec\n",
    "        index_red = 2*connectivity[i]\n",
    "        F_elei_red = F_elei[[index_red[0]-2, index_red[0]-1, index_red[1]-2, index_red[1]-1]]\n",
    "        F_elei_local = T[i] @ F_elei_red\n",
    "        Fi = F_elei_local[2]\n",
    "        axialF.append(Fi)\n",
    "\n",
    "    return(axialF)\n",
    "\n",
    "def printgraph(x,y,xname,yname,unit1, unit2):\n",
    "    plt.plot(x,y,'o')\n",
    "    plt.plot(x,y,'b')\n",
    "\n",
    "    plt.title(f'{yname} as a function of {xname}')\n",
    "    plt.xlabel(f\"{xname} ({unit1})\")\n",
    "    plt.ylabel(f\"{yname} ({unit2})\")\n",
    "\n",
    "    plt.show()\n",
    "\n",
    "    return None\n",
    "\n",
    "def points_archives(u,v,px,py,p):\n",
    "\n",
    "    for i in nodes_P:\n",
    "        j = i-1\n",
    "        u.append(u_vec[2*j]+u[-1])\n",
    "        v.append(u_vec[2*j+1]+v[-1])\n",
    "        px.append(F[2*j]+px[-1])\n",
    "        py.append(F[2*j+1]+py[-1])\n",
    "        p.append(F[2*j]/np.cos(phiP)+p[-1])\n",
    "    return u,v,px,py,p\n",
    "\n"
   ]
  },
  {
   "cell_type": "markdown",
   "metadata": {},
   "source": [
    "Initial stiffness and event to event analysis"
   ]
  },
  {
   "cell_type": "code",
   "execution_count": 4,
   "metadata": {},
   "outputs": [
    {
     "name": "stdout",
     "output_type": "stream",
     "text": [
      "Displacements for every events [u,v]: [[0, 0], [0.25472836950797983, 15.433936729520582], [13.055682660972561, 25.416782155469633], [13.694211032119792, 64.10507784599663]]\n"
     ]
    }
   ],
   "source": [
    "L,T,Fy = lengths_rotmat_and_Fy()\n",
    "\n",
    "k,k_glob = stiffness_matrices(T,L)\n",
    "\n",
    "#Event to event analysis\n",
    "\n",
    "while len(plastifiedelem) < nelements: \n",
    "    lambdait = 1\n",
    "\n",
    "    #Calculate P from last iterations\n",
    "    Plastit = [0,0]\n",
    "    for i in range(len(Pcp)):\n",
    "        Plastit += Pcp[i] \n",
    "    \n",
    "    #Assemble elementes\n",
    "\n",
    "    K_global,K_globals = assemble(alphaelem)\n",
    "    \n",
    "    #System equilibrium with incremental load\n",
    "    \n",
    "    u_vec,F = u_vec_and_F(Pglob,K_global)\n",
    "\n",
    "    # Calculate axial forces\n",
    "\n",
    "    axialF = axialforces(K_globals,u_vec,T)\n",
    "\n",
    "    pelemindex = -1\n",
    "    for i in range(nelements):\n",
    "        if abs(axialF[i]) > Fy[i] and abs(Fy[i]/axialF[i]) < lambdait and Fy[i] != 0:\n",
    "            # plastifiedelem.append(i)\n",
    "            if len(plastifiedelem) != 0:\n",
    "                lambdait = abs((Fy[i]-abs(axialFprev[i]))/axialF[i])\n",
    "            else:\n",
    "                lambdait = abs((Fy[i])/axialF[i])\n",
    "            # print(f\"Element {i}, lambda = {lambdait}\")\n",
    "            pelemindex = i\n",
    "            Fy[i] = 0\n",
    "    \n",
    "    if pelemindex != -1:\n",
    "        plastifiedelem.append(pelemindex)\n",
    "        lambdatemp.append(lambdait)\n",
    "        alphaelem[pelemindex] = alpha\n",
    "\n",
    "    # print(plastifiedelem)\n",
    "    # print(f\"lambdas = {lambdatemp}\")\n",
    "\n",
    "    Pcpi = lambdait * Pglobit\n",
    "    Pcp.append(Pcpi)\n",
    "\n",
    "\n",
    "    #System equilibrium with plastification load for iteration\n",
    "\n",
    "    Plastit = [0,0]\n",
    "    if len(Pcp) > 0:\n",
    "        for i in range(len(Pcp)):\n",
    "            Plastit = Pcp[-1] \n",
    "\n",
    "    u_vec,F = u_vec_and_F(Plastit,K_global)\n",
    "\n",
    "    # Calculate axial forces with plasitification load\n",
    "\n",
    "    axialFprev = axialforces(K_globals,u_vec,T)\n",
    "    \n",
    "    u,v,px,py,p = points_archives(u,v,px,py,p)\n",
    "\n",
    "# Final slope\n",
    "\n",
    "final_load = Pcp[-1]*2 # Relevant load step in order to observe the behavior after plastification of the entire truss\n",
    "\n",
    "K_global,K_globals = assemble(alphaelem)\n",
    "\n",
    "#System equilibrium with final load\n",
    "\n",
    "u_vec,F = u_vec_and_F(final_load,K_global)\n",
    "\n",
    "u,v,px,py,p = points_archives(u,v,px,py,p)\n",
    "\n",
    "displacementpoints = []\n",
    "for i in range(len(plastifiedelem)+2):\n",
    "    displacementpoints.append([u[i],v[i]])\n",
    "\n",
    "print(f\"Displacements for every events [u,v]: {displacementpoints}\")\n",
    "    \n",
    "    "
   ]
  },
  {
   "cell_type": "code",
   "execution_count": 5,
   "metadata": {},
   "outputs": [
    {
     "data": {
      "image/png": "[encoded data removed]",
      "text/plain": [
       "<Figure size 640x480 with 1 Axes>"
      ]
     },
     "metadata": {},
     "output_type": "display_data"
    },
    {
     "data": {
      "image/png": "[encoded data removed]",
      "text/plain": [
       "<Figure size 640x480 with 1 Axes>"
      ]
     },
     "metadata": {},
     "output_type": "display_data"
    },
    {
     "data": {
      "image/png": "[encoded data removed]",
      "text/plain": [
       "<Figure size 640x480 with 1 Axes>"
      ]
     },
     "metadata": {},
     "output_type": "display_data"
    }
   ],
   "source": [
    "printgraph(u,px,\"u\",\"px\",\"mm\",\"N\")\n",
    "printgraph(v,py,\"v\",\"py\",\"mm\",\"N\")\n",
    "printgraph(u,v,\"u\",\"v\",\"mm\",\"mm\")"
   ]
  }
 ],
 "metadata": {
  "kernelspec": {
   "display_name": "Python 3 (ipykernel)",
   "language": "python",
   "name": "python3"
  },
  "language_info": {
   "codemirror_mode": {
    "name": "ipython",
    "version": 3
   },
   "file_extension": ".py",
   "mimetype": "text/x-python",
   "name": "python",
   "nbconvert_exporter": "python",
   "pygments_lexer": "ipython3",
   "version": "3.11.4"
  }
 },
 "nbformat": 4,
 "nbformat_minor": 2
}
