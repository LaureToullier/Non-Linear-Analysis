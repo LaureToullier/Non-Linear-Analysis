{
 "cells": [
  {
   "cell_type": "markdown",
   "metadata": {},
   "source": [
    "# Nonlinear analysis -Assignment 1"
   ]
  },
  {
   "cell_type": "markdown",
   "metadata": {},
   "source": [
    "26.09.2023 - Jérémie Engler and Laure Toullier"
   ]
  },
  {
   "cell_type": "markdown",
   "metadata": {},
   "source": [
    "## Exercice 1"
   ]
  },
  {
   "cell_type": "markdown",
   "metadata": {},
   "source": [
    "### Imports"
   ]
  },
  {
   "cell_type": "code",
   "execution_count": 1,
   "metadata": {},
   "outputs": [],
   "source": [
    "import numpy as np"
   ]
  },
  {
   "cell_type": "markdown",
   "metadata": {},
   "source": [
    "Definitions"
   ]
  },
  {
   "cell_type": "code",
   "execution_count": 8,
   "metadata": {},
   "outputs": [],
   "source": [
    "# Element connectivity\n",
    "nelements = 2 \n",
    "nnodes = 3\n",
    "\n",
    "# Written input:\n",
    "connectivity = np.array([[1, 2], [2, 3]])\n",
    "nodes_P = np.array([2])\n",
    "\n",
    "# Unit stiffness matrix of bar in local coordinate system\n",
    "K_unit = np.array([[1, 0, -1, 0], \n",
    "                   [0, 0,  0, 0], \n",
    "                   [-1, 0, 1, 0], \n",
    "                   [0, 0, 0, 0]])\n",
    "\n",
    "# Input data and element stiffness matrices\n",
    "E = [200e3,200e3]  # N/mm^2 Young modulus of the elements\n",
    "A = [10e3,15e3] #mm^2 Cross-sectional area of the elements\n",
    "a = 3000 #mm Half lenght of the truss\n",
    "b = 4000 #mm Height of the truss\n",
    "P = 150e3 #N Load\n",
    "phiP = 30 #° Angle of load\n",
    "theta = [53.13, -53.13] #° Angle of elements, at first node of the element\n",
    "Pglob = np.array([P*np.cos(np.radians(phiP)), P*np.sin(np.radians(phiP))]) #N P force in global coordinates (x,y)"
   ]
  },
  {
   "cell_type": "markdown",
   "metadata": {},
   "source": [
    "Stiffness"
   ]
  },
  {
   "cell_type": "code",
   "execution_count": 9,
   "metadata": {},
   "outputs": [],
   "source": [
    "T = np.zeros((nelements,4,4))\n",
    "L = []\n",
    "k = []\n",
    "k_glob = np.zeros((nelements,4,4))\n",
    "\n",
    "for i in range(nelements):\n",
    "    c = np.cos(np.radians(theta[i]))\n",
    "    s = np.sin(np.radians(theta[i]))\n",
    "    Li = abs(a/c)\n",
    "    if theta[i] == -90:\n",
    "        Li = b\n",
    "    Ai = A[i]\n",
    "    Ei = E[i]\n",
    "    ki = Ei * Ai / Li\n",
    "    T[i] = np.array([[c, s, 0, 0], \n",
    "              [-s, c, 0, 0], \n",
    "              [0, 0, c, s], \n",
    "              [0, 0, -s, c]])\n",
    "    L.append(Li)\n",
    "    k.append(ki)\n",
    "\n",
    "for i in range(nelements):\n",
    "    k_glob[i] = k[i] * T[i].T @ K_unit @ T[i]\n",
    "\n",
    "\n",
    "# Assemble global stiffness matrix\n",
    "NDoF = 2*nnodes\n",
    "K_global = np.zeros((NDoF,NDoF))\n",
    "K_globals = np.zeros((nelements,NDoF, NDoF))\n",
    "\n",
    "\n",
    "# Assemble elements\n",
    "for i in range (nelements):\n",
    "    connectelem = connectivity[i] #nodes connected to the element\n",
    "    indexs = 2*connectelem\n",
    "    i11 = indexs[0]-2\n",
    "    i12 = indexs[0]\n",
    "    i21 = indexs[1]-2\n",
    "    i22 = indexs[1]\n",
    "\n",
    "    Ki_global = np.zeros((NDoF, NDoF))\n",
    "    ki_global = k_glob[i]\n",
    "    Ki_global[i11:i12, i11:i12] = ki_global[0:2, 0:2]\n",
    "    Ki_global[i21:i22, i11:i12] = ki_global[2:4, 0:2]\n",
    "    Ki_global[i11:i12, i21:i22] = ki_global[0:2, 2:4]\n",
    "    Ki_global[i21:i22, i21:i22] = ki_global[2:4, 2:4]\n",
    "    K_global = K_global + Ki_global\n",
    "    K_globals[i] = Ki_global"
   ]
  },
  {
   "cell_type": "markdown",
   "metadata": {},
   "source": [
    "System equilibrium"
   ]
  },
  {
   "cell_type": "code",
   "execution_count": 10,
   "metadata": {},
   "outputs": [
    {
     "name": "stdout",
     "output_type": "stream",
     "text": [
      "Axial load in element 1: 155128 N\n",
      "\n",
      "Axial load in element 2: -61378 N\n",
      "\n",
      "Left support:\n",
      "Node 1, horizontal displacement: 0.0 mm\n",
      "Node 1, vertical displacement: 0.0 mm\n",
      "\n",
      "Node 1, horizontal force: -93077 N\n",
      "Node 1, vertical force: -124102 N\n",
      "\n",
      "\n",
      "Right support:\n",
      "Node 2, horizontal displacement: 0.41 mm\n",
      "Node 2, vertical displacement: 0.18 mm\n",
      "\n",
      "Node 2, horizontal force: 129904 N\n",
      "Node 2, vertical force: 75000 N\n",
      "\n",
      "\n",
      "Node 3, horizontal displacement: 0.0 mm\n",
      "Node 3, vertical displacement: 0.0 mm\n",
      "\n",
      "Node 3, horizontal force: -36827 N\n",
      "Node 3, vertical force: 49102 N\n",
      "\n",
      "\n"
     ]
    }
   ],
   "source": [
    "# Calculate displacements at nodes with forces applied\n",
    "numnodesP = len(nodes_P)\n",
    "F_red = Pglob\n",
    "indexssup = 2*nodes_P - 1\n",
    "indexsinf = indexssup - 1\n",
    "mask = []\n",
    "for i in range(numnodesP):\n",
    "    mask.append(indexsinf[i])\n",
    "    mask.append(indexssup[i])\n",
    "K_red = K_global[mask,:]\n",
    "K_red = K_red[:,mask]\n",
    "\n",
    "u_red = np.linalg.inv(K_red) @ F_red\n",
    "\n",
    "\n",
    "# Calculate reaction forces at other nodes\n",
    "u_vec = np.zeros((2*nnodes))\n",
    "\n",
    "for i in range(numnodesP):\n",
    "    u_vec[indexsinf[i]] = u_red[2*i]\n",
    "    u_vec[indexssup[i]] = u_red[2*i+1]\n",
    "\n",
    "F = K_global @ u_vec\n",
    "\n",
    "\n",
    "# Calculate axial forces\n",
    "axialF = []\n",
    "for i in range(nelements):\n",
    "    F_elei = K_globals[i] @ u_vec\n",
    "    index_red = 2*connectivity[i]\n",
    "    F_elei_red = F_elei[[index_red[0]-2, index_red[0]-1, index_red[1]-2, index_red[1]-1]]\n",
    "    F_elei_local = T[i] @ F_elei_red\n",
    "    Fi = F_elei_local[2]\n",
    "    axialF.append(Fi)\n",
    "\n",
    "for i in range(nelements):\n",
    "    print(f\"Axial load in element {i+1}: {round(axialF[i])} N\")\n",
    "    print()\n",
    "\n",
    "for i in range(nnodes):\n",
    "    if i == 0:\n",
    "        print(\"Left support:\")\n",
    "    if i == 1:\n",
    "        print(\"Right support:\")\n",
    "    print(f\"Node {i+1}, horizontal displacement: {round(u_vec[2*i],2)} mm\")\n",
    "    print(f\"Node {i+1}, vertical displacement: {round(u_vec[2*i+1],2)} mm\")\n",
    "    print()\n",
    "    print(f\"Node {i+1}, horizontal force: {round(F[2*i])} N\")\n",
    "    print(f\"Node {i+1}, vertical force: {round(F[2*i+1])} N\")\n",
    "    print()\n",
    "    print()"
   ]
  },
  {
   "cell_type": "code",
   "execution_count": null,
   "metadata": {},
   "outputs": [],
   "source": []
  }
 ],
 "metadata": {
  "kernelspec": {
   "display_name": "Python 3",
   "language": "python",
   "name": "python3"
  },
  "language_info": {
   "codemirror_mode": {
    "name": "ipython",
    "version": 3
   },
   "file_extension": ".py",
   "mimetype": "text/x-python",
   "name": "python",
   "nbconvert_exporter": "python",
   "pygments_lexer": "ipython3",
   "version": "3.11.5"
  },
  "orig_nbformat": 4
 },
 "nbformat": 4,
 "nbformat_minor": 2
}
