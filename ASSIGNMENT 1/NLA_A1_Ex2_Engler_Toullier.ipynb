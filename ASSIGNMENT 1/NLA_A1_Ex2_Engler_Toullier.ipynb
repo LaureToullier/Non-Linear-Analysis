{
 "cells": [
  {
   "cell_type": "markdown",
   "metadata": {},
   "source": [
    "# Nonlinear analysis -Assignment 1"
   ]
  },
  {
   "cell_type": "markdown",
   "metadata": {},
   "source": [
    "Due: 27.09.2023 - Jérémie Engler & Laure Toullier"
   ]
  },
  {
   "cell_type": "code",
   "execution_count": 1,
   "metadata": {},
   "outputs": [],
   "source": [
    "import numpy as np\n",
    "import matplotlib.pyplot as plt\n",
    "plt.style.use('bmh')\n",
    "import math\n",
    "\n",
    "np.set_printoptions(precision=3, suppress=True)\n",
    "\n",
    "Params = plt.rcParams\n",
    "Params['figure.figsize'] = (14, 7) "
   ]
  },
  {
   "cell_type": "markdown",
   "metadata": {},
   "source": [
    "### Exercise 2"
   ]
  },
  {
   "cell_type": "markdown",
   "metadata": {},
   "source": [
    "#### Geometry"
   ]
  },
  {
   "cell_type": "code",
   "execution_count": 2,
   "metadata": {},
   "outputs": [],
   "source": [
    "#Geometric data for the truss:\n",
    "E=200000\n",
    "\n",
    "DDL=7  #degree of freedom\n",
    "a=3000 #mm\n",
    "b=4000 #mm\n",
    "support=[0,7] #number of the nodes where there is a support"
   ]
  },
  {
   "cell_type": "code",
   "execution_count": 3,
   "metadata": {},
   "outputs": [],
   "source": [
    "#Load definition\n",
    "load=150*10**3 #N, value of the applied load\n",
    "P=np.zeros(2*DDL).reshape(DDL,2) \n",
    "theta_P=-90 #°, inclination of the load regarding the x-axis\n",
    "\n",
    "    #Application of the load at the corresponding nodes:\n",
    "\n",
    "P[1]=[load*np.cos(np.radians(theta_P)),load*np.sin(np.radians(theta_P))]\n",
    "P[3]=[load*np.cos(np.radians(theta_P)),load*np.sin(np.radians(theta_P))]\n",
    "P[5]=[load*np.cos(np.radians(theta_P)),load*np.sin(np.radians(theta_P))]"
   ]
  },
  {
   "cell_type": "code",
   "execution_count": 4,
   "metadata": {},
   "outputs": [
    {
     "name": "stdout",
     "output_type": "stream",
     "text": [
      "[[    0.     0.]\n",
      " [ 3000.  4000.]\n",
      " [ 6000.     0.]\n",
      " [ 9000.  4000.]\n",
      " [12000.     0.]\n",
      " [15000.  4000.]\n",
      " [18000.     0.]]\n"
     ]
    }
   ],
   "source": [
    "#Generate the nodes of the truss and their location (if 1st node at (0,0))\n",
    "\n",
    "nodes=np.zeros(DDL*2).reshape(DDL,2)\n",
    "\n",
    "for i in range(DDL):\n",
    "    nodes[i,0]=a*i\n",
    "    if i%2==0:\n",
    "        nodes[i,1]=0\n",
    "    else:\n",
    "        nodes[i,1]=b\n",
    "\n",
    "print(nodes)"
   ]
  },
  {
   "cell_type": "code",
   "execution_count": 5,
   "metadata": {},
   "outputs": [
    {
     "name": "stdout",
     "output_type": "stream",
     "text": [
      "[[1 2]\n",
      " [1 3]\n",
      " [2 3]\n",
      " [2 4]\n",
      " [3 4]\n",
      " [3 5]\n",
      " [4 5]\n",
      " [4 6]\n",
      " [5 6]\n",
      " [5 7]\n",
      " [6 7]]\n"
     ]
    }
   ],
   "source": [
    "#Connectivity: connect nodes with bar element\n",
    "\n",
    "connectivity=[]\n",
    "\n",
    "for i in range(DDL):\n",
    "    if i<(DDL-2):\n",
    "        connectivity.append([i+1, i+2])\n",
    "        connectivity.append([i+1, i+3])\n",
    "    if i==DDL-2:\n",
    "        connectivity.append([i+1, i+2])\n",
    "        \n",
    "Connectivity=np.array(connectivity)\n",
    "    \n",
    "print(Connectivity)"
   ]
  },
  {
   "cell_type": "code",
   "execution_count": 6,
   "metadata": {},
   "outputs": [
    {
     "data": {
      "text/plain": [
       "array([10000., 10000., 10000., 10000., 10000., 10000., 10000., 10000.,\n",
       "       10000., 10000., 10000.])"
      ]
     },
     "execution_count": 6,
     "metadata": {},
     "output_type": "execute_result"
    }
   ],
   "source": [
    "# Area: area of each bar of the truss\n",
    "\n",
    "A=10*10**3 #mm²     #members area equal in the entire truss\n",
    "nb_members=int(np.size(Connectivity)/2)\n",
    "area=np.zeros(nb_members)\n",
    "\n",
    "for i in range(np.size(area)):\n",
    "    area[i]=A\n",
    "    \n",
    "area"
   ]
  },
  {
   "cell_type": "code",
   "execution_count": 7,
   "metadata": {},
   "outputs": [
    {
     "data": {
      "text/plain": [
       "[5000.0,\n",
       " 6000.0,\n",
       " 5000.0,\n",
       " 6000.0,\n",
       " 5000.0,\n",
       " 6000.0,\n",
       " 5000.0,\n",
       " 6000.0,\n",
       " 5000.0,\n",
       " 6000.0,\n",
       " 5000.0]"
      ]
     },
     "execution_count": 7,
     "metadata": {},
     "output_type": "execute_result"
    }
   ],
   "source": [
    "#Length of each bar element of the truss, from points' coordinates of each bar.\n",
    "\n",
    "length=[]\n",
    "\n",
    "for i in range(nb_members):\n",
    "    x1=nodes[Connectivity[i,0]-1,0]      #For each node at the end of each bar, we get its location in x and y.\n",
    "    y1=nodes[Connectivity[i,0]-1,1]\n",
    "    x2=nodes[Connectivity[i,1]-1,0]\n",
    "    y2=nodes[Connectivity[i,1]-1,1]\n",
    "    \n",
    "    x=x2-x1\n",
    "    y=y2-y1\n",
    "    length.append(np.sqrt(x**2+y**2))\n",
    "\n",
    "length"
   ]
  },
  {
   "cell_type": "markdown",
   "metadata": {},
   "source": [
    "#### Stiffness"
   ]
  },
  {
   "cell_type": "code",
   "execution_count": 8,
   "metadata": {},
   "outputs": [
    {
     "ename": "NameError",
     "evalue": "name 'E' is not defined",
     "output_type": "error",
     "traceback": [
      "\u001b[1;31m---------------------------------------------------------------------------\u001b[0m",
      "\u001b[1;31mNameError\u001b[0m                                 Traceback (most recent call last)",
      "Cell \u001b[1;32mIn[8], line 3\u001b[0m\n\u001b[0;32m      1\u001b[0m \u001b[38;5;66;03m#Local stiffness matrix for each bar element of the truss\u001b[39;00m\n\u001b[1;32m----> 3\u001b[0m k_local\u001b[38;5;241m=\u001b[39mE\u001b[38;5;241m*\u001b[39marea\u001b[38;5;241m/\u001b[39mlength\n\u001b[0;32m      4\u001b[0m k_local\n",
      "\u001b[1;31mNameError\u001b[0m: name 'E' is not defined"
     ]
    }
   ],
   "source": [
    "#Local stiffness matrix for each bar element of the truss\n",
    "\n",
    "k_local=E*area/length\n",
    "k_local"
   ]
  },
  {
   "cell_type": "code",
   "execution_count": null,
   "metadata": {},
   "outputs": [],
   "source": [
    "# Unit stiffness matrix of bar in local coordinate system\n",
    "K_unit = np.array([[1, 0, -1, 0], \n",
    "                   [0, 0,  0, 0], \n",
    "                   [-1, 0, 1, 0], \n",
    "                   [0, 0, 0, 0]])"
   ]
  },
  {
   "cell_type": "code",
   "execution_count": null,
   "metadata": {},
   "outputs": [],
   "source": [
    "#Angle of each bar regarding the x-axis\n",
    "\n",
    "angles=[]\n",
    "\n",
    "for i in range(nb_members):\n",
    "        \n",
    "    x1=nodes[Connectivity[i,0]-1,0]      #For each node at the extremity of each bar, we get its location in x and y.\n",
    "    y1=nodes[Connectivity[i,0]-1,1]\n",
    "    x2=nodes[Connectivity[i,1]-1,0]\n",
    "    y2=nodes[Connectivity[i,1]-1,1]\n",
    "    \n",
    "    if np.isclose(y1, y2):\n",
    "        if np.isclose(x1, x2):\n",
    "            angles.append(90)\n",
    "        else:\n",
    "            angles.append(0)\n",
    "    else:\n",
    "        theta=np.arcsin((y2-y1)/length[i]) #calculate the angle between the x-axis and the bar element\n",
    "        angles.append(math.degrees(theta))\n",
    "    \n",
    "print(angles)\n"
   ]
  },
  {
   "cell_type": "code",
   "execution_count": null,
   "metadata": {},
   "outputs": [],
   "source": [
    "#Transformation matrix for each bar element of the truss\n",
    "\n",
    "c=[]\n",
    "s=[]\n",
    "\n",
    "for i in range(nb_members):\n",
    "    c.append(np.cos(np.radians(angles[i])))\n",
    "    s.append(np.sin(np.radians(angles[i])))\n",
    "    \n",
    "T=np.zeros((nb_members,4,4))\n",
    "\n",
    "for i in range(nb_members):\n",
    "    T[i,0,0]=c[i]\n",
    "    T[i,0,1]=s[i]\n",
    "    T[i,1,0]=-s[i]\n",
    "    T[i,1,1]=c[i]\n",
    "    T[i,2,2]=c[i]\n",
    "    T[i,2,3]=s[i]\n",
    "    T[i,3,2]=-s[i]\n",
    "    T[i,3,3]=c[i]\n",
    "\n",
    "T"
   ]
  },
  {
   "cell_type": "code",
   "execution_count": null,
   "metadata": {},
   "outputs": [],
   "source": [
    "#Stiffness for each bar in global coordinates system\n",
    "\n",
    "k_global=[]\n",
    "\n",
    "for i in range(nb_members):\n",
    "    k=k_local[i]*T[i].T@K_unit@T[i] \n",
    "    k_global.append(k)\n",
    "\n",
    "print(k_global)"
   ]
  },
  {
   "cell_type": "code",
   "execution_count": null,
   "metadata": {},
   "outputs": [],
   "source": [
    "#Stiffness in global system\n",
    "\n",
    "K_globalCS_bar=np.zeros((nb_members, DDL*2,DDL*2))\n",
    "K_global=np.zeros((DDL*2,DDL*2))\n",
    "k_global = np.array(k_global)\n",
    "\n",
    "for i, c in enumerate(Connectivity):       \n",
    "    #we build all the global stiffness matrix for each bar in the entire system and sum them.\n",
    "    u, v = c\n",
    "    K_global[2*u-2:2*u,2*u-2:2*u] += k_global[i, 0:2, 0:2]\n",
    "    K_global[2*u-2:2*u,2*v-2:2*v] += k_global[i, 0:2, 2:4]\n",
    "    K_global[2*v-2:2*v,2*u-2:2*u] += k_global[i, 2:4, 0:2]\n",
    "    K_global[2*v-2:2*v,2*v-2:2*v] += k_global[i, 2:4, 2:4]\n",
    "    \n",
    "    #global stiffness matrix for each bar in the entire system \n",
    "    K_globalCS_bar[i, 2*u-2:2*u,2*u-2:2*u] = k_global[i, 0:2, 0:2]\n",
    "    K_globalCS_bar[i, 2*u-2:2*u,2*v-2:2*v] = k_global[i, 0:2, 2:4]\n",
    "    K_globalCS_bar[i, 2*v-2:2*v,2*u-2:2*u] = k_global[i, 2:4, 0:2]\n",
    "    K_globalCS_bar[i, 2*v-2:2*v,2*v-2:2*v] = k_global[i, 2:4, 2:4]\n",
    "\n",
    "print(K_global)"
   ]
  },
  {
   "cell_type": "markdown",
   "metadata": {},
   "source": [
    "#### Equilibrium of the entire system : K*U=R"
   ]
  },
  {
   "cell_type": "code",
   "execution_count": null,
   "metadata": {},
   "outputs": [],
   "source": [
    "#List of nodes with a load applied on it\n",
    "\n",
    "nodes_with_load=[]\n",
    "\n",
    "for i, c in enumerate(P):\n",
    "    x,y = c\n",
    "    if x!=0 or y!=0:\n",
    "        nodes_with_load.append(i)\n",
    "\n",
    "nodes_with_load=np.array(nodes_with_load)\n",
    "\n",
    "#Calculate the displacements of the nodes with a load applied\n",
    "\n",
    "F_red=np.zeros(DDL*2-2*len(support))\n",
    "\n",
    "for i in range(DDL):\n",
    "    if i in nodes_with_load:\n",
    "        F_red[i*2-2]=P[i,0]\n",
    "        F_red[i*2-1]=P[i,1]  \n",
    "        \n",
    "a=2*(DDL-len(support)) \n",
    "K_red=np.zeros((a,a)) #reduced stiffness matrix for the nodes where there are displacements\n",
    "K_red=K_global[2:a+2, 2:a+2]\n",
    "\n",
    "u_red=np.linalg.inv(K_red)@F_red #reduced vector displacements for the nodes concerned by displacements\n",
    "\n",
    "u_vec=np.zeros(DDL*2) #global vector for displacements\n",
    "u_vec[2:DDL*2-2]=u_red[:]\n",
    "\n",
    "print(u_vec) \n"
   ]
  },
  {
   "cell_type": "code",
   "execution_count": null,
   "metadata": {},
   "outputs": [],
   "source": [
    "#Support reactions\n",
    "F = K_global @ u_vec #N\n",
    "print(F)"
   ]
  },
  {
   "cell_type": "code",
   "execution_count": null,
   "metadata": {},
   "outputs": [],
   "source": [
    "#Axial forces in each bar of the truss\n",
    "\n",
    "F_bar=[]\n",
    "F_bar_reduced=np.zeros((nb_members,4))\n",
    "F_local_CS=[]\n",
    "axial_load=[]\n",
    "\n",
    "for i in range(nb_members):\n",
    "    F_bar.append(K_globalCS_bar[i,:,:]@u_vec)   #forces applied at each extermity of each bar in global coordinates in global system\n",
    "F_bar=np.array(F_bar)\n",
    "\n",
    "for i in range(nb_members): #forces applied at the extremity of each bar in global coordinates in local system\n",
    "    index_1=Connectivity[i,0] #value of 1st node of the bar\n",
    "    index_2=Connectivity[i,1] #value of 2nd node of the bar\n",
    "    F_bar_reduced[i,0]=F_bar[i,(index_1-1)*2] \n",
    "    F_bar_reduced[i,1]=F_bar[i,(index_1)*2-1]\n",
    "    F_bar_reduced[i,2]=F_bar[i,(index_2-1)*2]\n",
    "    F_bar_reduced[i,3]=F_bar[i,index_2*2-1]     \n",
    "\n",
    "for i in range(nb_members): #forces applied at the extremity of each bar in local coordinates in local system\n",
    "    F_local_CS.append(T[i]@F_bar_reduced[i])   \n",
    "F_local_CS=np.array(F_local_CS)\n",
    "\n",
    "for i in range(nb_members): #axial load in each bar in N\n",
    "    axial_load.append(F_local_CS[i,2])\n",
    "    \n",
    "axial_load=np.array(axial_load)\n",
    "print(axial_load)"
   ]
  },
  {
   "cell_type": "code",
   "execution_count": null,
   "metadata": {},
   "outputs": [],
   "source": [
    "#Conclusion - Results - Support reactions and axial loads\n",
    "\n",
    "nodes_x=[]\n",
    "nodes_y=[]\n",
    "\n",
    "for i in range(DDL):\n",
    "    nodes_x.append(nodes[i,0])\n",
    "    nodes_y.append(nodes[i,1])\n",
    "    \n",
    "\n",
    "x=np.linspace(0,18000,3000)\n",
    "\n",
    "nodes_xx=[]\n",
    "nodes_yy=[]\n",
    "\n",
    "for u, v in Connectivity:\n",
    "    x1=nodes[u-1,0]\n",
    "    x2=nodes[v-1,0]\n",
    "    y1=nodes[u-1,1]\n",
    "    y2=nodes[v-1,1]\n",
    "    nodes_xx.append([x1,x2])\n",
    "    nodes_yy.append([y1,y2])\n",
    "nodes_xx = np.array(nodes_xx)\n",
    "nodes_yy = np.array(nodes_yy)\n",
    "\n",
    "\n",
    "# Displacements\n",
    "u_vec_array=u_vec.reshape((DDL,2))\n",
    "f = 100\n",
    "nodes_displ = nodes + u_vec_array #list of displaced nodes\n",
    "nodes_displ_exaggerated = nodes + u_vec_array * f\n",
    "\n",
    "nodes_displ_x=[]\n",
    "nodes_displ_y=[]\n",
    "for dispx, dispy in nodes_displ:\n",
    "    nodes_displ_x.append(dispx)\n",
    "    nodes_displ_y.append(dispy)\n",
    "\n",
    "nodes_displ_x_ex=[]\n",
    "nodes_displ_y_ex=[]\n",
    "for u, v in Connectivity:\n",
    "    x1=nodes_displ_exaggerated[u-1,0]\n",
    "    x2=nodes_displ_exaggerated[v-1,0]\n",
    "    y1=nodes_displ_exaggerated[u-1,1]\n",
    "    y2=nodes_displ_exaggerated[v-1,1]\n",
    "    nodes_displ_x_ex.append([x1,x2])\n",
    "    nodes_displ_y_ex.append([y1,y2])\n",
    "\n",
    "print(nodes_xx)\n",
    "\n",
    "compression_label=False\n",
    "tension_label=False\n",
    "displaced_label=False\n",
    "for nx, ny, dx, dy, axload in zip(nodes_xx, nodes_yy, nodes_displ_x_ex, nodes_displ_y_ex, axial_load):\n",
    "\n",
    "    # Graph legend\n",
    "    if axload > 0:\n",
    "        color='red'\n",
    "        label='tension' if tension_label is False else None\n",
    "        tension_label=True\n",
    "    else:\n",
    "        color='blue'\n",
    "        label='compression' if compression_label is False else None\n",
    "        compression_label=True\n",
    "\n",
    "    plt.text(\n",
    "        x=nx.mean(),\n",
    "        y=ny.mean(),\n",
    "        s=f\"N={axload:+.0f} N\",  # :.2f veut dire deux chiffres après la virgule\n",
    "        bbox=dict(facecolor='white', edgecolor=color, boxstyle='round, pad=1') # optionnel, elève ça si tu veux\n",
    "    )\n",
    "    \n",
    "    # plot the bars\n",
    "    plt.plot(nx, ny, color=color, linewidth=2, label=label)\n",
    "\n",
    "    # displaced bars\n",
    "    plt.plot(dx, dy, '-.', color='k', linewidth=1, label='displaced truss' if displaced_label is False else None)\n",
    "    displaced_label = True\n",
    "    plt.title(f\"Displacements are exaggerated by a factor of {f:.0f}\")\n",
    "\n",
    "# Forces applied on the truss and support reactions\n",
    "force_label = False\n",
    "for (nx, ny), fx, fy in zip(nodes, F[::2], F[1::2]):\n",
    "    facteur = 0.01\n",
    "    if not (np.isclose(fx, 0.0) and np.isclose(fy, 0.0)):\n",
    "        plt.arrow(\n",
    "            x=nx - fx*facteur,\n",
    "            y=ny - fy*facteur,\n",
    "            dx=fx*facteur,\n",
    "            dy=fy*facteur,\n",
    "            color='green', width=100,\n",
    "            length_includes_head=True,\n",
    "            label='Loads in N' if force_label is False else None\n",
    "        )\n",
    "        force_label = True\n",
    "        \n",
    "        #text for loads and support reactions values\n",
    "        plt.text(\n",
    "            x=nx - 0.5*fx*facteur,\n",
    "            y=ny - 0.5*fy*facteur,\n",
    "            s=f\"Fx={fx:.0f} N\\nFy={fy:.0f} N\",  # :.0f no decimal\n",
    "            bbox=dict(facecolor='white', edgecolor='g', boxstyle='round, pad=1') \n",
    "        )\n",
    "\n",
    "\n",
    "# Displaced nodes\n",
    "plt.plot(*nodes_displ_exaggerated.T, 'x', markersize=10, label='displaced nodes', color='Green')  \n",
    "# Nodes not displaced\n",
    "plt.plot(*nodes.T, 'o', mfc='w', mew=2, mec='k')\n",
    "plt.tight_layout()\n",
    "\n",
    "plt.legend()"
   ]
  },
  {
   "cell_type": "code",
   "execution_count": null,
   "metadata": {},
   "outputs": [],
   "source": [
    "#Conclusion - Results - Displacement\n",
    "\n",
    "\n",
    "compression_label=False\n",
    "tension_label=False\n",
    "displaced_label=False\n",
    "for nx, ny, dx, dy, axload in zip(nodes_xx, nodes_yy, nodes_displ_x_ex, nodes_displ_y_ex, axial_load):\n",
    "\n",
    "    # Graph legend\n",
    "    if axload > 0:\n",
    "        color='red'\n",
    "        label='tension' if tension_label is False else None\n",
    "        tension_label=True\n",
    "    else:\n",
    "        color='blue'\n",
    "        label='compression' if compression_label is False else None\n",
    "        compression_label=True\n",
    "\n",
    "    # plot the bars\n",
    "    plt.plot(nx, ny, color=color, linewidth=2, label=label)\n",
    "\n",
    "    # displaced bars\n",
    "    plt.plot(dx, dy, '-.', color='k', linewidth=1, label='displaced truss' if displaced_label is False else None)\n",
    "    displaced_label = True\n",
    "    plt.title(f\"Displacements are exaggerated by a factor of {f:.0f}\")\n",
    "\n",
    "# Forces applied on the truss and support reactions\n",
    "\n",
    "force_label = False\n",
    "for (nx, ny), fx, fy, nx, ny, dx, dy in zip(nodes, F[::2], F[1::2],\n",
    "                                    nodes_displ.flatten()[::2], nodes_displ.flatten()[1::2],\n",
    "                                    u_vec[::2], u_vec[1::2]):\n",
    "    facteur = 0.01\n",
    "    if not (np.isclose(fx, 0.0) and np.isclose(fy, 0.0)):\n",
    "        plt.arrow(\n",
    "            x=nx - fx*facteur,\n",
    "            y=ny - fy*facteur,\n",
    "            dx=fx*facteur,\n",
    "            dy=fy*facteur,\n",
    "            color='green', width=100,\n",
    "            length_includes_head=True,\n",
    "            label='Loads in N' if force_label is False else None\n",
    "        )\n",
    "        force_label = True\n",
    "\n",
    "    #text for displaced nodes (dx,dy)\n",
    "    plt.text(\n",
    "        x=nx,\n",
    "        y=ny,\n",
    "        s=f\"dx={dx:+.3f} mm\\ndy={dy:+.3f} mm\",  \n",
    "        bbox=dict(facecolor='white', edgecolor=color, boxstyle='round, pad=1') \n",
    "    )\n",
    "\n",
    "# Displaced nodes\n",
    "plt.plot(*nodes_displ_exaggerated.T, 'x', markersize=10, label='displaced nodes', color='Green')  \n",
    "# Nodes not displaced\n",
    "plt.plot(*nodes.T, 'o', mfc='w', mew=2, mec='k')\n",
    "plt.tight_layout()\n",
    "\n",
    "plt.legend()"
   ]
  },
  {
   "cell_type": "code",
   "execution_count": null,
   "metadata": {},
   "outputs": [],
   "source": []
  }
 ],
 "metadata": {
  "kernelspec": {
   "display_name": "Python 3 (ipykernel)",
   "language": "python",
   "name": "python3"
  },
  "language_info": {
   "codemirror_mode": {
    "name": "ipython",
    "version": 3
   },
   "file_extension": ".py",
   "mimetype": "text/x-python",
   "name": "python",
   "nbconvert_exporter": "python",
   "pygments_lexer": "ipython3",
   "version": "3.11.4"
  }
 },
 "nbformat": 4,
 "nbformat_minor": 4
}
