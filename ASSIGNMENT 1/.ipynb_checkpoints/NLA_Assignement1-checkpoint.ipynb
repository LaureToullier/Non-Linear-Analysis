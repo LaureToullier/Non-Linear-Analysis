{
 "cells": [
  {
   "cell_type": "markdown",
   "metadata": {},
   "source": [
    "# Nonlinear analysis -Assignment 1"
   ]
  },
  {
   "cell_type": "markdown",
   "metadata": {},
   "source": [
    "21.09.2023 - Laure Toullier"
   ]
  },
  {
   "cell_type": "code",
   "execution_count": 53,
   "metadata": {},
   "outputs": [],
   "source": [
    "import numpy as np\n",
    "import matplotlib.pyplot as plt\n",
    "plt.style.use('bmh')\n",
    "import math\n",
    "\n",
    "Params = plt.rcParams\n",
    "Params['figure.figsize'] = (14, 7) "
   ]
  },
  {
   "cell_type": "markdown",
   "metadata": {},
   "source": [
    "### Exercise 1"
   ]
  },
  {
   "cell_type": "code",
   "execution_count": 54,
   "metadata": {},
   "outputs": [],
   "source": [
    "# Element connectivity \n",
    "connectivity = np.array([[1, 2], [2, 3]])\n",
    "\n",
    "# Unit stiffness matrix of bar in local coordinate system\n",
    "K_unit = np.array([[1, 0, -1, 0], \n",
    "                   [0, 0,  0, 0], \n",
    "                   [-1, 0, 1, 0], \n",
    "                   [0, 0, 0, 0]])\n",
    "\n",
    "# Input data and element stiffness matrices\n",
    "E = 200e3  # N/mm^2\n",
    "\n",
    "a=3000  #m\n",
    "b=4000  #m\n"
   ]
  },
  {
   "cell_type": "code",
   "execution_count": 72,
   "metadata": {},
   "outputs": [],
   "source": [
    "#Load\n",
    "P = 150*10**3 #N\n",
    "theta = 30 #°\n",
    "\n",
    "Px=P*np.cos(np.radians(theta)) #N\n",
    "Py=P*np.sin(np.radians(theta)) #N"
   ]
  },
  {
   "cell_type": "markdown",
   "metadata": {},
   "source": [
    "Bar 1"
   ]
  },
  {
   "cell_type": "code",
   "execution_count": 66,
   "metadata": {},
   "outputs": [
    {
     "name": "stdout",
     "output_type": "stream",
     "text": [
      "[[ 144000.  192000. -144000. -192000.]\n",
      " [ 192000.  256000. -192000. -256000.]\n",
      " [-144000. -192000.  144000.  192000.]\n",
      " [-192000. -256000.  192000.  256000.]]\n"
     ]
    }
   ],
   "source": [
    "A1 = 10000 #mm²\n",
    "L1 = np.sqrt(a**2+b**2) #mm\n",
    "\n",
    "theta1 = np.arctan(b/a)\n",
    "c = np.cos(theta1)\n",
    "s = np.sin(theta1)\n",
    "\n",
    "#Transformation matrix\n",
    "T = np.array([[c, s, 0, 0], \n",
    "              [-s, c, 0, 0], \n",
    "              [0, 0, c, s], \n",
    "              [0, 0, -s, c]])\n",
    "\n",
    "k1 = E*A1/L1\n",
    "k1_global = k1 * T.T @ K_unit @ T\n",
    "\n",
    "print(k1_global)"
   ]
  },
  {
   "cell_type": "markdown",
   "metadata": {},
   "source": [
    "Bar 2"
   ]
  },
  {
   "cell_type": "code",
   "execution_count": 68,
   "metadata": {},
   "outputs": [
    {
     "name": "stdout",
     "output_type": "stream",
     "text": [
      "[[ 216000. -288000. -216000.  288000.]\n",
      " [-288000.  384000.  288000. -384000.]\n",
      " [-216000.  288000.  216000. -288000.]\n",
      " [ 288000. -384000. -288000.  384000.]]\n"
     ]
    }
   ],
   "source": [
    "A2 = 15000 #mm²\n",
    "L2 = np.sqrt(a**2+b**2) #mm\n",
    "\n",
    "theta2 = -np.arctan(b/a)\n",
    "c = np.cos(theta2)\n",
    "s = np.sin(theta2)\n",
    "\n",
    "#Transformation matrix\n",
    "T = np.array([[c, s, 0, 0], \n",
    "              [-s, c, 0, 0], \n",
    "              [0, 0, c, s], \n",
    "              [0, 0, -s, c]])\n",
    "\n",
    "k2 = E*A2/L2\n",
    "k2_global = k2 * T.T @ K_unit @ T\n",
    "\n",
    "print(k2_global)"
   ]
  },
  {
   "cell_type": "markdown",
   "metadata": {},
   "source": [
    "Stiffness matrix in global system"
   ]
  },
  {
   "cell_type": "code",
   "execution_count": 69,
   "metadata": {},
   "outputs": [
    {
     "name": "stdout",
     "output_type": "stream",
     "text": [
      "[[ 144000.  192000. -144000. -192000.       0.       0.]\n",
      " [ 192000.  256000. -192000. -256000.       0.       0.]\n",
      " [-144000. -192000.  360000.  -96000. -216000.  288000.]\n",
      " [-192000. -256000.  -96000.  640000.  288000. -384000.]\n",
      " [      0.       0. -216000.  288000.  216000. -288000.]\n",
      " [      0.       0.  288000. -384000. -288000.  384000.]]\n"
     ]
    }
   ],
   "source": [
    "# Assemble global stiffness matrix\n",
    "NDoF = 6\n",
    "K_global = np.zeros((NDoF, NDoF))\n",
    "K_element_6DOF = []\n",
    "\n",
    "# Assemble 1st element\n",
    "K1_global = np.zeros((NDoF, NDoF))\n",
    "K1_global[0:4, 0:4] = k1_global[0:4, 0:4]\n",
    "\n",
    "# Assemble 2nd element\n",
    "K2_global = np.zeros((NDoF, NDoF))\n",
    "K2_global[2:6, 2:6] = k2_global[0:4,0:4]\n",
    "\n",
    "#Stiffness matrix of the entire system: K=K1+K2\n",
    "K_global=K1_global+K2_global\n",
    "\n",
    "print(K_global)"
   ]
  },
  {
   "cell_type": "markdown",
   "metadata": {},
   "source": [
    "Equilibrium of system : KU=R\n",
    "\n",
    "Condensation of system"
   ]
  },
  {
   "cell_type": "code",
   "execution_count": 73,
   "metadata": {},
   "outputs": [
    {
     "name": "stdout",
     "output_type": "stream",
     "text": [
      "[0.40843116 0.17845217]\n"
     ]
    }
   ],
   "source": [
    "#Joints displacements\n",
    "F_red = np.array([Px, Py]) # N\n",
    "K_red = K_global[2:4, 2:4]\n",
    "u_red = np.linalg.inv(K_red) @ F_red\n",
    "print(u_red)"
   ]
  },
  {
   "cell_type": "code",
   "execution_count": 71,
   "metadata": {},
   "outputs": [
    {
     "name": "stdout",
     "output_type": "stream",
     "text": [
      "[  440.95935954   587.94581272   231.83992918 -1485.01153101\n",
      "  -672.79928872   897.06571829]\n"
     ]
    }
   ],
   "source": [
    "#Support reactions @node 1 and 3\n",
    "u_vec = np.array([0, 0, u_red[0], u_red[1],0,0])\n",
    "F = K_global @ u_vec\n",
    "\n",
    "F1=K_global[0:6,2:4]@u_red\n",
    "\n",
    "print(F)"
   ]
  },
  {
   "cell_type": "code",
   "execution_count": 87,
   "metadata": {},
   "outputs": [
    {
     "name": "stdout",
     "output_type": "stream",
     "text": [
      "[   0.            0.          672.79928872 -897.06571829 -672.79928872\n",
      "  897.06571829]\n"
     ]
    }
   ],
   "source": [
    "#Axial forces in each bar\n",
    "\n",
    "F1=K1_global@u_vec\n",
    "F2=K2_global@u_vec\n",
    "\n",
    "\"\"\"\"\"\"\"\"\"\"\"\"\"\"\"\"\"\"\"\"\"\"\"\"\"\"\"\"\"\"\"\"\"\"\"\"\"\"\n"
   ]
  },
  {
   "cell_type": "markdown",
   "metadata": {},
   "source": [
    "### Exercise 2"
   ]
  },
  {
   "cell_type": "markdown",
   "metadata": {},
   "source": [
    "#### Geometry"
   ]
  },
  {
   "cell_type": "code",
   "execution_count": 99,
   "metadata": {},
   "outputs": [
    {
     "name": "stdout",
     "output_type": "stream",
     "text": [
      "[[    0.     0.]\n",
      " [ 3000.  4000.]\n",
      " [ 6000.     0.]\n",
      " [ 9000.  4000.]\n",
      " [12000.     0.]\n",
      " [15000.  4000.]\n",
      " [18000.     0.]]\n"
     ]
    }
   ],
   "source": [
    "#Nodes\n",
    "DDL=7\n",
    "a=3000 #mm\n",
    "b=4000 #mm\n",
    "\n",
    "nodes=np.zeros(DDL*2).reshape(DDL,2)\n",
    "\n",
    "for i in range(DDL):\n",
    "    nodes[i,0]=a*i\n",
    "    if i%2==0:\n",
    "        nodes[i,1]=0\n",
    "    else:\n",
    "        nodes[i,1]=b\n",
    "\n",
    "print(nodes)"
   ]
  },
  {
   "cell_type": "code",
   "execution_count": 102,
   "metadata": {},
   "outputs": [
    {
     "name": "stdout",
     "output_type": "stream",
     "text": [
      "[[1 2]\n",
      " [1 3]\n",
      " [2 3]\n",
      " [2 4]\n",
      " [3 4]\n",
      " [3 5]\n",
      " [4 5]\n",
      " [4 6]\n",
      " [5 6]\n",
      " [5 7]\n",
      " [6 7]]\n"
     ]
    }
   ],
   "source": [
    "#Connectivity\n",
    "\n",
    "connectivity=[]\n",
    "\n",
    "for i in range(DDL):\n",
    "    if i<(DDL-2):\n",
    "        connectivity.append([i+1, i+2])\n",
    "        connectivity.append([i+1, i+3])\n",
    "    if i==DDL-2:\n",
    "        connectivity.append([i+1, i+2])\n",
    "        \n",
    "Connectivity=np.array(connectivity)\n",
    "    \n",
    "print(Connectivity)"
   ]
  },
  {
   "cell_type": "code",
   "execution_count": 137,
   "metadata": {},
   "outputs": [
    {
     "data": {
      "text/plain": [
       "array([10000., 10000., 10000., 10000., 10000., 10000., 10000., 10000.,\n",
       "       10000., 10000., 10000.])"
      ]
     },
     "execution_count": 137,
     "metadata": {},
     "output_type": "execute_result"
    }
   ],
   "source": [
    "# Area\n",
    "\n",
    "A=10*10**3 #mm²     #members area equal in the entire truss\n",
    "nb_members=int(np.size(Connectivity)/2)\n",
    "area=np.zeros(members)\n",
    "\n",
    "for i in range(np.size(area)):\n",
    "    area[i]=A\n",
    "    \n",
    "area"
   ]
  },
  {
   "cell_type": "code",
   "execution_count": 140,
   "metadata": {},
   "outputs": [
    {
     "data": {
      "text/plain": [
       "[5000.0,\n",
       " 6000.0,\n",
       " 5000.0,\n",
       " 6000.0,\n",
       " 5000.0,\n",
       " 6000.0,\n",
       " 5000.0,\n",
       " 6000.0,\n",
       " 5000.0,\n",
       " 6000.0,\n",
       " 5000.0]"
      ]
     },
     "execution_count": 140,
     "metadata": {},
     "output_type": "execute_result"
    }
   ],
   "source": [
    "#Length of each element\n",
    "\n",
    "length=[]\n",
    "\n",
    "for i in range(nb_members):\n",
    "    x1=nodes[Connectivity[i,0]-1,0]      #For each node at the extremity of each bar, we get its location in x and y.\n",
    "    y1=nodes[Connectivity[i,0]-1,1]\n",
    "    x2=nodes[Connectivity[i,1]-1,0]\n",
    "    y2=nodes[Connectivity[i,1]-1,1]\n",
    "    \n",
    "    x=x2-x1\n",
    "    y=y2-y1\n",
    "    length.append(np.sqrt(x**2+y**2))\n",
    "\n",
    "length"
   ]
  },
  {
   "cell_type": "markdown",
   "metadata": {},
   "source": [
    "#### Stiffness"
   ]
  },
  {
   "cell_type": "code",
   "execution_count": 147,
   "metadata": {},
   "outputs": [
    {
     "data": {
      "text/plain": [
       "array([400000.        , 333333.33333333, 400000.        , 333333.33333333,\n",
       "       400000.        , 333333.33333333, 400000.        , 333333.33333333,\n",
       "       400000.        , 333333.33333333, 400000.        ])"
      ]
     },
     "execution_count": 147,
     "metadata": {},
     "output_type": "execute_result"
    }
   ],
   "source": [
    "#Local stiffness matrix\n",
    "\n",
    "k_local=E*area/length\n",
    "k_local"
   ]
  },
  {
   "cell_type": "code",
   "execution_count": 162,
   "metadata": {},
   "outputs": [],
   "source": [
    "# Unit stiffness matrix of bar in local coordinate system\n",
    "K_unit = np.array([[1, 0, -1, 0], \n",
    "                   [0, 0,  0, 0], \n",
    "                   [-1, 0, 1, 0], \n",
    "                   [0, 0, 0, 0]])"
   ]
  },
  {
   "cell_type": "code",
   "execution_count": 161,
   "metadata": {},
   "outputs": [
    {
     "name": "stdout",
     "output_type": "stream",
     "text": [
      "[53.13010235415599, 0, -53.13010235415599, 0, 53.13010235415599, 0, -53.13010235415599, 0, 53.13010235415599, 0, -53.13010235415599]\n"
     ]
    }
   ],
   "source": [
    "#Stiffness matrix for each bar in global coordinates\n",
    "\n",
    "angles=[]\n",
    "\n",
    "for i in range(nb_members):\n",
    "    x1=nodes[Connectivity[i,0]-1,0]      #For each node at the extremity of each bar, we get its location in x and y.\n",
    "    y1=nodes[Connectivity[i,0]-1,1]\n",
    "    x2=nodes[Connectivity[i,1]-1,0]\n",
    "    y2=nodes[Connectivity[i,1]-1,1]\n",
    "    \n",
    "    if y1==y2:\n",
    "        if x1==x2:\n",
    "            angles.append[90]\n",
    "        else:\n",
    "            angles.append(0)\n",
    "    else:\n",
    "        theta=np.arcsin((y2-y1)/length[i]) \n",
    "        angles.append(math.degrees(theta))\n",
    "    \n",
    "print(angles)\n"
   ]
  },
  {
   "cell_type": "code",
   "execution_count": 190,
   "metadata": {},
   "outputs": [
    {
     "data": {
      "text/plain": [
       "array([[ 0.99939083,  0.0348995 ,  0.        ,  0.        ],\n",
       "       [-0.0348995 ,  0.99939083,  0.        ,  0.        ],\n",
       "       [ 0.        ,  0.        ,  0.99939083,  0.0348995 ],\n",
       "       [ 0.        ,  0.        , -0.0348995 ,  0.99939083]])"
      ]
     },
     "execution_count": 190,
     "metadata": {},
     "output_type": "execute_result"
    }
   ],
   "source": [
    "#Transformation matrix for each bar\n",
    "\n",
    "c=[]\n",
    "s=[]\n",
    "\n",
    "for i in range(nb_members):\n",
    "    c.append(np.cos(np.radians(i)))\n",
    "    s.append(np.sin(np.radians(i)))\n",
    "\n",
    "T=np.zeros((nb_members,4,4))\n",
    "\n",
    "for i in range(nb_members):\n",
    "    T[i,0,0]=c[i]\n",
    "    T[i,0,1]=s[i]\n",
    "    T[i,1,0]=-s[i]\n",
    "    T[i,1,1]=c[i]\n",
    "    T[i,2,2]=c[i]\n",
    "    T[i,2,3]=s[i]\n",
    "    T[i,3,2]=-s[i]\n",
    "    T[i,3,3]=c[i]\n",
    "\n",
    "T[2]\n"
   ]
  },
  {
   "cell_type": "code",
   "execution_count": 192,
   "metadata": {},
   "outputs": [
    {
     "name": "stdout",
     "output_type": "stream",
     "text": [
      "[array([[ 400000.,       0., -400000.,       0.],\n",
      "       [      0.,       0.,       0.,       0.],\n",
      "       [-400000.,       0.,  400000.,       0.],\n",
      "       [      0.,       0.,       0.,       0.]]), array([[ 3.33231805e+05,  5.81658278e+03, -3.33231805e+05,\n",
      "        -5.81658278e+03],\n",
      "       [ 5.81658278e+03,  1.01528830e+02, -5.81658278e+03,\n",
      "        -1.01528830e+02],\n",
      "       [-3.33231805e+05, -5.81658278e+03,  3.33231805e+05,\n",
      "         5.81658278e+03],\n",
      "       [-5.81658278e+03, -1.01528830e+02,  5.81658278e+03,\n",
      "         1.01528830e+02]]), array([[ 399512.81005196,   13951.29474883, -399512.81005196,\n",
      "         -13951.29474883],\n",
      "       [  13951.29474883,     487.18994804,  -13951.29474883,\n",
      "           -487.18994804],\n",
      "       [-399512.81005196,  -13951.29474883,  399512.81005196,\n",
      "          13951.29474883],\n",
      "       [ -13951.29474883,    -487.18994804,   13951.29474883,\n",
      "            487.18994804]]), array([[ 332420.31589471,   17421.41054461, -332420.31589471,\n",
      "         -17421.41054461],\n",
      "       [  17421.41054461,     913.01743862,  -17421.41054461,\n",
      "           -913.01743862],\n",
      "       [-332420.31589471,  -17421.41054461,  332420.31589471,\n",
      "          17421.41054461],\n",
      "       [ -17421.41054461,    -913.01743862,   17421.41054461,\n",
      "            913.01743862]]), array([[ 398053.61374831,   27834.62019201, -398053.61374831,\n",
      "         -27834.62019201],\n",
      "       [  27834.62019201,    1946.38625169,  -27834.62019201,\n",
      "          -1946.38625169],\n",
      "       [-398053.61374831,  -27834.62019201,  398053.61374831,\n",
      "          27834.62019201],\n",
      "       [ -27834.62019201,   -1946.38625169,   27834.62019201,\n",
      "           1946.38625169]]), array([[ 330801.2921687 ,   28941.36294449, -330801.2921687 ,\n",
      "         -28941.36294449],\n",
      "       [  28941.36294449,    2532.04116463,  -28941.36294449,\n",
      "          -2532.04116463],\n",
      "       [-330801.2921687 ,  -28941.36294449,  330801.2921687 ,\n",
      "          28941.36294449],\n",
      "       [ -28941.36294449,   -2532.04116463,   28941.36294449,\n",
      "           2532.04116463]]), array([[ 395629.52014676,   41582.33816355, -395629.52014676,\n",
      "         -41582.33816355],\n",
      "       [  41582.33816355,    4370.47985324,  -41582.33816355,\n",
      "          -4370.47985324],\n",
      "       [-395629.52014676,  -41582.33816355,  395629.52014676,\n",
      "          41582.33816355],\n",
      "       [ -41582.33816355,   -4370.47985324,   41582.33816355,\n",
      "           4370.47985324]]), array([[ 328382.621046  ,   40320.31593328, -328382.621046  ,\n",
      "         -40320.31593328],\n",
      "       [  40320.31593328,    4950.71228733,  -40320.31593328,\n",
      "          -4950.71228733],\n",
      "       [-328382.621046  ,  -40320.31593328,  328382.621046  ,\n",
      "          40320.31593328],\n",
      "       [ -40320.31593328,   -4950.71228733,   40320.31593328,\n",
      "           4950.71228733]]), array([[ 392252.33918766,   55127.4711634 , -392252.33918766,\n",
      "         -55127.4711634 ],\n",
      "       [  55127.4711634 ,    7747.66081234,  -55127.4711634 ,\n",
      "          -7747.66081234],\n",
      "       [-392252.33918766,  -55127.4711634 ,  392252.33918766,\n",
      "          55127.4711634 ],\n",
      "       [ -55127.4711634 ,   -7747.66081234,   55127.4711634 ,\n",
      "           7747.66081234]]), array([[ 325176.08604919,   51502.83239582, -325176.08604919,\n",
      "         -51502.83239582],\n",
      "       [  51502.83239582,    8157.24728414,  -51502.83239582,\n",
      "          -8157.24728414],\n",
      "       [-325176.08604919,  -51502.83239582,  325176.08604919,\n",
      "          51502.83239582],\n",
      "       [ -51502.83239582,   -8157.24728414,   51502.83239582,\n",
      "           8157.24728414]]), array([[ 387938.52415718,   68404.02866513, -387938.52415718,\n",
      "         -68404.02866513],\n",
      "       [  68404.02866513,   12061.47584282,  -68404.02866513,\n",
      "         -12061.47584282],\n",
      "       [-387938.52415718,  -68404.02866513,  387938.52415718,\n",
      "          68404.02866513],\n",
      "       [ -68404.02866513,  -12061.47584282,   68404.02866513,\n",
      "          12061.47584282]])]\n"
     ]
    }
   ],
   "source": [
    "#Stiffness for each bar in global coordinates system\n",
    "\n",
    "k_global=[]\n",
    "\n",
    "for i in range(nb_members):\n",
    "    k=k_local[i]*T[i].T@K_unit@T[i]\n",
    "    k_global.append(k)\n",
    "\n",
    "print(k_global)"
   ]
  },
  {
   "cell_type": "code",
   "execution_count": 186,
   "metadata": {},
   "outputs": [],
   "source": [
    "#Stiffness in global system\n",
    "\n",
    "K_global=np.zeros((DDL*2,DDL*2))\n",
    "\n",
    "for i in range(nb_members):\n",
    "    K_global[[Connectivity[i,0]-1,[Connectivity[i,0]-1]=k_global[[Connectivity[i,0]-1,0,0]\n",
    "    K_global[[Connectivity[i,1]-1,[Connectivity[i,0]-1]=k_global[[Connectivity[i,1]-1,0,1]   \n",
    "    K_global[[Connectivity[i,0]-1,[Connectivity[i,0]]=k_global[[Connectivity[i,0]-1,1,0]\n",
    "    K_global[[Connectivity[i,1]-1,[Connectivity[i,0]]=k_global[[Connectivity[i,1]-1,1,1] \n",
    "    \n",
    "    "
   ]
  },
  {
   "cell_type": "code",
   "execution_count": null,
   "metadata": {},
   "outputs": [],
   "source": [
    "#\n",
    "\n",
    "# Unit stiffness matrix of bar in local coordinate system\n",
    "K_unit = np.array([[1, 0, -1, 0], \n",
    "                   [0, 0,  0, 0], \n",
    "                   [-1, 0, 1, 0], \n",
    "                   [0, 0, 0, 0]])\n",
    "\n",
    "# Input data and element stiffness matrices\n",
    "E = 200e3  # N/mm^2\n",
    "\n",
    "# Bar 1\n",
    "theta1 = -45\n",
    "c = np.cos(np.radians(theta1))\n",
    "s = np.sin(np.radians(theta1))\n",
    "T = np.array([[c, s, 0, 0], \n",
    "              [-s, c, 0, 0], \n",
    "              [0, 0, c, s], \n",
    "              [0, 0, -s, c]])\n",
    "A = 10e3  # mm^2\n",
    "L = np.sqrt(2)*2000  # mm\n",
    "k1 = E * A / L\n",
    "k1_global = k1 * T.T @ K_unit @ T\n",
    "\n",
    "# Fill in the information for Bar 2\n",
    "\"\"\"\n",
    "\n",
    "\"\"\"\n",
    "\n",
    "# And the same for Bar 3\n",
    "\"\"\"\n",
    "\n",
    "\"\"\"\n",
    "\n",
    "\n",
    "# Assemble global stiffness matrix\n",
    "NDoF = 8\n",
    "K_global = np.zeros((NDoF, NDoF))\n",
    "K_element_8DOF = []\n",
    "\n",
    "# Assemble 1st element\n",
    "K1_global = np.zeros((NDoF, NDoF))\n",
    "K1_global[0:2, 0:2] = k1_global[0:2, 0:2]\n",
    "\"\"\"\n",
    "\n",
    "\"\"\"\n",
    "\n",
    "# Assemble 2nd element\n",
    "\"\"\"\n",
    "\n",
    "\"\"\"\n",
    "\n",
    "# Assemble 3rd element\n",
    "\"\"\"\n",
    "\n",
    "\"\"\"\n",
    "\n",
    "# Calculate displacements at Node 4\n",
    "F_red = np.array([-3000, -18000]) * 1000  # N\n",
    "K_red = K_global[6:8, 6:8]\n",
    "u_red = np.linalg.inv(K_red) @ F_red\n",
    "\n",
    "# Calculate reaction forces at Nodes 1, 2, 3\n",
    "u_vec = np.array([0, 0, 0, 0, 0, 0, u_red[0], u_red[1]])\n",
    "F = K_global @ u_vec\n",
    "\n",
    "# Calculate axial forces\n",
    "F_ele = K_element_8DOF[0] @ u_vec\n",
    "\"\"\"\n",
    "\n",
    "\"\"\"\n",
    "\n",
    "# Calculate axial forces for 2nd element\n",
    "\n",
    "# Calculate axial forces for 3rd element"
   ]
  },
  {
   "cell_type": "code",
   "execution_count": null,
   "metadata": {},
   "outputs": [],
   "source": []
  },
  {
   "cell_type": "code",
   "execution_count": null,
   "metadata": {},
   "outputs": [],
   "source": []
  },
  {
   "cell_type": "code",
   "execution_count": 3,
   "metadata": {},
   "outputs": [
    {
     "ename": "SyntaxError",
     "evalue": "invalid syntax (<ipython-input-3-d80f1a888fae>, line 6)",
     "output_type": "error",
     "traceback": [
      "\u001b[1;36m  File \u001b[1;32m\"<ipython-input-3-d80f1a888fae>\"\u001b[1;36m, line \u001b[1;32m6\u001b[0m\n\u001b[1;33m    for i in range nb:\u001b[0m\n\u001b[1;37m                   ^\u001b[0m\n\u001b[1;31mSyntaxError\u001b[0m\u001b[1;31m:\u001b[0m invalid syntax\n"
     ]
    }
   ],
   "source": [
    "\n",
    "    "
   ]
  },
  {
   "cell_type": "markdown",
   "metadata": {},
   "source": [
    "### Exercice 2"
   ]
  },
  {
   "cell_type": "code",
   "execution_count": 19,
   "metadata": {},
   "outputs": [],
   "source": [
    "nb = 11 #number of bars in the truss"
   ]
  },
  {
   "cell_type": "code",
   "execution_count": 20,
   "metadata": {},
   "outputs": [],
   "source": [
    "#Bars area\n",
    "\n",
    "A = 10000 #mm² \n",
    "area = []\n",
    "\n",
    "for i in range(nb):\n",
    "    area.append(A) #area constant for each bar of the truss"
   ]
  },
  {
   "cell_type": "code",
   "execution_count": 21,
   "metadata": {},
   "outputs": [
    {
     "name": "stdout",
     "output_type": "stream",
     "text": [
      "[2.6457513110645907, 6, 2.6457513110645907, 6, 2.6457513110645907, 6, 2.6457513110645907, 6, 2.6457513110645907, 6, 2.6457513110645907]\n"
     ]
    }
   ],
   "source": [
    "#Bars length\n",
    "\n",
    "a=3#m\n",
    "b=4#m\n",
    "\n",
    "length = []\n",
    "\n",
    "for i in range(nb):\n",
    "    if (i+1)%2==0:      #if bars on the top or bottom membrane\n",
    "        length.append(2*a)\n",
    "    else:\n",
    "        length.append(np.sqrt(a^2+b^2))\n",
    "print(length)\n",
    "        "
   ]
  },
  {
   "cell_type": "code",
   "execution_count": 27,
   "metadata": {},
   "outputs": [],
   "source": [
    "#Local rigidity\n",
    "\n",
    "k_local=[]\n",
    "\n",
    "for i in range(nb):\n",
    "    k_local.append(area[i]*E/length[i])\n"
   ]
  },
  {
   "cell_type": "code",
   "execution_count": null,
   "metadata": {},
   "outputs": [],
   "source": []
  }
 ],
 "metadata": {
  "kernelspec": {
   "display_name": "Python 3",
   "language": "python",
   "name": "python3"
  },
  "language_info": {
   "codemirror_mode": {
    "name": "ipython",
    "version": 3
   },
   "file_extension": ".py",
   "mimetype": "text/x-python",
   "name": "python",
   "nbconvert_exporter": "python",
   "pygments_lexer": "ipython3",
   "version": "3.8.3"
  }
 },
 "nbformat": 4,
 "nbformat_minor": 4
}
