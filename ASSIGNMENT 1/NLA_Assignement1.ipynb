{
 "cells": [
  {
   "cell_type": "markdown",
   "metadata": {},
   "source": [
    "# Nonlinear analysis -Assignment 1"
   ]
  },
  {
   "cell_type": "markdown",
   "metadata": {},
   "source": [
    "21.09.2023 - Laure Toullier"
   ]
  },
  {
   "cell_type": "code",
   "execution_count": 21,
   "metadata": {},
   "outputs": [],
   "source": [
    "import numpy as np\n",
    "import matplotlib.pyplot as plt\n",
    "plt.style.use('bmh')\n",
    "import math\n",
    "\n",
    "np.set_printoptions(precision=3)\n",
    "\n",
    "Params = plt.rcParams\n",
    "Params['figure.figsize'] = (14, 7) "
   ]
  },
  {
   "cell_type": "markdown",
   "metadata": {},
   "source": [
    "### Exercise 1"
   ]
  },
  {
   "cell_type": "code",
   "execution_count": 22,
   "metadata": {},
   "outputs": [],
   "source": [
    "# Element connectivity \n",
    "connectivity = np.array([[1, 2], [2, 3]])\n",
    "\n",
    "# Unit stiffness matrix of bar in local coordinate system\n",
    "K_unit = np.array([[1, 0, -1, 0], \n",
    "                   [0, 0,  0, 0], \n",
    "                   [-1, 0, 1, 0], \n",
    "                   [0, 0, 0, 0]])\n",
    "\n",
    "# Input data and element stiffness matrices\n",
    "E = 200e3  # N/mm^2\n",
    "\n",
    "a=3000  #m\n",
    "b=4000  #m\n"
   ]
  },
  {
   "cell_type": "code",
   "execution_count": 23,
   "metadata": {},
   "outputs": [
    {
     "name": "stdout",
     "output_type": "stream",
     "text": [
      "129903.8105676658 74999.99999999999\n"
     ]
    }
   ],
   "source": [
    "#Load\n",
    "P = 150*10**3 #N\n",
    "theta = 30 #°\n",
    "\n",
    "Px=P*np.cos(np.radians(theta)) #N\n",
    "Py=P*np.sin(np.radians(theta)) #N\n",
    "\n",
    "print(Px,Py)"
   ]
  },
  {
   "cell_type": "markdown",
   "metadata": {},
   "source": [
    "Bar 1"
   ]
  },
  {
   "cell_type": "code",
   "execution_count": 24,
   "metadata": {},
   "outputs": [
    {
     "name": "stdout",
     "output_type": "stream",
     "text": [
      "[[ 144000.  192000. -144000. -192000.]\n",
      " [ 192000.  256000. -192000. -256000.]\n",
      " [-144000. -192000.  144000.  192000.]\n",
      " [-192000. -256000.  192000.  256000.]]\n"
     ]
    }
   ],
   "source": [
    "A1 = 10000 #mm²\n",
    "L1 = np.sqrt(a**2+b**2) #mm\n",
    "\n",
    "theta1 = np.arctan(b/a)\n",
    "c = np.cos(theta1)\n",
    "s = np.sin(theta1)\n",
    "\n",
    "#Transformation matrix\n",
    "T = np.array([[c, s, 0, 0], \n",
    "              [-s, c, 0, 0], \n",
    "              [0, 0, c, s], \n",
    "              [0, 0, -s, c]])\n",
    "\n",
    "k1 = E*A1/L1\n",
    "k1_global = k1 * T.T @ K_unit @ T\n",
    "\n",
    "print(k1_global)"
   ]
  },
  {
   "cell_type": "markdown",
   "metadata": {},
   "source": [
    "Bar 2"
   ]
  },
  {
   "cell_type": "code",
   "execution_count": 25,
   "metadata": {},
   "outputs": [
    {
     "name": "stdout",
     "output_type": "stream",
     "text": [
      "[[ 216000. -288000. -216000.  288000.]\n",
      " [-288000.  384000.  288000. -384000.]\n",
      " [-216000.  288000.  216000. -288000.]\n",
      " [ 288000. -384000. -288000.  384000.]]\n"
     ]
    }
   ],
   "source": [
    "A2 = 15000 #mm²\n",
    "L2 = np.sqrt(a**2+b**2) #mm\n",
    "\n",
    "theta2 = -np.arctan(b/a)\n",
    "c = np.cos(theta2)\n",
    "s = np.sin(theta2)\n",
    "\n",
    "#Transformation matrix\n",
    "T = np.array([[c, s, 0, 0], \n",
    "              [-s, c, 0, 0], \n",
    "              [0, 0, c, s], \n",
    "              [0, 0, -s, c]])\n",
    "\n",
    "k2 = E*A2/L2\n",
    "k2_global = k2 * T.T @ K_unit @ T\n",
    "\n",
    "print(k2_global)"
   ]
  },
  {
   "cell_type": "markdown",
   "metadata": {},
   "source": [
    "Stiffness matrix in global system"
   ]
  },
  {
   "cell_type": "code",
   "execution_count": 26,
   "metadata": {},
   "outputs": [
    {
     "name": "stdout",
     "output_type": "stream",
     "text": [
      "[[ 144000.  192000. -144000. -192000.       0.       0.]\n",
      " [ 192000.  256000. -192000. -256000.       0.       0.]\n",
      " [-144000. -192000.  360000.  -96000. -216000.  288000.]\n",
      " [-192000. -256000.  -96000.  640000.  288000. -384000.]\n",
      " [      0.       0. -216000.  288000.  216000. -288000.]\n",
      " [      0.       0.  288000. -384000. -288000.  384000.]]\n"
     ]
    }
   ],
   "source": [
    "# Assemble global stiffness matrix\n",
    "NDoF = 6\n",
    "K_global = np.zeros((NDoF, NDoF))\n",
    "K_element_6DOF = []\n",
    "\n",
    "# Assemble 1st element\n",
    "K1_global = np.zeros((NDoF, NDoF))\n",
    "K1_global[0:4, 0:4] = k1_global[0:4, 0:4]\n",
    "\n",
    "# Assemble 2nd element\n",
    "K2_global = np.zeros((NDoF, NDoF))\n",
    "K2_global[2:6, 2:6] = k2_global[0:4,0:4]\n",
    "\n",
    "#Stiffness matrix of the entire system: K=K1+K2\n",
    "K_global=K1_global+K2_global\n",
    "\n",
    "print(K_global)"
   ]
  },
  {
   "cell_type": "markdown",
   "metadata": {},
   "source": [
    "Equilibrium of system : KU=R\n",
    "\n",
    "Condensation of system"
   ]
  },
  {
   "cell_type": "code",
   "execution_count": 27,
   "metadata": {},
   "outputs": [
    {
     "name": "stdout",
     "output_type": "stream",
     "text": [
      "[0.408 0.178]\n"
     ]
    }
   ],
   "source": [
    "#Joints displacements\n",
    "F_red = np.array([Px, Py]) # N\n",
    "K_red = K_global[2:4, 2:4]\n",
    "u_red = np.linalg.inv(K_red) @ F_red\n",
    "print(u_red)"
   ]
  },
  {
   "cell_type": "code",
   "execution_count": 28,
   "metadata": {},
   "outputs": [
    {
     "name": "stdout",
     "output_type": "stream",
     "text": [
      "[ -93076.905 -124102.54   129903.811   75000.     -36826.905   49102.54 ]\n"
     ]
    }
   ],
   "source": [
    "#Support reactions @node 1 and 3\n",
    "u_vec = np.array([0, 0, u_red[0], u_red[1],0,0])\n",
    "F = K_global @ u_vec\n",
    "\n",
    "F1=K_global[0:6,2:4]@u_red\n",
    "\n",
    "print(F)"
   ]
  },
  {
   "cell_type": "code",
   "execution_count": 29,
   "metadata": {},
   "outputs": [
    {
     "data": {
      "text/plain": [
       "''"
      ]
     },
     "execution_count": 29,
     "metadata": {},
     "output_type": "execute_result"
    }
   ],
   "source": [
    "#Axial forces in each bar\n",
    "\n",
    "F1=K1_global@u_vec\n",
    "F2=K2_global@u_vec\n",
    "\n",
    "\"\"\"\"\"\"\"\"\"\"\"\"\"\"\"\"\"\"\"\"\"\"\"\"\"\"\"\"\"\"\"\"\"\"\"\"\"\"\n"
   ]
  },
  {
   "cell_type": "markdown",
   "metadata": {},
   "source": [
    "### Exercise 2"
   ]
  },
  {
   "cell_type": "markdown",
   "metadata": {},
   "source": [
    "#### Geometry"
   ]
  },
  {
   "cell_type": "code",
   "execution_count": 30,
   "metadata": {},
   "outputs": [
    {
     "name": "stdout",
     "output_type": "stream",
     "text": [
      "[[    0.     0.]\n",
      " [ 3000.  4000.]\n",
      " [ 6000.     0.]\n",
      " [ 9000.  4000.]\n",
      " [12000.     0.]\n",
      " [15000.  4000.]\n",
      " [18000.     0.]]\n"
     ]
    }
   ],
   "source": [
    "#Nodes\n",
    "DDL=7\n",
    "a=3000 #mm\n",
    "b=4000 #mm\n",
    "\n",
    "nodes=np.zeros(DDL*2).reshape(DDL,2)\n",
    "\n",
    "for i in range(DDL):\n",
    "    nodes[i,0]=a*i\n",
    "    if i%2==0:\n",
    "        nodes[i,1]=0\n",
    "    else:\n",
    "        nodes[i,1]=b\n",
    "\n",
    "print(nodes)"
   ]
  },
  {
   "cell_type": "code",
   "execution_count": 31,
   "metadata": {},
   "outputs": [
    {
     "name": "stdout",
     "output_type": "stream",
     "text": [
      "[[1 2]\n",
      " [1 3]\n",
      " [2 3]\n",
      " [2 4]\n",
      " [3 4]\n",
      " [3 5]\n",
      " [4 5]\n",
      " [4 6]\n",
      " [5 6]\n",
      " [5 7]\n",
      " [6 7]]\n"
     ]
    }
   ],
   "source": [
    "#Connectivity\n",
    "\n",
    "connectivity=[]\n",
    "\n",
    "for i in range(DDL):\n",
    "    if i<(DDL-2):\n",
    "        connectivity.append([i+1, i+2])\n",
    "        connectivity.append([i+1, i+3])\n",
    "    if i==DDL-2:\n",
    "        connectivity.append([i+1, i+2])\n",
    "        \n",
    "Connectivity=np.array(connectivity)\n",
    "    \n",
    "print(Connectivity)"
   ]
  },
  {
   "cell_type": "code",
   "execution_count": 32,
   "metadata": {},
   "outputs": [
    {
     "data": {
      "text/plain": [
       "array([10000., 10000., 10000., 10000., 10000., 10000., 10000., 10000.,\n",
       "       10000., 10000., 10000.])"
      ]
     },
     "execution_count": 32,
     "metadata": {},
     "output_type": "execute_result"
    }
   ],
   "source": [
    "# Area\n",
    "\n",
    "A=10*10**3 #mm²     #members area equal in the entire truss\n",
    "nb_members=int(np.size(Connectivity)/2)\n",
    "area=np.zeros(nb_members)\n",
    "\n",
    "for i in range(np.size(area)):\n",
    "    area[i]=A\n",
    "    \n",
    "area"
   ]
  },
  {
   "cell_type": "code",
   "execution_count": 33,
   "metadata": {},
   "outputs": [
    {
     "data": {
      "text/plain": [
       "[5000.0,\n",
       " 6000.0,\n",
       " 5000.0,\n",
       " 6000.0,\n",
       " 5000.0,\n",
       " 6000.0,\n",
       " 5000.0,\n",
       " 6000.0,\n",
       " 5000.0,\n",
       " 6000.0,\n",
       " 5000.0]"
      ]
     },
     "execution_count": 33,
     "metadata": {},
     "output_type": "execute_result"
    }
   ],
   "source": [
    "#Length of each element\n",
    "\n",
    "length=[]\n",
    "\n",
    "for i in range(nb_members):\n",
    "    x1=nodes[Connectivity[i,0]-1,0]      #For each node at the extremity of each bar, we get its location in x and y.\n",
    "    y1=nodes[Connectivity[i,0]-1,1]\n",
    "    x2=nodes[Connectivity[i,1]-1,0]\n",
    "    y2=nodes[Connectivity[i,1]-1,1]\n",
    "    \n",
    "    x=x2-x1\n",
    "    y=y2-y1\n",
    "    length.append(np.sqrt(x**2+y**2))\n",
    "\n",
    "length"
   ]
  },
  {
   "cell_type": "markdown",
   "metadata": {},
   "source": [
    "#### Stiffness"
   ]
  },
  {
   "cell_type": "code",
   "execution_count": 34,
   "metadata": {},
   "outputs": [
    {
     "data": {
      "text/plain": [
       "array([400000.   , 333333.333, 400000.   , 333333.333, 400000.   ,\n",
       "       333333.333, 400000.   , 333333.333, 400000.   , 333333.333,\n",
       "       400000.   ])"
      ]
     },
     "execution_count": 34,
     "metadata": {},
     "output_type": "execute_result"
    }
   ],
   "source": [
    "#Local stiffness matrix\n",
    "\n",
    "k_local=E*area/length\n",
    "k_local"
   ]
  },
  {
   "cell_type": "code",
   "execution_count": 35,
   "metadata": {},
   "outputs": [],
   "source": [
    "# Unit stiffness matrix of bar in local coordinate system\n",
    "K_unit = np.array([[1, 0, -1, 0], \n",
    "                   [0, 0,  0, 0], \n",
    "                   [-1, 0, 1, 0], \n",
    "                   [0, 0, 0, 0]])"
   ]
  },
  {
   "cell_type": "code",
   "execution_count": 36,
   "metadata": {},
   "outputs": [
    {
     "name": "stdout",
     "output_type": "stream",
     "text": [
      "[53.13010235415599, 0, -53.13010235415599, 0, 53.13010235415599, 0, -53.13010235415599, 0, 53.13010235415599, 0, -53.13010235415599]\n"
     ]
    }
   ],
   "source": [
    "#Stiffness matrix for each bar in global coordinates\n",
    "\n",
    "angles=[]\n",
    "\n",
    "for i in range(nb_members):\n",
    "    x1=nodes[Connectivity[i,0]-1,0]      #For each node at the extremity of each bar, we get its location in x and y.\n",
    "    y1=nodes[Connectivity[i,0]-1,1]\n",
    "    x2=nodes[Connectivity[i,1]-1,0]\n",
    "    y2=nodes[Connectivity[i,1]-1,1]\n",
    "    \n",
    "    if np.isclose(y1, y2):\n",
    "        if np.isclose(x1, x2):\n",
    "            angles.append(90)\n",
    "        else:\n",
    "            angles.append(0)\n",
    "    else:\n",
    "        theta=np.arcsin((y2-y1)/length[i]) \n",
    "        angles.append(math.degrees(theta))\n",
    "    \n",
    "print(angles)\n"
   ]
  },
  {
   "cell_type": "code",
   "execution_count": 37,
   "metadata": {},
   "outputs": [
    {
     "data": {
      "text/plain": [
       "array([[ 0.999,  0.035,  0.   ,  0.   ],\n",
       "       [-0.035,  0.999,  0.   ,  0.   ],\n",
       "       [ 0.   ,  0.   ,  0.999,  0.035],\n",
       "       [ 0.   ,  0.   , -0.035,  0.999]])"
      ]
     },
     "execution_count": 37,
     "metadata": {},
     "output_type": "execute_result"
    }
   ],
   "source": [
    "#Transformation matrix for each bar\n",
    "\n",
    "c=[]\n",
    "s=[]\n",
    "\n",
    "for i in range(nb_members):\n",
    "    c.append(np.cos(np.radians(i)))\n",
    "    s.append(np.sin(np.radians(i)))\n",
    "\n",
    "T=np.zeros((nb_members,4,4))\n",
    "\n",
    "for i in range(nb_members):\n",
    "    T[i,0,0]=c[i]\n",
    "    T[i,0,1]=s[i]\n",
    "    T[i,1,0]=-s[i]\n",
    "    T[i,1,1]=c[i]\n",
    "    T[i,2,2]=c[i]\n",
    "    T[i,2,3]=s[i]\n",
    "    T[i,3,2]=-s[i]\n",
    "    T[i,3,3]=c[i]\n",
    "\n",
    "T[2]\n"
   ]
  },
  {
   "cell_type": "code",
   "execution_count": 38,
   "metadata": {},
   "outputs": [
    {
     "name": "stdout",
     "output_type": "stream",
     "text": [
      "[array([[ 400000.,       0., -400000.,       0.],\n",
      "       [      0.,       0.,       0.,       0.],\n",
      "       [-400000.,       0.,  400000.,       0.],\n",
      "       [      0.,       0.,       0.,       0.]]), array([[ 3.332e+05,  5.817e+03, -3.332e+05, -5.817e+03],\n",
      "       [ 5.817e+03,  1.015e+02, -5.817e+03, -1.015e+02],\n",
      "       [-3.332e+05, -5.817e+03,  3.332e+05,  5.817e+03],\n",
      "       [-5.817e+03, -1.015e+02,  5.817e+03,  1.015e+02]]), array([[ 399512.81 ,   13951.295, -399512.81 ,  -13951.295],\n",
      "       [  13951.295,     487.19 ,  -13951.295,    -487.19 ],\n",
      "       [-399512.81 ,  -13951.295,  399512.81 ,   13951.295],\n",
      "       [ -13951.295,    -487.19 ,   13951.295,     487.19 ]]), array([[ 332420.316,   17421.411, -332420.316,  -17421.411],\n",
      "       [  17421.411,     913.017,  -17421.411,    -913.017],\n",
      "       [-332420.316,  -17421.411,  332420.316,   17421.411],\n",
      "       [ -17421.411,    -913.017,   17421.411,     913.017]]), array([[ 398053.614,   27834.62 , -398053.614,  -27834.62 ],\n",
      "       [  27834.62 ,    1946.386,  -27834.62 ,   -1946.386],\n",
      "       [-398053.614,  -27834.62 ,  398053.614,   27834.62 ],\n",
      "       [ -27834.62 ,   -1946.386,   27834.62 ,    1946.386]]), array([[ 330801.292,   28941.363, -330801.292,  -28941.363],\n",
      "       [  28941.363,    2532.041,  -28941.363,   -2532.041],\n",
      "       [-330801.292,  -28941.363,  330801.292,   28941.363],\n",
      "       [ -28941.363,   -2532.041,   28941.363,    2532.041]]), array([[ 395629.52 ,   41582.338, -395629.52 ,  -41582.338],\n",
      "       [  41582.338,    4370.48 ,  -41582.338,   -4370.48 ],\n",
      "       [-395629.52 ,  -41582.338,  395629.52 ,   41582.338],\n",
      "       [ -41582.338,   -4370.48 ,   41582.338,    4370.48 ]]), array([[ 328382.621,   40320.316, -328382.621,  -40320.316],\n",
      "       [  40320.316,    4950.712,  -40320.316,   -4950.712],\n",
      "       [-328382.621,  -40320.316,  328382.621,   40320.316],\n",
      "       [ -40320.316,   -4950.712,   40320.316,    4950.712]]), array([[ 392252.339,   55127.471, -392252.339,  -55127.471],\n",
      "       [  55127.471,    7747.661,  -55127.471,   -7747.661],\n",
      "       [-392252.339,  -55127.471,  392252.339,   55127.471],\n",
      "       [ -55127.471,   -7747.661,   55127.471,    7747.661]]), array([[ 325176.086,   51502.832, -325176.086,  -51502.832],\n",
      "       [  51502.832,    8157.247,  -51502.832,   -8157.247],\n",
      "       [-325176.086,  -51502.832,  325176.086,   51502.832],\n",
      "       [ -51502.832,   -8157.247,   51502.832,    8157.247]]), array([[ 387938.524,   68404.029, -387938.524,  -68404.029],\n",
      "       [  68404.029,   12061.476,  -68404.029,  -12061.476],\n",
      "       [-387938.524,  -68404.029,  387938.524,   68404.029],\n",
      "       [ -68404.029,  -12061.476,   68404.029,   12061.476]])]\n"
     ]
    }
   ],
   "source": [
    "#Stiffness for each bar in global coordinates system\n",
    "\n",
    "k_global=[]\n",
    "\n",
    "for i in range(nb_members):\n",
    "    k=k_local[i]*T[i].T@K_unit@T[i]\n",
    "    k_global.append(k)\n",
    "\n",
    "print(k_global)"
   ]
  },
  {
   "cell_type": "code",
   "execution_count": 40,
   "metadata": {},
   "outputs": [
    {
     "name": "stdout",
     "output_type": "stream",
     "text": [
      "(14, 14)\n",
      "[[ 7.332e+05  5.817e+03 -4.000e+05  0.000e+00 -3.332e+05 -5.817e+03\n",
      "   0.000e+00  0.000e+00  0.000e+00  0.000e+00  0.000e+00  0.000e+00\n",
      "   0.000e+00  0.000e+00]\n",
      " [ 5.817e+03  1.015e+02  0.000e+00  0.000e+00 -5.817e+03 -1.015e+02\n",
      "   0.000e+00  0.000e+00  0.000e+00  0.000e+00  0.000e+00  0.000e+00\n",
      "   0.000e+00  0.000e+00]\n",
      " [-4.000e+05  0.000e+00  1.132e+06  3.137e+04 -3.995e+05 -1.395e+04\n",
      "  -3.324e+05 -1.742e+04  0.000e+00  0.000e+00  0.000e+00  0.000e+00\n",
      "   0.000e+00  0.000e+00]\n",
      " [ 0.000e+00  0.000e+00  3.137e+04  1.400e+03 -1.395e+04 -4.872e+02\n",
      "  -1.742e+04 -9.130e+02  0.000e+00  0.000e+00  0.000e+00  0.000e+00\n",
      "   0.000e+00  0.000e+00]\n",
      " [-3.332e+05 -5.817e+03 -3.995e+05 -1.395e+04  1.462e+06  7.654e+04\n",
      "  -3.981e+05 -2.783e+04 -3.308e+05 -2.894e+04  0.000e+00  0.000e+00\n",
      "   0.000e+00  0.000e+00]\n",
      " [-5.817e+03 -1.015e+02 -1.395e+04 -4.872e+02  7.654e+04  5.067e+03\n",
      "  -2.783e+04 -1.946e+03 -2.894e+04 -2.532e+03  0.000e+00  0.000e+00\n",
      "   0.000e+00  0.000e+00]\n",
      " [ 0.000e+00  0.000e+00 -3.324e+05 -1.742e+04 -3.981e+05 -2.783e+04\n",
      "   1.454e+06  1.272e+05 -3.956e+05 -4.158e+04 -3.284e+05 -4.032e+04\n",
      "   0.000e+00  0.000e+00]\n",
      " [ 0.000e+00  0.000e+00 -1.742e+04 -9.130e+02 -2.783e+04 -1.946e+03\n",
      "   1.272e+05  1.218e+04 -4.158e+04 -4.370e+03 -4.032e+04 -4.951e+03\n",
      "   0.000e+00  0.000e+00]\n",
      " [ 0.000e+00  0.000e+00  0.000e+00  0.000e+00 -3.308e+05 -2.894e+04\n",
      "  -3.956e+05 -4.158e+04  1.444e+06  1.772e+05 -3.923e+05 -5.513e+04\n",
      "  -3.252e+05 -5.150e+04]\n",
      " [ 0.000e+00  0.000e+00  0.000e+00  0.000e+00 -2.894e+04 -2.532e+03\n",
      "  -4.158e+04 -4.370e+03  1.772e+05  2.281e+04 -5.513e+04 -7.748e+03\n",
      "  -5.150e+04 -8.157e+03]\n",
      " [ 0.000e+00  0.000e+00  0.000e+00  0.000e+00  0.000e+00  0.000e+00\n",
      "  -3.284e+05 -4.032e+04 -3.923e+05 -5.513e+04  1.109e+06  1.639e+05\n",
      "  -3.879e+05 -6.840e+04]\n",
      " [ 0.000e+00  0.000e+00  0.000e+00  0.000e+00  0.000e+00  0.000e+00\n",
      "  -4.032e+04 -4.951e+03 -5.513e+04 -7.748e+03  1.639e+05  2.476e+04\n",
      "  -6.840e+04 -1.206e+04]\n",
      " [ 0.000e+00  0.000e+00  0.000e+00  0.000e+00  0.000e+00  0.000e+00\n",
      "   0.000e+00  0.000e+00 -3.252e+05 -5.150e+04 -3.879e+05 -6.840e+04\n",
      "   7.131e+05  1.199e+05]\n",
      " [ 0.000e+00  0.000e+00  0.000e+00  0.000e+00  0.000e+00  0.000e+00\n",
      "   0.000e+00  0.000e+00 -5.150e+04 -8.157e+03 -6.840e+04 -1.206e+04\n",
      "   1.199e+05  2.022e+04]]\n"
     ]
    }
   ],
   "source": [
    "#Stiffness in global system\n",
    "\n",
    "K_global=np.zeros((DDL*2,DDL*2))\n",
    "k_global = np.array(k_global)\n",
    "\n",
    "for i, c in enumerate(Connectivity):\n",
    "    u, v = c\n",
    "    K_global[2*u-2:2*u,2*u-2:2*u] += k_global[i, 0:2, 0:2]\n",
    "    K_global[2*u-2:2*u,2*v-2:2*v] += k_global[i, 0:2, 2:4]\n",
    "    K_global[2*v-2:2*v,2*u-2:2*u] += k_global[i, 2:4, 0:2]\n",
    "    K_global[2*v-2:2*v,2*v-2:2*v] += k_global[i, 2:4, 2:4]\n",
    "\n",
    "print(K_global.shape)\n",
    "print(K_global)"
   ]
  },
  {
   "cell_type": "code",
   "execution_count": 20,
   "metadata": {},
   "outputs": [
    {
     "ename": "LinAlgError",
     "evalue": "Singular matrix",
     "output_type": "error",
     "traceback": [
      "\u001b[1;31m---------------------------------------------------------------------------\u001b[0m",
      "\u001b[1;31mLinAlgError\u001b[0m                               Traceback (most recent call last)",
      "\u001b[1;32m<ipython-input-20-b1686762bd51>\u001b[0m in \u001b[0;36m<module>\u001b[1;34m\u001b[0m\n\u001b[0;32m     57\u001b[0m \u001b[0mF_red\u001b[0m \u001b[1;33m=\u001b[0m \u001b[0mnp\u001b[0m\u001b[1;33m.\u001b[0m\u001b[0marray\u001b[0m\u001b[1;33m(\u001b[0m\u001b[1;33m[\u001b[0m\u001b[1;33m-\u001b[0m\u001b[1;36m3000\u001b[0m\u001b[1;33m,\u001b[0m \u001b[1;33m-\u001b[0m\u001b[1;36m18000\u001b[0m\u001b[1;33m]\u001b[0m\u001b[1;33m)\u001b[0m \u001b[1;33m*\u001b[0m \u001b[1;36m1000\u001b[0m  \u001b[1;31m# N\u001b[0m\u001b[1;33m\u001b[0m\u001b[1;33m\u001b[0m\u001b[0m\n\u001b[0;32m     58\u001b[0m \u001b[0mK_red\u001b[0m \u001b[1;33m=\u001b[0m \u001b[0mK_global\u001b[0m\u001b[1;33m[\u001b[0m\u001b[1;36m6\u001b[0m\u001b[1;33m:\u001b[0m\u001b[1;36m8\u001b[0m\u001b[1;33m,\u001b[0m \u001b[1;36m6\u001b[0m\u001b[1;33m:\u001b[0m\u001b[1;36m8\u001b[0m\u001b[1;33m]\u001b[0m\u001b[1;33m\u001b[0m\u001b[1;33m\u001b[0m\u001b[0m\n\u001b[1;32m---> 59\u001b[1;33m \u001b[0mu_red\u001b[0m \u001b[1;33m=\u001b[0m \u001b[0mnp\u001b[0m\u001b[1;33m.\u001b[0m\u001b[0mlinalg\u001b[0m\u001b[1;33m.\u001b[0m\u001b[0minv\u001b[0m\u001b[1;33m(\u001b[0m\u001b[0mK_red\u001b[0m\u001b[1;33m)\u001b[0m \u001b[1;33m@\u001b[0m \u001b[0mF_red\u001b[0m\u001b[1;33m\u001b[0m\u001b[1;33m\u001b[0m\u001b[0m\n\u001b[0m\u001b[0;32m     60\u001b[0m \u001b[1;33m\u001b[0m\u001b[0m\n\u001b[0;32m     61\u001b[0m \u001b[1;31m# Calculate reaction forces at Nodes 1, 2, 3\u001b[0m\u001b[1;33m\u001b[0m\u001b[1;33m\u001b[0m\u001b[1;33m\u001b[0m\u001b[0m\n",
      "\u001b[1;32m<__array_function__ internals>\u001b[0m in \u001b[0;36minv\u001b[1;34m(*args, **kwargs)\u001b[0m\n",
      "\u001b[1;32m~\\anaconda3\\lib\\site-packages\\numpy\\linalg\\linalg.py\u001b[0m in \u001b[0;36minv\u001b[1;34m(a)\u001b[0m\n\u001b[0;32m    545\u001b[0m     \u001b[0msignature\u001b[0m \u001b[1;33m=\u001b[0m \u001b[1;34m'D->D'\u001b[0m \u001b[1;32mif\u001b[0m \u001b[0misComplexType\u001b[0m\u001b[1;33m(\u001b[0m\u001b[0mt\u001b[0m\u001b[1;33m)\u001b[0m \u001b[1;32melse\u001b[0m \u001b[1;34m'd->d'\u001b[0m\u001b[1;33m\u001b[0m\u001b[1;33m\u001b[0m\u001b[0m\n\u001b[0;32m    546\u001b[0m     \u001b[0mextobj\u001b[0m \u001b[1;33m=\u001b[0m \u001b[0mget_linalg_error_extobj\u001b[0m\u001b[1;33m(\u001b[0m\u001b[0m_raise_linalgerror_singular\u001b[0m\u001b[1;33m)\u001b[0m\u001b[1;33m\u001b[0m\u001b[1;33m\u001b[0m\u001b[0m\n\u001b[1;32m--> 547\u001b[1;33m     \u001b[0mainv\u001b[0m \u001b[1;33m=\u001b[0m \u001b[0m_umath_linalg\u001b[0m\u001b[1;33m.\u001b[0m\u001b[0minv\u001b[0m\u001b[1;33m(\u001b[0m\u001b[0ma\u001b[0m\u001b[1;33m,\u001b[0m \u001b[0msignature\u001b[0m\u001b[1;33m=\u001b[0m\u001b[0msignature\u001b[0m\u001b[1;33m,\u001b[0m \u001b[0mextobj\u001b[0m\u001b[1;33m=\u001b[0m\u001b[0mextobj\u001b[0m\u001b[1;33m)\u001b[0m\u001b[1;33m\u001b[0m\u001b[1;33m\u001b[0m\u001b[0m\n\u001b[0m\u001b[0;32m    548\u001b[0m     \u001b[1;32mreturn\u001b[0m \u001b[0mwrap\u001b[0m\u001b[1;33m(\u001b[0m\u001b[0mainv\u001b[0m\u001b[1;33m.\u001b[0m\u001b[0mastype\u001b[0m\u001b[1;33m(\u001b[0m\u001b[0mresult_t\u001b[0m\u001b[1;33m,\u001b[0m \u001b[0mcopy\u001b[0m\u001b[1;33m=\u001b[0m\u001b[1;32mFalse\u001b[0m\u001b[1;33m)\u001b[0m\u001b[1;33m)\u001b[0m\u001b[1;33m\u001b[0m\u001b[1;33m\u001b[0m\u001b[0m\n\u001b[0;32m    549\u001b[0m \u001b[1;33m\u001b[0m\u001b[0m\n",
      "\u001b[1;32m~\\anaconda3\\lib\\site-packages\\numpy\\linalg\\linalg.py\u001b[0m in \u001b[0;36m_raise_linalgerror_singular\u001b[1;34m(err, flag)\u001b[0m\n\u001b[0;32m     95\u001b[0m \u001b[1;33m\u001b[0m\u001b[0m\n\u001b[0;32m     96\u001b[0m \u001b[1;32mdef\u001b[0m \u001b[0m_raise_linalgerror_singular\u001b[0m\u001b[1;33m(\u001b[0m\u001b[0merr\u001b[0m\u001b[1;33m,\u001b[0m \u001b[0mflag\u001b[0m\u001b[1;33m)\u001b[0m\u001b[1;33m:\u001b[0m\u001b[1;33m\u001b[0m\u001b[1;33m\u001b[0m\u001b[0m\n\u001b[1;32m---> 97\u001b[1;33m     \u001b[1;32mraise\u001b[0m \u001b[0mLinAlgError\u001b[0m\u001b[1;33m(\u001b[0m\u001b[1;34m\"Singular matrix\"\u001b[0m\u001b[1;33m)\u001b[0m\u001b[1;33m\u001b[0m\u001b[1;33m\u001b[0m\u001b[0m\n\u001b[0m\u001b[0;32m     98\u001b[0m \u001b[1;33m\u001b[0m\u001b[0m\n\u001b[0;32m     99\u001b[0m \u001b[1;32mdef\u001b[0m \u001b[0m_raise_linalgerror_nonposdef\u001b[0m\u001b[1;33m(\u001b[0m\u001b[0merr\u001b[0m\u001b[1;33m,\u001b[0m \u001b[0mflag\u001b[0m\u001b[1;33m)\u001b[0m\u001b[1;33m:\u001b[0m\u001b[1;33m\u001b[0m\u001b[1;33m\u001b[0m\u001b[0m\n",
      "\u001b[1;31mLinAlgError\u001b[0m: Singular matrix"
     ]
    }
   ],
   "source": [
    "# Unit stiffness matrix of bar in local coordinate system\n",
    "K_unit = np.array([[1, 0, -1, 0], \n",
    "                   [0, 0,  0, 0], \n",
    "                   [-1, 0, 1, 0], \n",
    "                   [0, 0, 0, 0]])\n",
    "\n",
    "# Input data and element stiffness matrices\n",
    "E = 200e3  # N/mm^2\n",
    "\n",
    "# Bar 1\n",
    "theta1 = -45\n",
    "c = np.cos(np.radians(theta1))\n",
    "s = np.sin(np.radians(theta1))\n",
    "T = np.array([[c, s, 0, 0], \n",
    "              [-s, c, 0, 0], \n",
    "              [0, 0, c, s], \n",
    "              [0, 0, -s, c]])\n",
    "A = 10e3  # mm^2\n",
    "L = np.sqrt(2)*2000  # mm\n",
    "k1 = E * A / L\n",
    "k1_global = k1 * T.T @ K_unit @ T\n",
    "\n",
    "# Fill in the information for Bar 2\n",
    "\"\"\"\n",
    "\n",
    "\"\"\"\n",
    "\n",
    "# And the same for Bar 3\n",
    "\"\"\"\n",
    "\n",
    "\"\"\"\n",
    "\n",
    "\n",
    "# Assemble global stiffness matrix\n",
    "NDoF = 8\n",
    "K_global = np.zeros((NDoF, NDoF))\n",
    "K_element_8DOF = []\n",
    "\n",
    "# Assemble 1st element\n",
    "K1_global = np.zeros((NDoF, NDoF))\n",
    "K1_global[0:2, 0:2] = k1_global[0:2, 0:2]\n",
    "\"\"\"\n",
    "\n",
    "\"\"\"\n",
    "\n",
    "# Assemble 2nd element\n",
    "\"\"\"\n",
    "\n",
    "\"\"\"\n",
    "\n",
    "# Assemble 3rd element\n",
    "\"\"\"\n",
    "\n",
    "\"\"\"\n",
    "\n",
    "# Calculate displacements at Node 4\n",
    "F_red = np.array([-3000, -18000]) * 1000  # N\n",
    "K_red = K_global[6:8, 6:8]\n",
    "u_red = np.linalg.inv(K_red) @ F_red\n",
    "\n",
    "# Calculate reaction forces at Nodes 1, 2, 3\n",
    "u_vec = np.array([0, 0, 0, 0, 0, 0, u_red[0], u_red[1]])\n",
    "F = K_global @ u_vec\n",
    "\n",
    "# Calculate axial forces\n",
    "F_ele = K_element_8DOF[0] @ u_vec\n",
    "\"\"\"\n",
    "\n",
    "\"\"\"\n",
    "\n",
    "# Calculate axial forces for 2nd element\n",
    "\n",
    "# Calculate axial forces for 3rd element"
   ]
  },
  {
   "cell_type": "code",
   "execution_count": null,
   "metadata": {},
   "outputs": [],
   "source": []
  },
  {
   "cell_type": "code",
   "execution_count": null,
   "metadata": {},
   "outputs": [],
   "source": []
  },
  {
   "cell_type": "code",
   "execution_count": null,
   "metadata": {},
   "outputs": [],
   "source": [
    "\n",
    "    "
   ]
  },
  {
   "cell_type": "markdown",
   "metadata": {},
   "source": [
    "### Exercice 2"
   ]
  },
  {
   "cell_type": "code",
   "execution_count": null,
   "metadata": {},
   "outputs": [],
   "source": [
    "nb = 11 #number of bars in the truss"
   ]
  },
  {
   "cell_type": "code",
   "execution_count": null,
   "metadata": {},
   "outputs": [],
   "source": [
    "#Bars area\n",
    "\n",
    "A = 10000 #mm² \n",
    "area = []\n",
    "\n",
    "for i in range(nb):\n",
    "    area.append(A) #area constant for each bar of the truss"
   ]
  },
  {
   "cell_type": "code",
   "execution_count": null,
   "metadata": {},
   "outputs": [],
   "source": [
    "#Bars length\n",
    "\n",
    "a=3#m\n",
    "b=4#m\n",
    "\n",
    "length = []\n",
    "\n",
    "for i in range(nb):\n",
    "    if (i+1)%2==0:      #if bars on the top or bottom membrane\n",
    "        length.append(2*a)\n",
    "    else:\n",
    "        length.append(np.sqrt(a^2+b^2))\n",
    "print(length)\n",
    "        "
   ]
  },
  {
   "cell_type": "code",
   "execution_count": null,
   "metadata": {},
   "outputs": [],
   "source": [
    "#Local rigidity\n",
    "\n",
    "k_local=[]\n",
    "\n",
    "for i in range(nb):\n",
    "    k_local.append(area[i]*E/length[i])\n"
   ]
  },
  {
   "cell_type": "code",
   "execution_count": null,
   "metadata": {},
   "outputs": [],
   "source": []
  }
 ],
 "metadata": {
  "kernelspec": {
   "display_name": "Python 3",
   "language": "python",
   "name": "python3"
  },
  "language_info": {
   "codemirror_mode": {
    "name": "ipython",
    "version": 3
   },
   "file_extension": ".py",
   "mimetype": "text/x-python",
   "name": "python",
   "nbconvert_exporter": "python",
   "pygments_lexer": "ipython3",
   "version": "3.8.3"
  }
 },
 "nbformat": 4,
 "nbformat_minor": 4
}
