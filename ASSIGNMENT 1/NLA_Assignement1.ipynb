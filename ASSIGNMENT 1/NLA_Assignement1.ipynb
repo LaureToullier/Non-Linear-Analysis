{
 "cells": [
  {
   "cell_type": "markdown",
   "metadata": {},
   "source": [
    "# Nonlinear analysis -Assignment 1"
   ]
  },
  {
   "cell_type": "markdown",
   "metadata": {},
   "source": [
    "21.09.2023 - Laure Toullier"
   ]
  },
  {
   "cell_type": "code",
   "execution_count": 1,
   "metadata": {},
   "outputs": [],
   "source": [
    "import numpy as np\n",
    "import matplotlib.pyplot as plt\n",
    "plt.style.use('bmh')\n",
    "import math\n",
    "\n",
    "np.set_printoptions(precision=3, suppress=True)\n",
    "\n",
    "Params = plt.rcParams\n",
    "Params['figure.figsize'] = (14, 7) "
   ]
  },
  {
   "cell_type": "markdown",
   "metadata": {},
   "source": [
    "### Exercise 1"
   ]
  },
  {
   "cell_type": "code",
   "execution_count": 2,
   "metadata": {},
   "outputs": [],
   "source": [
    "# Element connectivity \n",
    "connectivity = np.array([[1, 2], [2, 3]])\n",
    "\n",
    "# Unit stiffness matrix of bar in local coordinate system\n",
    "K_unit = np.array([[1, 0, -1, 0], \n",
    "                   [0, 0,  0, 0], \n",
    "                   [-1, 0, 1, 0], \n",
    "                   [0, 0, 0, 0]])\n",
    "\n",
    "# Input data and element stiffness matrices\n",
    "E = 200e3  # N/mm^2\n",
    "\n",
    "a=3000  #m\n",
    "b=4000  #m\n"
   ]
  },
  {
   "cell_type": "code",
   "execution_count": 3,
   "metadata": {},
   "outputs": [
    {
     "name": "stdout",
     "output_type": "stream",
     "text": [
      "129903.8105676658 74999.99999999999\n"
     ]
    }
   ],
   "source": [
    "#Load\n",
    "P = 150*10**3 #N\n",
    "theta = 30 #°\n",
    "\n",
    "Px=P*np.cos(np.radians(theta)) #N\n",
    "Py=P*np.sin(np.radians(theta)) #N\n",
    "\n",
    "print(Px,Py)"
   ]
  },
  {
   "cell_type": "markdown",
   "metadata": {},
   "source": [
    "Bar 1"
   ]
  },
  {
   "cell_type": "code",
   "execution_count": 4,
   "metadata": {},
   "outputs": [
    {
     "name": "stdout",
     "output_type": "stream",
     "text": [
      "[[ 144000.  192000. -144000. -192000.]\n",
      " [ 192000.  256000. -192000. -256000.]\n",
      " [-144000. -192000.  144000.  192000.]\n",
      " [-192000. -256000.  192000.  256000.]]\n"
     ]
    }
   ],
   "source": [
    "A1 = 10000 #mm²\n",
    "L1 = np.sqrt(a**2+b**2) #mm\n",
    "\n",
    "theta1 = np.arctan(b/a)\n",
    "c = np.cos(theta1)\n",
    "s = np.sin(theta1)\n",
    "\n",
    "#Transformation matrix\n",
    "T = np.array([[c, s, 0, 0], \n",
    "              [-s, c, 0, 0], \n",
    "              [0, 0, c, s], \n",
    "              [0, 0, -s, c]])\n",
    "\n",
    "k1 = E*A1/L1\n",
    "k1_global = k1 * T.T @ K_unit @ T\n",
    "\n",
    "print(k1_global)"
   ]
  },
  {
   "cell_type": "markdown",
   "metadata": {},
   "source": [
    "Bar 2"
   ]
  },
  {
   "cell_type": "code",
   "execution_count": 5,
   "metadata": {},
   "outputs": [
    {
     "name": "stdout",
     "output_type": "stream",
     "text": [
      "[[ 216000. -288000. -216000.  288000.]\n",
      " [-288000.  384000.  288000. -384000.]\n",
      " [-216000.  288000.  216000. -288000.]\n",
      " [ 288000. -384000. -288000.  384000.]]\n"
     ]
    }
   ],
   "source": [
    "A2 = 15000 #mm²\n",
    "L2 = np.sqrt(a**2+b**2) #mm\n",
    "\n",
    "theta2 = -np.arctan(b/a)\n",
    "c = np.cos(theta2)\n",
    "s = np.sin(theta2)\n",
    "\n",
    "#Transformation matrix\n",
    "T = np.array([[c, s, 0, 0], \n",
    "              [-s, c, 0, 0], \n",
    "              [0, 0, c, s], \n",
    "              [0, 0, -s, c]])\n",
    "\n",
    "k2 = E*A2/L2\n",
    "k2_global = k2 * T.T @ K_unit @ T\n",
    "\n",
    "print(k2_global)"
   ]
  },
  {
   "cell_type": "markdown",
   "metadata": {},
   "source": [
    "Stiffness matrix in global system"
   ]
  },
  {
   "cell_type": "code",
   "execution_count": 6,
   "metadata": {},
   "outputs": [
    {
     "name": "stdout",
     "output_type": "stream",
     "text": [
      "[[ 144000.  192000. -144000. -192000.       0.       0.]\n",
      " [ 192000.  256000. -192000. -256000.       0.       0.]\n",
      " [-144000. -192000.  360000.  -96000. -216000.  288000.]\n",
      " [-192000. -256000.  -96000.  640000.  288000. -384000.]\n",
      " [      0.       0. -216000.  288000.  216000. -288000.]\n",
      " [      0.       0.  288000. -384000. -288000.  384000.]]\n"
     ]
    }
   ],
   "source": [
    "# Assemble global stiffness matrix\n",
    "NDoF = 6\n",
    "K_global = np.zeros((NDoF, NDoF))\n",
    "K_element_6DOF = []\n",
    "\n",
    "# Assemble 1st element\n",
    "K1_global = np.zeros((NDoF, NDoF))\n",
    "K1_global[0:4, 0:4] = k1_global[0:4, 0:4]\n",
    "\n",
    "# Assemble 2nd element\n",
    "K2_global = np.zeros((NDoF, NDoF))\n",
    "K2_global[2:6, 2:6] = k2_global[0:4,0:4]\n",
    "\n",
    "#Stiffness matrix of the entire system: K=K1+K2\n",
    "K_global=K1_global+K2_global\n",
    "\n",
    "print(K_global)"
   ]
  },
  {
   "cell_type": "markdown",
   "metadata": {},
   "source": [
    "Equilibrium of system : KU=R\n",
    "\n",
    "Condensation of system"
   ]
  },
  {
   "cell_type": "code",
   "execution_count": 7,
   "metadata": {},
   "outputs": [
    {
     "name": "stdout",
     "output_type": "stream",
     "text": [
      "[0.408 0.178]\n"
     ]
    }
   ],
   "source": [
    "#Joints displacements\n",
    "F_red = np.array([Px, Py]) # N\n",
    "K_red = K_global[2:4, 2:4]\n",
    "u_red = np.linalg.inv(K_red) @ F_red\n",
    "print(u_red)"
   ]
  },
  {
   "cell_type": "code",
   "execution_count": 8,
   "metadata": {},
   "outputs": [
    {
     "name": "stdout",
     "output_type": "stream",
     "text": [
      "[ -93076.905 -124102.54   129903.811   75000.     -36826.905   49102.54 ]\n"
     ]
    }
   ],
   "source": [
    "#Support reactions @node 1 and 3\n",
    "u_vec = np.array([0, 0, u_red[0], u_red[1],0,0])\n",
    "F = K_global @ u_vec #N\n",
    "\n",
    "F1=K_global[0:6,2:4]@u_red\n",
    "\n",
    "print(F)"
   ]
  },
  {
   "cell_type": "code",
   "execution_count": 9,
   "metadata": {},
   "outputs": [
    {
     "data": {
      "text/plain": [
       "''"
      ]
     },
     "execution_count": 9,
     "metadata": {},
     "output_type": "execute_result"
    }
   ],
   "source": [
    "#Axial forces in each bar\n",
    "\n",
    "#bar 1:\n",
    "\n",
    "\n",
    "\n",
    "F1=K1_global@u_vec\n",
    "F2=K2_global@u_vec\n",
    "\n",
    "\"\"\"\"\"\"\"\"\"\"\"\"\"\"\"\"\"\"\"\"\"\"\"\"\"\"\"\"\"\"\"\"\"\"\"\"\"\"\n"
   ]
  },
  {
   "cell_type": "markdown",
   "metadata": {},
   "source": [
    "### Exercise 2"
   ]
  },
  {
   "cell_type": "markdown",
   "metadata": {},
   "source": [
    "#### Geometry"
   ]
  },
  {
   "cell_type": "code",
   "execution_count": 10,
   "metadata": {},
   "outputs": [],
   "source": [
    "#Geometric data for the truss:\n",
    "DDL=7  #degree of freedom\n",
    "a=3000 #mm\n",
    "b=4000 #mm"
   ]
  },
  {
   "cell_type": "code",
   "execution_count": 11,
   "metadata": {},
   "outputs": [],
   "source": [
    "#Load definition\n",
    "load=150*10**3 #N \n",
    "P=np.zeros(2*DDL).reshape(DDL,2)\n",
    "theta_P=-90 #°\n",
    "\n",
    "P[1]=[load*np.cos(np.radians(theta_P)),load*np.sin(np.radians(theta_P))]\n",
    "P[3]=[load*np.cos(np.radians(theta_P)),load*np.sin(np.radians(theta_P))]\n",
    "P[5]=[load*np.cos(np.radians(theta_P)),load*np.sin(np.radians(theta_P))]"
   ]
  },
  {
   "cell_type": "code",
   "execution_count": 12,
   "metadata": {},
   "outputs": [
    {
     "name": "stdout",
     "output_type": "stream",
     "text": [
      "[[    0.     0.]\n",
      " [ 3000.  4000.]\n",
      " [ 6000.     0.]\n",
      " [ 9000.  4000.]\n",
      " [12000.     0.]\n",
      " [15000.  4000.]\n",
      " [18000.     0.]]\n"
     ]
    }
   ],
   "source": [
    "#Generate the nodes of the truss and their location (if 1st node at (0,0))\n",
    "\n",
    "nodes=np.zeros(DDL*2).reshape(DDL,2)\n",
    "\n",
    "for i in range(DDL):\n",
    "    nodes[i,0]=a*i\n",
    "    if i%2==0:\n",
    "        nodes[i,1]=0\n",
    "    else:\n",
    "        nodes[i,1]=b\n",
    "\n",
    "print(nodes)"
   ]
  },
  {
   "cell_type": "code",
   "execution_count": 13,
   "metadata": {},
   "outputs": [
    {
     "name": "stdout",
     "output_type": "stream",
     "text": [
      "[[1 2]\n",
      " [1 3]\n",
      " [2 3]\n",
      " [2 4]\n",
      " [3 4]\n",
      " [3 5]\n",
      " [4 5]\n",
      " [4 6]\n",
      " [5 6]\n",
      " [5 7]\n",
      " [6 7]]\n"
     ]
    }
   ],
   "source": [
    "#Connectivity: connect nodes with bar element\n",
    "\n",
    "connectivity=[]\n",
    "\n",
    "for i in range(DDL):\n",
    "    if i<(DDL-2):\n",
    "        connectivity.append([i+1, i+2])\n",
    "        connectivity.append([i+1, i+3])\n",
    "    if i==DDL-2:\n",
    "        connectivity.append([i+1, i+2])\n",
    "        \n",
    "Connectivity=np.array(connectivity)\n",
    "    \n",
    "print(Connectivity)"
   ]
  },
  {
   "cell_type": "code",
   "execution_count": 14,
   "metadata": {},
   "outputs": [
    {
     "data": {
      "text/plain": [
       "array([10000., 10000., 10000., 10000., 10000., 10000., 10000., 10000.,\n",
       "       10000., 10000., 10000.])"
      ]
     },
     "execution_count": 14,
     "metadata": {},
     "output_type": "execute_result"
    }
   ],
   "source": [
    "# Area: area of each bar of the truss\n",
    "\n",
    "A=10*10**3 #mm²     #members area equal in the entire truss\n",
    "nb_members=int(np.size(Connectivity)/2)\n",
    "area=np.zeros(nb_members)\n",
    "\n",
    "for i in range(np.size(area)):\n",
    "    area[i]=A\n",
    "    \n",
    "area"
   ]
  },
  {
   "cell_type": "code",
   "execution_count": 15,
   "metadata": {},
   "outputs": [
    {
     "data": {
      "text/plain": [
       "[5000.0,\n",
       " 6000.0,\n",
       " 5000.0,\n",
       " 6000.0,\n",
       " 5000.0,\n",
       " 6000.0,\n",
       " 5000.0,\n",
       " 6000.0,\n",
       " 5000.0,\n",
       " 6000.0,\n",
       " 5000.0]"
      ]
     },
     "execution_count": 15,
     "metadata": {},
     "output_type": "execute_result"
    }
   ],
   "source": [
    "#Length of each bar element of the truss, from points' coordinates of each bar.\n",
    "\n",
    "length=[]\n",
    "\n",
    "for i in range(nb_members):\n",
    "    x1=nodes[Connectivity[i,0]-1,0]      #For each node at the end of each bar, we get its location in x and y.\n",
    "    y1=nodes[Connectivity[i,0]-1,1]\n",
    "    x2=nodes[Connectivity[i,1]-1,0]\n",
    "    y2=nodes[Connectivity[i,1]-1,1]\n",
    "    \n",
    "    x=x2-x1\n",
    "    y=y2-y1\n",
    "    length.append(np.sqrt(x**2+y**2))\n",
    "\n",
    "length"
   ]
  },
  {
   "cell_type": "markdown",
   "metadata": {},
   "source": [
    "#### Stiffness"
   ]
  },
  {
   "cell_type": "code",
   "execution_count": 16,
   "metadata": {},
   "outputs": [
    {
     "data": {
      "text/plain": [
       "array([400000.   , 333333.333, 400000.   , 333333.333, 400000.   ,\n",
       "       333333.333, 400000.   , 333333.333, 400000.   , 333333.333,\n",
       "       400000.   ])"
      ]
     },
     "execution_count": 16,
     "metadata": {},
     "output_type": "execute_result"
    }
   ],
   "source": [
    "#Local stiffness matrix for each bar element of the truss\n",
    "\n",
    "k_local=E*area/length\n",
    "k_local"
   ]
  },
  {
   "cell_type": "code",
   "execution_count": 17,
   "metadata": {},
   "outputs": [],
   "source": [
    "# Unit stiffness matrix of bar in local coordinate system\n",
    "K_unit = np.array([[1, 0, -1, 0], \n",
    "                   [0, 0,  0, 0], \n",
    "                   [-1, 0, 1, 0], \n",
    "                   [0, 0, 0, 0]])"
   ]
  },
  {
   "cell_type": "code",
   "execution_count": 18,
   "metadata": {},
   "outputs": [
    {
     "name": "stdout",
     "output_type": "stream",
     "text": [
      "[53.13010235415599, 0, -53.13010235415599, 0, 53.13010235415599, 0, -53.13010235415599, 0, 53.13010235415599, 0, -53.13010235415599]\n"
     ]
    }
   ],
   "source": [
    "#Stiffness matrix for each bar in global coordinates\n",
    "\n",
    "angles=[]\n",
    "\n",
    "for i in range(nb_members):\n",
    "        \n",
    "    x1=nodes[Connectivity[i,0]-1,0]      #For each node at the extremity of each bar, we get its location in x and y.\n",
    "    y1=nodes[Connectivity[i,0]-1,1]\n",
    "    x2=nodes[Connectivity[i,1]-1,0]\n",
    "    y2=nodes[Connectivity[i,1]-1,1]\n",
    "    \n",
    "    if np.isclose(y1, y2):\n",
    "        if np.isclose(x1, x2):\n",
    "            angles.append(90)\n",
    "        else:\n",
    "            angles.append(0)\n",
    "    else:\n",
    "        theta=np.arcsin((y2-y1)/length[i]) #calculate the angle between the x-axis and the bar element\n",
    "        angles.append(math.degrees(theta))\n",
    "    \n",
    "print(angles)\n"
   ]
  },
  {
   "cell_type": "code",
   "execution_count": 19,
   "metadata": {},
   "outputs": [
    {
     "data": {
      "text/plain": [
       "array([[[ 0.6,  0.8,  0. ,  0. ],\n",
       "        [-0.8,  0.6,  0. ,  0. ],\n",
       "        [ 0. ,  0. ,  0.6,  0.8],\n",
       "        [ 0. ,  0. , -0.8,  0.6]],\n",
       "\n",
       "       [[ 1. ,  0. ,  0. ,  0. ],\n",
       "        [-0. ,  1. ,  0. ,  0. ],\n",
       "        [ 0. ,  0. ,  1. ,  0. ],\n",
       "        [ 0. ,  0. , -0. ,  1. ]],\n",
       "\n",
       "       [[ 0.6, -0.8,  0. ,  0. ],\n",
       "        [ 0.8,  0.6,  0. ,  0. ],\n",
       "        [ 0. ,  0. ,  0.6, -0.8],\n",
       "        [ 0. ,  0. ,  0.8,  0.6]],\n",
       "\n",
       "       [[ 1. ,  0. ,  0. ,  0. ],\n",
       "        [-0. ,  1. ,  0. ,  0. ],\n",
       "        [ 0. ,  0. ,  1. ,  0. ],\n",
       "        [ 0. ,  0. , -0. ,  1. ]],\n",
       "\n",
       "       [[ 0.6,  0.8,  0. ,  0. ],\n",
       "        [-0.8,  0.6,  0. ,  0. ],\n",
       "        [ 0. ,  0. ,  0.6,  0.8],\n",
       "        [ 0. ,  0. , -0.8,  0.6]],\n",
       "\n",
       "       [[ 1. ,  0. ,  0. ,  0. ],\n",
       "        [-0. ,  1. ,  0. ,  0. ],\n",
       "        [ 0. ,  0. ,  1. ,  0. ],\n",
       "        [ 0. ,  0. , -0. ,  1. ]],\n",
       "\n",
       "       [[ 0.6, -0.8,  0. ,  0. ],\n",
       "        [ 0.8,  0.6,  0. ,  0. ],\n",
       "        [ 0. ,  0. ,  0.6, -0.8],\n",
       "        [ 0. ,  0. ,  0.8,  0.6]],\n",
       "\n",
       "       [[ 1. ,  0. ,  0. ,  0. ],\n",
       "        [-0. ,  1. ,  0. ,  0. ],\n",
       "        [ 0. ,  0. ,  1. ,  0. ],\n",
       "        [ 0. ,  0. , -0. ,  1. ]],\n",
       "\n",
       "       [[ 0.6,  0.8,  0. ,  0. ],\n",
       "        [-0.8,  0.6,  0. ,  0. ],\n",
       "        [ 0. ,  0. ,  0.6,  0.8],\n",
       "        [ 0. ,  0. , -0.8,  0.6]],\n",
       "\n",
       "       [[ 1. ,  0. ,  0. ,  0. ],\n",
       "        [-0. ,  1. ,  0. ,  0. ],\n",
       "        [ 0. ,  0. ,  1. ,  0. ],\n",
       "        [ 0. ,  0. , -0. ,  1. ]],\n",
       "\n",
       "       [[ 0.6, -0.8,  0. ,  0. ],\n",
       "        [ 0.8,  0.6,  0. ,  0. ],\n",
       "        [ 0. ,  0. ,  0.6, -0.8],\n",
       "        [ 0. ,  0. ,  0.8,  0.6]]])"
      ]
     },
     "execution_count": 19,
     "metadata": {},
     "output_type": "execute_result"
    }
   ],
   "source": [
    "#Transformation matrix for each bar element of the truss\n",
    "\n",
    "c=[]\n",
    "s=[]\n",
    "\n",
    "for i in range(nb_members):\n",
    "    c.append(np.cos(np.radians(angles[i])))\n",
    "    s.append(np.sin(np.radians(angles[i])))\n",
    "    \n",
    "T=np.zeros((nb_members,4,4))\n",
    "\n",
    "for i in range(nb_members):\n",
    "    T[i,0,0]=c[i]\n",
    "    T[i,0,1]=s[i]\n",
    "    T[i,1,0]=-s[i]\n",
    "    T[i,1,1]=c[i]\n",
    "    T[i,2,2]=c[i]\n",
    "    T[i,2,3]=s[i]\n",
    "    T[i,3,2]=-s[i]\n",
    "    T[i,3,3]=c[i]\n",
    "\n",
    "T"
   ]
  },
  {
   "cell_type": "code",
   "execution_count": 20,
   "metadata": {},
   "outputs": [
    {
     "name": "stdout",
     "output_type": "stream",
     "text": [
      "[array([[ 144000.,  192000., -144000., -192000.],\n",
      "       [ 192000.,  256000., -192000., -256000.],\n",
      "       [-144000., -192000.,  144000.,  192000.],\n",
      "       [-192000., -256000.,  192000.,  256000.]]), array([[ 333333.333,       0.   , -333333.333,       0.   ],\n",
      "       [      0.   ,       0.   ,       0.   ,       0.   ],\n",
      "       [-333333.333,       0.   ,  333333.333,       0.   ],\n",
      "       [      0.   ,       0.   ,       0.   ,       0.   ]]), array([[ 144000., -192000., -144000.,  192000.],\n",
      "       [-192000.,  256000.,  192000., -256000.],\n",
      "       [-144000.,  192000.,  144000., -192000.],\n",
      "       [ 192000., -256000., -192000.,  256000.]]), array([[ 333333.333,       0.   , -333333.333,       0.   ],\n",
      "       [      0.   ,       0.   ,       0.   ,       0.   ],\n",
      "       [-333333.333,       0.   ,  333333.333,       0.   ],\n",
      "       [      0.   ,       0.   ,       0.   ,       0.   ]]), array([[ 144000.,  192000., -144000., -192000.],\n",
      "       [ 192000.,  256000., -192000., -256000.],\n",
      "       [-144000., -192000.,  144000.,  192000.],\n",
      "       [-192000., -256000.,  192000.,  256000.]]), array([[ 333333.333,       0.   , -333333.333,       0.   ],\n",
      "       [      0.   ,       0.   ,       0.   ,       0.   ],\n",
      "       [-333333.333,       0.   ,  333333.333,       0.   ],\n",
      "       [      0.   ,       0.   ,       0.   ,       0.   ]]), array([[ 144000., -192000., -144000.,  192000.],\n",
      "       [-192000.,  256000.,  192000., -256000.],\n",
      "       [-144000.,  192000.,  144000., -192000.],\n",
      "       [ 192000., -256000., -192000.,  256000.]]), array([[ 333333.333,       0.   , -333333.333,       0.   ],\n",
      "       [      0.   ,       0.   ,       0.   ,       0.   ],\n",
      "       [-333333.333,       0.   ,  333333.333,       0.   ],\n",
      "       [      0.   ,       0.   ,       0.   ,       0.   ]]), array([[ 144000.,  192000., -144000., -192000.],\n",
      "       [ 192000.,  256000., -192000., -256000.],\n",
      "       [-144000., -192000.,  144000.,  192000.],\n",
      "       [-192000., -256000.,  192000.,  256000.]]), array([[ 333333.333,       0.   , -333333.333,       0.   ],\n",
      "       [      0.   ,       0.   ,       0.   ,       0.   ],\n",
      "       [-333333.333,       0.   ,  333333.333,       0.   ],\n",
      "       [      0.   ,       0.   ,       0.   ,       0.   ]]), array([[ 144000., -192000., -144000.,  192000.],\n",
      "       [-192000.,  256000.,  192000., -256000.],\n",
      "       [-144000.,  192000.,  144000., -192000.],\n",
      "       [ 192000., -256000., -192000.,  256000.]])]\n"
     ]
    }
   ],
   "source": [
    "#Stiffness for each bar in global coordinates system\n",
    "\n",
    "k_global=[]\n",
    "\n",
    "for i in range(nb_members):\n",
    "    k=k_local[i]*T[i].T@K_unit@T[i]\n",
    "    k_global.append(k)\n",
    "\n",
    "print(k_global)"
   ]
  },
  {
   "cell_type": "code",
   "execution_count": 21,
   "metadata": {},
   "outputs": [
    {
     "name": "stdout",
     "output_type": "stream",
     "text": [
      "(14, 14)\n",
      "[[ 477333.333  192000.    -144000.    -192000.    -333333.333       0.\n",
      "        0.          0.          0.          0.          0.          0.\n",
      "        0.          0.   ]\n",
      " [ 192000.     256000.    -192000.    -256000.          0.          0.\n",
      "        0.          0.          0.          0.          0.          0.\n",
      "        0.          0.   ]\n",
      " [-144000.    -192000.     621333.333       0.    -144000.     192000.\n",
      "  -333333.333       0.          0.          0.          0.          0.\n",
      "        0.          0.   ]\n",
      " [-192000.    -256000.          0.     512000.     192000.    -256000.\n",
      "        0.          0.          0.          0.          0.          0.\n",
      "        0.          0.   ]\n",
      " [-333333.333       0.    -144000.     192000.     954666.667       0.\n",
      "  -144000.    -192000.    -333333.333       0.          0.          0.\n",
      "        0.          0.   ]\n",
      " [      0.          0.     192000.    -256000.          0.     512000.\n",
      "  -192000.    -256000.          0.          0.          0.          0.\n",
      "        0.          0.   ]\n",
      " [      0.          0.    -333333.333       0.    -144000.    -192000.\n",
      "   954666.667       0.    -144000.     192000.    -333333.333       0.\n",
      "        0.          0.   ]\n",
      " [      0.          0.          0.          0.    -192000.    -256000.\n",
      "        0.     512000.     192000.    -256000.          0.          0.\n",
      "        0.          0.   ]\n",
      " [      0.          0.          0.          0.    -333333.333       0.\n",
      "  -144000.     192000.     954666.667       0.    -144000.    -192000.\n",
      "  -333333.333       0.   ]\n",
      " [      0.          0.          0.          0.          0.          0.\n",
      "   192000.    -256000.          0.     512000.    -192000.    -256000.\n",
      "        0.          0.   ]\n",
      " [      0.          0.          0.          0.          0.          0.\n",
      "  -333333.333       0.    -144000.    -192000.     621333.333       0.\n",
      "  -144000.     192000.   ]\n",
      " [      0.          0.          0.          0.          0.          0.\n",
      "        0.          0.    -192000.    -256000.          0.     512000.\n",
      "   192000.    -256000.   ]\n",
      " [      0.          0.          0.          0.          0.          0.\n",
      "        0.          0.    -333333.333       0.    -144000.     192000.\n",
      "   477333.333 -192000.   ]\n",
      " [      0.          0.          0.          0.          0.          0.\n",
      "        0.          0.          0.          0.     192000.    -256000.\n",
      "  -192000.     256000.   ]]\n"
     ]
    }
   ],
   "source": [
    "#Stiffness in global system\n",
    "\n",
    "K_globalCS_bar=np.zeros((nb_members, DDL*2,DDL*2))\n",
    "K_global=np.zeros((DDL*2,DDL*2))\n",
    "k_global = np.array(k_global)\n",
    "\n",
    "for i, c in enumerate(Connectivity):       \n",
    "    #we build all the global stiffness matrix for each bar in the entire system and sum them.\n",
    "    u, v = c\n",
    "    K_global[2*u-2:2*u,2*u-2:2*u] += k_global[i, 0:2, 0:2]\n",
    "    K_global[2*u-2:2*u,2*v-2:2*v] += k_global[i, 0:2, 2:4]\n",
    "    K_global[2*v-2:2*v,2*u-2:2*u] += k_global[i, 2:4, 0:2]\n",
    "    K_global[2*v-2:2*v,2*v-2:2*v] += k_global[i, 2:4, 2:4]\n",
    "    \n",
    "    K_globalCS_bar[i, 2*u-2:2*u,2*u-2:2*u] = k_global[i, 0:2, 0:2]\n",
    "    K_globalCS_bar[i, 2*u-2:2*u,2*v-2:2*v] = k_global[i, 0:2, 2:4]\n",
    "    K_globalCS_bar[i, 2*v-2:2*v,2*u-2:2*u] = k_global[i, 2:4, 0:2]\n",
    "    K_globalCS_bar[i, 2*v-2:2*v,2*v-2:2*v] = k_global[i, 2:4, 2:4]\n",
    "\n",
    "print(K_global.shape)\n",
    "print(K_global)"
   ]
  },
  {
   "cell_type": "markdown",
   "metadata": {},
   "source": [
    "Equilibrium of the entire system : K*U=R"
   ]
  },
  {
   "cell_type": "code",
   "execution_count": 22,
   "metadata": {},
   "outputs": [
    {
     "name": "stdout",
     "output_type": "stream",
     "text": [
      "[ 0.     0.     0.675 -1.385 -0.113 -2.269 -0.    -2.646  0.112 -2.269\n",
      " -0.675 -1.385  0.     0.   ]\n"
     ]
    }
   ],
   "source": [
    "#List of nodes with a load applied on it\n",
    "\n",
    "nodes_with_load=[]\n",
    "\n",
    "for i, c in enumerate(P):\n",
    "    x,y = c\n",
    "    if x!=0 or y!=0:\n",
    "        nodes_with_load.append(i)\n",
    "\n",
    "nodes_with_load=np.array(nodes_with_load)\n",
    "\n",
    "#Calculate the displacements of the nodes with a load applied\n",
    "support=[0,7]\n",
    "F_red=np.zeros(DDL*2-2*len(support))\n",
    "\n",
    "\n",
    "for i in range(DDL):\n",
    "    if i in nodes_with_load:\n",
    "        F_red[i*2-2]=P[i,0]\n",
    "        F_red[i*2-1]=P[i,1]  \n",
    "        \n",
    "a=2*(DDL-len(support)) \n",
    "K_red=np.zeros((a,a))\n",
    "K_red=K_global[2:a+2, 2:a+2]\n",
    "\n",
    "u_red=np.linalg.inv(K_red)@F_red\n",
    "\n",
    "u_vec=np.zeros(DDL*2)\n",
    "u_vec[2:DDL*2-2]=u_red[:]\n",
    "\n",
    "print(u_vec)\n"
   ]
  },
  {
   "cell_type": "code",
   "execution_count": 23,
   "metadata": {},
   "outputs": [
    {
     "name": "stdout",
     "output_type": "stream",
     "text": [
      "[ 206250.  225000.       0. -150000.       0.       0.      -0. -150000.\n",
      "      -0.       0.      -0. -150000. -206250.  225000.]\n"
     ]
    }
   ],
   "source": [
    "#Support reactions\n",
    "F = K_global @ u_vec #N\n",
    "print(F)"
   ]
  },
  {
   "cell_type": "code",
   "execution_count": 65,
   "metadata": {},
   "outputs": [
    {
     "name": "stdout",
     "output_type": "stream",
     "text": [
      "[-281250.  -37500.   93750. -225000.  -93750.   75000.  -93750. -225000.\n",
      "   93750.  -37500. -281250.]\n"
     ]
    }
   ],
   "source": [
    "#Axial forces in each bar of the truss\n",
    "\n",
    "F_bar=[]\n",
    "F_bar_reduced=np.zeros((nb_members,4))\n",
    "F_local_CS=[]\n",
    "axial_load=[]\n",
    "\n",
    "for i in range(nb_members):\n",
    "    F_bar.append(K_globalCS_bar[i,:,:]@u_vec)    \n",
    "F_bar=np.array(F_bar)\n",
    "\n",
    "for i in range(nb_members):\n",
    "    index_1=Connectivity[i,0]\n",
    "    index_2=Connectivity[i,1]\n",
    "    F_bar_reduced[i,0]=F_bar[i,(index_1-1)*2]\n",
    "    F_bar_reduced[i,1]=F_bar[i,(index_1)*2-1]\n",
    "    F_bar_reduced[i,2]=F_bar[i,(index_2-1)*2]\n",
    "    F_bar_reduced[i,3]=F_bar[i,index_2*2-1]     \n",
    "\n",
    "for i in range(nb_members):\n",
    "    F_local_CS.append(T[i]@F_bar_reduced[i])   \n",
    "F_local_CS=np.array(F_local_CS)\n",
    "\n",
    "for i in range(nb_members):\n",
    "    axial_load.append(F_local_CS[i,2])\n",
    "    \n",
    "axial_load=np.array(axial_load)\n",
    "print(axial_load)"
   ]
  },
  {
   "cell_type": "code",
   "execution_count": 68,
   "metadata": {},
   "outputs": [
    {
     "name": "stdout",
     "output_type": "stream",
     "text": [
      "[[0.0, 3000.0], [0.0, 6000.0], [3000.0, 6000.0], [3000.0, 9000.0], [6000.0, 9000.0], [6000.0, 12000.0], [9000.0, 12000.0], [9000.0, 15000.0], [12000.0, 15000.0], [12000.0, 18000.0], [15000.0, 18000.0]]\n"
     ]
    },
    {
     "data": {
      "text/plain": [
       "[<matplotlib.lines.Line2D at 0x1f1be8bbe50>]"
      ]
     },
     "execution_count": 68,
     "metadata": {},
     "output_type": "execute_result"
    },
    {
     "data": {
      "image/png": "[encoded data removed]",
      "text/plain": [
       "<Figure size 1008x504 with 1 Axes>"
      ]
     },
     "metadata": {
      "needs_background": "light"
     },
     "output_type": "display_data"
    }
   ],
   "source": [
    "#Conclusion - Results\n",
    "\n",
    "#Drawing of the truss:\n",
    "nodes_x=[]\n",
    "nodes_y=[]\n",
    "\n",
    "for i in range(DDL):\n",
    "    nodes_x.append(nodes[i,0])\n",
    "    nodes_y.append(nodes[i,1])\n",
    "    \n",
    "\n",
    "x=np.linspace(0,18000,3000)\n",
    "\n",
    "nodes_xx=[]\n",
    "nodes_yy=[]\n",
    "\n",
    "for i in range(nb_members):\n",
    "    x1=nodes[Connectivity[i,0]-1,0]\n",
    "    x2=nodes[Connectivity[i,1]-1,0]\n",
    "    y1=nodes[Connectivity[i,0]-1,1]\n",
    "    y2=nodes[Connectivity[i,1]-1,1]\n",
    "    nodes_xx.append([x1,x2])\n",
    "    nodes_yy.append([y1,y2])\n",
    "\n",
    "print(nodes_xx)\n",
    "\n",
    "for i in range(nb_members):\n",
    "#    plt.annotate(f\"{axial_load[i]}\", ((nodes_xx[i,1]-nodes_xx[i,0])/2,(nodes_yy[i,1]-nodes_yy[i,0])/2 ))\n",
    "    plt.plot(nodes_xx[i],nodes_yy[i])\n",
    "\n",
    "\n",
    "u_vec_array=u_vec.reshape((DDL,2))\n",
    "nodes_displ=nodes+u_vec_array\n",
    "\n",
    "nodes_displ_x=[]\n",
    "nodes_displ_y=[]\n",
    "\n",
    "for i in range(DDL):\n",
    "    nodes_displ_x.append(nodes_displ[i,0])\n",
    "    nodes_displ_y.append(nodes_displ[i,1])\n",
    "\n",
    "plt.plot(nodes_displ_x,nodes_displ_y,'x', label='displaced_truss', color='Green')\n"
   ]
  },
  {
   "cell_type": "code",
   "execution_count": null,
   "metadata": {},
   "outputs": [],
   "source": []
  }
 ],
 "metadata": {
  "kernelspec": {
   "display_name": "Python 3",
   "language": "python",
   "name": "python3"
  },
  "language_info": {
   "codemirror_mode": {
    "name": "ipython",
    "version": 3
   },
   "file_extension": ".py",
   "mimetype": "text/x-python",
   "name": "python",
   "nbconvert_exporter": "python",
   "pygments_lexer": "ipython3",
   "version": "3.8.3"
  }
 },
 "nbformat": 4,
 "nbformat_minor": 4
}
